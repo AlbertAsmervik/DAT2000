{
 "cells": [
  {
   "cell_type": "code",
   "execution_count": null,
   "id": "280c8504-facd-47c8-9eb7-59a5732936b3",
   "metadata": {},
   "outputs": [],
   "source": [
    "import polars as pl"
   ]
  },
  {
   "cell_type": "code",
   "execution_count": null,
   "id": "80af3958-a7ce-4a3a-82a7-f8b401394549",
   "metadata": {},
   "outputs": [],
   "source": [
    "pl_df = pl.scan_parquet(\"filer/kjoretoyinfo_fra_2000.parquet\").head(10).collect()"
   ]
  },
  {
   "cell_type": "code",
   "execution_count": null,
   "id": "adc20289-8026-4a27-aa88-72810c062873",
   "metadata": {},
   "outputs": [],
   "source": [
    "pl_df"
   ]
  },
  {
   "cell_type": "code",
   "execution_count": null,
   "id": "0912b082-8fad-4321-8c78-77c9de994f35",
   "metadata": {},
   "outputs": [],
   "source": [
    "\"\"\"\n",
    "“tekn_reg_f_g_n” er dato for førstegangsregistrering i Norge. Konverter denne\n",
    "kolonnen til en datetime. Gjør tilsvarende for “tekn_reg_eier_dato”. Vigjør dette med en \"alias\" så programmet ikke skal kræsje når vi executer igjen:\n",
    "\"\"\"\n",
    "pl_df = pl_df.with_columns([\n",
    "    pl.col(\"tekn_reg_f_g_n\").cast(str).str.strptime(pl.Datetime, \"%Y%m%d\").alias(\"tekn_reg_f_g_n_datetime\"),\n",
    "    pl.col(\"tekn_reg_eier_dato\").cast(str).str.strptime(pl.Datetime, \"%Y%m%d\").alias(\"tekn_reg_eier_dato datetime\"),\n",
    "   \n",
    "])\n",
    "\n",
    "pl_df"
   ]
  },
  {
   "cell_type": "code",
   "execution_count": null,
   "id": "e3e75238-cd5e-491b-9464-d78539c13b91",
   "metadata": {},
   "outputs": [],
   "source": [
    "#Gjør tilsvarende for “neste_pkk” og “tekn_reg_eier_dato”\n",
    "pl_df = pl_df.with_columns([\n",
    "    pl.col(\"tekn_neste_pkk\").str.strptime(pl.Datetime, \"%Y%m%d\").alias(\"tekn_neste_pkk\"),\n",
    "   \n",
    "])\n",
    "\n",
    "pl_df"
   ]
  },
  {
   "cell_type": "code",
   "execution_count": null,
   "id": "bda4b363-2c7f-49b9-a87b-1032fae06616",
   "metadata": {},
   "outputs": [],
   "source": [
    "\"\"\"\n",
    "Join inn navnet på fargen, det vil si, join “tekn_farge” med “kode” i fargekode.csv.\n",
    "Pass på at du ikke mister noen biler som vi ikke vet fargen på.\n",
    "\"\"\"\n",
    "\n",
    "# Les inn dataene fra parquet-filen\n",
    "kjoretoy_df = pl.scan_parquet(\"filer/kjoretoyinfo_fra_2000.parquet\").head(10).collect()\n",
    "\n",
    "# Les inn de første 10 radene fra CSV-filen med semikolon som skilletegn\n",
    "fargekode_df = pl.scan_csv(\"filer/fargekode.csv\", separator=\";\", truncate_ragged_lines=True).head(10).collect()\n",
    "\n",
    "kjoretoy_df = kjoretoy_df.with_columns(\n",
    "    kjoretoy_df[\"tekn_farge\"].str.strip_chars(\"0\")\n",
    ")\n",
    "\n",
    "# Konverter \"kode\" til streng og gi den et annet navn\n",
    "fargekode_df = fargekode_df.select([\n",
    "    pl.col(\"*\"),\n",
    "    pl.col(\"kode\").cast(pl.String).alias(\"fargekode\")  # Konverter \"kode\" til streng\n",
    "])\n",
    "\n",
    "# Utfør venstre join basert på kolonnene tekn_farge og kode\n",
    "joined_df = kjoretoy_df.join(\n",
    "    fargekode_df,\n",
    "    left_on=\"tekn_farge\",  # Kolonnenavn i kjoretoy_df\n",
    "    right_on=\"fargekode\",  # Kolonnenavn i fargekode_df\n",
    "    how=\"left\"\n",
    "\n",
    ")\n",
    "\n",
    "joined_df = joined_df.with_columns(\n",
    "    \"beskrivelse\",\n",
    "    pl.when(joined_df[\"kode\"].is_null()).then(pl.lit(\"Ukjent farge\")).otherwise(joined_df[\"beskrivelse\"])\n",
    ")\n",
    "\n",
    "\n",
    "# Vis de første 10 radene av resultatet\n",
    "joined_df\n",
    "\n"
   ]
  },
  {
   "cell_type": "code",
   "execution_count": null,
   "id": "cbe706f8-2243-4b17-b5e6-b2fb9139ab24",
   "metadata": {},
   "outputs": [],
   "source": [
    "#Lag en kolonne “elbil” som er sann hvis drivstofftypen er kun elektrisk, false ellers.\n",
    "\n",
    "joined_df = joined_df.with_columns(\n",
    "    \"elbil\",\n",
    "    pl.when(joined_df[\"tekn_drivstoff\"] == \"5\").then(True).otherwise(False)\n",
    ")\n",
    "joined_df"
   ]
  },
  {
   "cell_type": "code",
   "execution_count": null,
   "id": "e20e3f4e-5861-4781-97e7-7d2dff479e91",
   "metadata": {},
   "outputs": [],
   "source": [
    "# 4. \n",
    "# Lag en kolonne “elbil” som er sann hvis drivstofftypen er kun elektrisk, false ellers.\n",
    "\n",
    "df_k = df_k.with_columns(\n",
    "    elbil=pl.col(\"tekn_drivstoff\").eq(pl.lit(\"5\"))\n",
    ");"
   ]
  },
  {
   "cell_type": "code",
   "execution_count": null,
   "id": "8b7395f2-6cde-4363-8a5a-37793f0508bd",
   "metadata": {},
   "outputs": [],
   "source": [
    "# 5. \n",
    "# Hent ut bare kolonnene: tekn_reg_f_g_n, tekn_reg_eier_dato, tekn_aksler_drift, tekn_merke, tekn_modell,\n",
    "# tekn_drivstoff, tekn_neste_pkk, farge på bilen fra fargekode.csv,\n",
    "# tekn_drivstoff, kolonne som indikerer om bilen er en elbil.\n",
    "\n",
    "df_k = df_k.select(\"tekn_reg_f_g_n\", \"tekn_reg_eier_dato\", \"tekn_aksler_drift\", \"tekn_merke\", \n",
    "            \"tekn_modell\", \"tekn_drivstoff\", \"tekn_neste_pkk\", \"elbil\"\n",
    ")"
   ]
  },
  {
   "cell_type": "code",
   "execution_count": null,
   "id": "c5035e11-788d-49fb-841e-7841ef841681",
   "metadata": {},
   "outputs": [],
   "source": [
    "# 6.\n",
    "# Skriv hele datasettet til en fil: kjoretoyinfo_preppet.parquet.\n",
    "\n",
    "df_k.write_parquet(\"kjoretoyinfo_preppet.parquet\")"
   ]
  },
  {
   "cell_type": "code",
   "execution_count": null,
   "id": "8b4aec31-68df-49bc-bec9-03f742d50e8e",
   "metadata": {},
   "outputs": [],
   "source": [
    "# 7. \n",
    "# Hvor mange elbiler (drivstofftype 5) ble førstegangsregistrert i 2022?\n",
    "\n",
    "regFørsteGangElbil2022 = df_k.filter(\n",
    "    (pl.col(\"tekn_reg_f_g_n\").dt.year() == 2022) & (pl.col(\"tekn_drivstoff\") == \"5\")\n",
    ").select(\n",
    "    pl.count()\n",
    ")"
   ]
  },
  {
   "cell_type": "code",
   "execution_count": null,
   "id": "d2d83726-4a07-4cbd-9cfa-80ef438f0f31",
   "metadata": {},
   "outputs": [],
   "source": [
    "# 8.\n",
    "# Hvor mange prosent av personbilene som ble solgt i 2022 var elbiler? \n",
    "\n",
    "antSolgt2022 = df_k.filter(\n",
    "    (pl.col(\"tekn_reg_eier_dato\").dt.year() == 2022) \n",
    ").select(\n",
    "    pl.count()\n",
    ")\n",
    "\n",
    "antSolgtElbil2022 = df_k.filter(\n",
    "    (pl.col(\"tekn_reg_eier_dato\").dt.year() == 2022) & \n",
    "    (pl.col(\"tekn_drivstoff\") == \"5\") \n",
    ").select(\n",
    "    pl.count()\n",
    ")\n",
    "\n",
    "prosentAntSolgtElbil2022 = (antSolgtElbil2022 / antSolgt2022) * 100\n",
    "\n",
    "print(prosentAntSolgtElbil2022)"
   ]
  },
  {
   "cell_type": "code",
   "execution_count": null,
   "id": "5468e174-a105-44a6-97ce-de3629ba5968",
   "metadata": {},
   "outputs": [],
   "source": [
    "# 9.\n",
    "# Hvilken bilmodell var den mest populære i 2022?\n",
    "\n",
    "mestPopulærBilModell2022 = df_k.group_by(\"tekn_modell\").agg(\n",
    "    populærBil2022=pl.col(\"tekn_reg_f_g_n\").count()\n",
    ").sort(\"populærBil2022\", descending=True).limit(2)"
   ]
  },
  {
   "cell_type": "code",
   "execution_count": null,
   "id": "8872a90b-d02f-4351-a3d2-33f6b553e060",
   "metadata": {},
   "outputs": [],
   "source": [
    "# 10.\n",
    "# Hvor mange gule kjøretøy ble det solgt i Mai 2022?\n",
    "\n",
    "antSolgtgulKjøretøy2022 = df_k.filter(\n",
    "    (pl.col(\"tekn_reg_eier_dato\").dt.year() == 2022) & \n",
    "    (pl.col(\"tekn_reg_eier_dato\").dt.month() == 5) & \n",
    "    (pl.col(\"tekn_farge\") == \"09\") \n",
    ").select(\n",
    "    pl.count()\n",
    ")"
   ]
  },
  {
   "cell_type": "code",
   "execution_count": null,
   "id": "4fa5cdd5-fb1c-4b8a-ba10-bd07f3445a4c",
   "metadata": {},
   "outputs": [],
   "source": [
    "# 11. \n",
    "# Hvor stor andel av personbilene bilene som selges i Norge har firehjulstrekk?\n",
    "\n",
    "totalBilSelges = df_k.filter(\n",
    "    (pl.col(\"tekn_reg_f_g_n\") != pl.col(\"tekn_reg_eier_dato\"))\n",
    ").select(\n",
    "    pl.count()\n",
    ")\n",
    "\n",
    "bilSelgeFirehjulstrekk = df_k.filter(\n",
    "    (pl.col(\"tekn_reg_f_g_n\") != pl.col(\"tekn_reg_eier_dato\")) & \n",
    "    (pl.col(\"tekn_aksler_drift\") == 4) \n",
    ").select(\n",
    "    pl.count()\n",
    ")\n",
    "\n",
    "prosentBilSelgeFirehjulstrekk = (bilSelgeFirehjulstrekk / antBilSelges) * 100"
   ]
  },
  {
   "cell_type": "code",
   "execution_count": null,
   "id": "b659b163-0eb3-46dc-9eb5-c65f14728900",
   "metadata": {},
   "outputs": [],
   "source": [
    "# 12. \n",
    "# Hvilken måned i året førstegangsregistreres det flest biler i Norge?\n",
    "\n",
    "regMåned = df_k.group_by(pl.col(\"tekn_reg_f_g_n\").dt.month()).agg(\n",
    "    regMåned=pl.col(\"tekn_reg_f_g_n\").count()\n",
    ").sort(\"regMåned\", descending=True).limit(1)\n",
    "\n",
    "regMåned.head(1)"
   ]
  },
  {
   "cell_type": "code",
   "execution_count": null,
   "id": "73cb6002-2bb5-4d6a-9d25-ebdce938b82e",
   "metadata": {},
   "outputs": [],
   "source": [
    "# 13. \n",
    "# Hva var den mest populære fargen for biler som var førstegangsregistrert i Norge i hvert år?\n"
   ]
  },
  {
   "cell_type": "code",
   "execution_count": null,
   "id": "af3835a5-8d96-41a9-83e2-047e29099d1f",
   "metadata": {},
   "outputs": [],
   "source": [
    "# 14. \n",
    "# Hvilken farge var den mest populære for traktorer i 2022? (se teknisk-kode.csv)\n",
    "\n",
    "fargeTraktor2022 = df_k.filter(\n",
    "    (pl.col(\"tekn_reg_eier_dato\").dt.year() == 2022) & \n",
    "    (pl.col(\"tekn_tknavn\") == \"TR\")\n",
    ").group_by(\"tekn_farge\").agg(\n",
    "    fargeTraktor2022=pl.count()\n",
    ").sort(\"fargeTraktor2022\", descending=True)"
   ]
  },
  {
   "cell_type": "code",
   "execution_count": null,
   "id": "b5191f99-33ac-4040-862b-24e5d2a81c22",
   "metadata": {},
   "outputs": [],
   "source": [
    "# 15. \n",
    "# Hvilke bilmerker var de fem mest populære i 2022?\n",
    "\n",
    "most_popular_colors_by_model = df_k.group_by(\"tekn_modell\").agg(\n",
    "    populærBil2022=pl.col(\"tekn_reg_f_g_n\").count()\n",
    ").sort(\"populærBil2022\", descending=True).limit(5)"
   ]
  },
  {
   "cell_type": "markdown",
   "id": "0c58b2aa",
   "metadata": {},
   "source": []
  },
  {
   "cell_type": "code",
   "execution_count": null,
   "id": "811ea711-fa86-46da-80dc-623aa51b12b4",
   "metadata": {},
   "outputs": [],
   "source": [
    "# 16. \n",
    "# Hva var den mest populære fargen for de fem mest populære bilmerkene i 2022 (førstegangsregistrert 2022)?\n",
    "\n"
   ]
  }
 ],
 "metadata": {
  "kernelspec": {
   "display_name": "Python 3.10.6 64-bit",
   "language": "python",
   "name": "python3"
  },
  "language_info": {
   "codemirror_mode": {
    "name": "ipython",
    "version": 3
   },
   "file_extension": ".py",
   "mimetype": "text/x-python",
   "name": "python",
   "nbconvert_exporter": "python",
   "pygments_lexer": "ipython3",
   "version": "3.10.6"
  },
  "vscode": {
   "interpreter": {
    "hash": "aee8b7b246df8f9039afb4144a1f6fd8d2ca17a180786b69acc140d282b71a49"
   }
  }
 },
 "nbformat": 4,
 "nbformat_minor": 5
}

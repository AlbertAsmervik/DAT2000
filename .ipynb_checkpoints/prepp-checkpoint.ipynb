{
 "cells": [
  {
   "cell_type": "code",
   "execution_count": 241,
   "id": "280c8504-facd-47c8-9eb7-59a5732936b3",
   "metadata": {},
   "outputs": [],
   "source": [
    "import polars as pl"
   ]
  },
  {
   "cell_type": "code",
   "execution_count": 242,
   "id": "80af3958-a7ce-4a3a-82a7-f8b401394549",
   "metadata": {},
   "outputs": [
    {
     "data": {
      "text/html": [
       "<div><style>\n",
       ".dataframe > thead > tr,\n",
       ".dataframe > tbody > tr {\n",
       "  text-align: right;\n",
       "  white-space: pre-wrap;\n",
       "}\n",
       "</style>\n",
       "<small>shape: (3_207_748, 11)</small><table border=\"1\" class=\"dataframe\"><thead><tr><th>tekn_reg_f_g</th><th>tekn_reg_f_g_n</th><th>tekn_reg_eier_dato</th><th>tekn_merke</th><th>tekn_modell</th><th>tekn_farge</th><th>tekn_drivstoff</th><th>tekn_siste_pkk</th><th>tekn_neste_pkk</th><th>tekn_aksler_drift</th><th>tekn_sitteplasser_totalt</th></tr><tr><td>i64</td><td>i64</td><td>i64</td><td>i64</td><td>str</td><td>str</td><td>str</td><td>str</td><td>str</td><td>i64</td><td>i64</td></tr></thead><tbody><tr><td>20211013</td><td>20211013</td><td>20211013</td><td>3900</td><td>&quot;VITO&quot;</td><td>&quot;05&quot;</td><td>&quot;2&quot;</td><td>null</td><td>&quot;20251013&quot;</td><td>2</td><td>3</td></tr><tr><td>20200129</td><td>20200129</td><td>20200129</td><td>5750</td><td>&quot;CADDY&quot;</td><td>&quot;06&quot;</td><td>&quot;2&quot;</td><td>&quot;20231205&quot;</td><td>&quot;20260129&quot;</td><td>2</td><td>2</td></tr><tr><td>20231129</td><td>20231129</td><td>20231129</td><td>2600</td><td>&quot;Mustang Mach-E…</td><td>&quot;06&quot;</td><td>&quot;5&quot;</td><td>null</td><td>&quot;20271129&quot;</td><td>1</td><td>5</td></tr><tr><td>20200127</td><td>20200127</td><td>20200127</td><td>5750</td><td>&quot;CADDY&quot;</td><td>&quot;01&quot;</td><td>&quot;2&quot;</td><td>null</td><td>&quot;20240127&quot;</td><td>2</td><td>2</td></tr><tr><td>20180731</td><td>20190130</td><td>20190130</td><td>2600</td><td>&quot;F-150 Platinum…</td><td>&quot;06&quot;</td><td>&quot;2&quot;</td><td>&quot;20220503&quot;</td><td>&quot;20240503&quot;</td><td>2</td><td>2</td></tr><tr><td>20200519</td><td>20200519</td><td>20200519</td><td>5750</td><td>&quot;CRAFTER&quot;</td><td>&quot;01&quot;</td><td>&quot;2&quot;</td><td>null</td><td>&quot;20240519&quot;</td><td>1</td><td>3</td></tr><tr><td>20200911</td><td>20200911</td><td>20220216</td><td>5150</td><td>&quot;CITIGO&quot;</td><td>&quot;01&quot;</td><td>&quot;5&quot;</td><td>null</td><td>&quot;20240911&quot;</td><td>1</td><td>4</td></tr><tr><td>20220512</td><td>20220512</td><td>20220512</td><td>5480</td><td>&quot;YARIS&quot;</td><td>&quot;04&quot;</td><td>&quot;1,5&quot;</td><td>null</td><td>&quot;20260512&quot;</td><td>1</td><td>5</td></tr><tr><td>20221104</td><td>20221104</td><td>20221104</td><td>5480</td><td>&quot;RAV4&quot;</td><td>&quot;06&quot;</td><td>&quot;1,5,5&quot;</td><td>null</td><td>&quot;20261104&quot;</td><td>2</td><td>5</td></tr><tr><td>20210421</td><td>20210421</td><td>20210421</td><td>5480</td><td>&quot;TOYOTA LAND CR…</td><td>&quot;01&quot;</td><td>&quot;2&quot;</td><td>null</td><td>&quot;20250421&quot;</td><td>2</td><td>2</td></tr><tr><td>20120127</td><td>20120127</td><td>20190219</td><td>5800</td><td>&quot;XC60&quot;</td><td>&quot;01&quot;</td><td>&quot;2&quot;</td><td>&quot;20220624&quot;</td><td>&quot;20240624&quot;</td><td>2</td><td>5</td></tr><tr><td>20231027</td><td>20231027</td><td>20231027</td><td>8670</td><td>&quot;N175&quot;</td><td>&quot;06&quot;</td><td>&quot;2&quot;</td><td>&quot;20271027&quot;</td><td>&quot;79&quot;</td><td>2</td><td>2</td></tr><tr><td>&hellip;</td><td>&hellip;</td><td>&hellip;</td><td>&hellip;</td><td>&hellip;</td><td>&hellip;</td><td>&hellip;</td><td>&hellip;</td><td>&hellip;</td><td>&hellip;</td><td>&hellip;</td></tr><tr><td>20031022</td><td>20031022</td><td>20031022</td><td>5150</td><td>&quot;FABIA&quot;</td><td>&quot;05&quot;</td><td>&quot;1&quot;</td><td>&quot;20171213&quot;</td><td>null</td><td>0</td><td>5</td></tr><tr><td>20081113</td><td>20081113</td><td>20170908</td><td>5800</td><td>&quot;FH-480&quot;</td><td>&quot;01&quot;</td><td>&quot;2&quot;</td><td>&quot;20190308&quot;</td><td>&quot;20200308&quot;</td><td>0</td><td>2</td></tr><tr><td>20070104</td><td>20070104</td><td>20070104</td><td>5480</td><td>&quot;COROLLA&quot;</td><td>&quot;11&quot;</td><td>&quot;2&quot;</td><td>&quot;20230420&quot;</td><td>&quot;20250430&quot;</td><td>0</td><td>5</td></tr><tr><td>20180131</td><td>20180131</td><td>20230804</td><td>2600</td><td>&quot;GALAXY&quot;</td><td>&quot;06&quot;</td><td>&quot;2&quot;</td><td>&quot;20231130&quot;</td><td>&quot;20260131&quot;</td><td>2</td><td>2</td></tr><tr><td>20180404</td><td>20180404</td><td>20180404</td><td>2001</td><td>&quot;NISSAN LEAF 40…</td><td>&quot;06&quot;</td><td>&quot;5&quot;</td><td>&quot;20220810&quot;</td><td>&quot;20240831&quot;</td><td>1</td><td>5</td></tr><tr><td>20170524</td><td>20170524</td><td>20181008</td><td>5480</td><td>&quot;C-HR&quot;</td><td>&quot;05&quot;</td><td>&quot;1&quot;</td><td>&quot;20230913&quot;</td><td>&quot;20250930&quot;</td><td>2</td><td>5</td></tr><tr><td>19951102</td><td>20060410</td><td>20201113</td><td>1400</td><td>&quot;728IA&quot;</td><td>&quot;06&quot;</td><td>&quot;1&quot;</td><td>&quot;20170130&quot;</td><td>&quot;20190131&quot;</td><td>0</td><td>5</td></tr><tr><td>20031127</td><td>20031127</td><td>20170610</td><td>4350</td><td>&quot;ZAFIRA-A&quot;</td><td>&quot;11&quot;</td><td>&quot;1&quot;</td><td>&quot;20190514&quot;</td><td>&quot;20210430&quot;</td><td>0</td><td>7</td></tr><tr><td>20140117</td><td>20140117</td><td>20180731</td><td>2600</td><td>&quot;RANGER&quot;</td><td>&quot;05&quot;</td><td>&quot;2&quot;</td><td>&quot;20220511&quot;</td><td>&quot;20240630&quot;</td><td>2</td><td>2</td></tr><tr><td>20080331</td><td>20080331</td><td>20230728</td><td>3930</td><td>&quot;MX-5&quot;</td><td>&quot;05&quot;</td><td>&quot;1&quot;</td><td>&quot;20230816&quot;</td><td>&quot;20250816&quot;</td><td>0</td><td>2</td></tr><tr><td>20150731</td><td>20150731</td><td>20230630</td><td>4500</td><td>&quot;iOn&quot;</td><td>&quot;01&quot;</td><td>&quot;5&quot;</td><td>&quot;20230320&quot;</td><td>&quot;20250331&quot;</td><td>1</td><td>4</td></tr><tr><td>20040921</td><td>20040921</td><td>20140120</td><td>5750</td><td>&quot;POLO&quot;</td><td>&quot;11&quot;</td><td>&quot;1&quot;</td><td>&quot;20141017&quot;</td><td>null</td><td>0</td><td>5</td></tr></tbody></table></div>"
      ],
      "text/plain": [
       "shape: (3_207_748, 11)\n",
       "┌──────────────┬────────────────┬────────────────────┬────────────┬───┬────────────────┬────────────────┬───────────────────┬──────────────────────┐\n",
       "│ tekn_reg_f_g ┆ tekn_reg_f_g_n ┆ tekn_reg_eier_dato ┆ tekn_merke ┆ … ┆ tekn_siste_pkk ┆ tekn_neste_pkk ┆ tekn_aksler_drift ┆ tekn_sitteplasser_to │\n",
       "│ ---          ┆ ---            ┆ ---                ┆ ---        ┆   ┆ ---            ┆ ---            ┆ ---               ┆ talt                 │\n",
       "│ i64          ┆ i64            ┆ i64                ┆ i64        ┆   ┆ str            ┆ str            ┆ i64               ┆ ---                  │\n",
       "│              ┆                ┆                    ┆            ┆   ┆                ┆                ┆                   ┆ i64                  │\n",
       "╞══════════════╪════════════════╪════════════════════╪════════════╪═══╪════════════════╪════════════════╪═══════════════════╪══════════════════════╡\n",
       "│ 20211013     ┆ 20211013       ┆ 20211013           ┆ 3900       ┆ … ┆ null           ┆ 20251013       ┆ 2                 ┆ 3                    │\n",
       "│ 20200129     ┆ 20200129       ┆ 20200129           ┆ 5750       ┆ … ┆ 20231205       ┆ 20260129       ┆ 2                 ┆ 2                    │\n",
       "│ 20231129     ┆ 20231129       ┆ 20231129           ┆ 2600       ┆ … ┆ null           ┆ 20271129       ┆ 1                 ┆ 5                    │\n",
       "│ 20200127     ┆ 20200127       ┆ 20200127           ┆ 5750       ┆ … ┆ null           ┆ 20240127       ┆ 2                 ┆ 2                    │\n",
       "│ 20180731     ┆ 20190130       ┆ 20190130           ┆ 2600       ┆ … ┆ 20220503       ┆ 20240503       ┆ 2                 ┆ 2                    │\n",
       "│ …            ┆ …              ┆ …                  ┆ …          ┆ … ┆ …              ┆ …              ┆ …                 ┆ …                    │\n",
       "│ 20031127     ┆ 20031127       ┆ 20170610           ┆ 4350       ┆ … ┆ 20190514       ┆ 20210430       ┆ 0                 ┆ 7                    │\n",
       "│ 20140117     ┆ 20140117       ┆ 20180731           ┆ 2600       ┆ … ┆ 20220511       ┆ 20240630       ┆ 2                 ┆ 2                    │\n",
       "│ 20080331     ┆ 20080331       ┆ 20230728           ┆ 3930       ┆ … ┆ 20230816       ┆ 20250816       ┆ 0                 ┆ 2                    │\n",
       "│ 20150731     ┆ 20150731       ┆ 20230630           ┆ 4500       ┆ … ┆ 20230320       ┆ 20250331       ┆ 1                 ┆ 4                    │\n",
       "│ 20040921     ┆ 20040921       ┆ 20140120           ┆ 5750       ┆ … ┆ 20141017       ┆ null           ┆ 0                 ┆ 5                    │\n",
       "└──────────────┴────────────────┴────────────────────┴────────────┴───┴────────────────┴────────────────┴───────────────────┴──────────────────────┘"
      ]
     },
     "execution_count": 242,
     "metadata": {},
     "output_type": "execute_result"
    }
   ],
   "source": [
    "# 1.\n",
    "# Les inn kjoretoyinfo_fra_[putt_inn_år].parquet. Bruk pl.scan_parquet.\n",
    "\n",
    "pl_df = pl.scan_parquet(\"filer/kjoretoyinfo_fra_2000.parquet\").collect()\n",
    "\n",
    "pl_df"
   ]
  },
  {
   "cell_type": "code",
   "execution_count": 243,
   "id": "0912b082-8fad-4321-8c78-77c9de994f35",
   "metadata": {},
   "outputs": [
    {
     "data": {
      "text/html": [
       "<div><style>\n",
       ".dataframe > thead > tr,\n",
       ".dataframe > tbody > tr {\n",
       "  text-align: right;\n",
       "  white-space: pre-wrap;\n",
       "}\n",
       "</style>\n",
       "<small>shape: (3_207_748, 11)</small><table border=\"1\" class=\"dataframe\"><thead><tr><th>tekn_reg_f_g</th><th>tekn_reg_f_g_n</th><th>tekn_reg_eier_dato</th><th>tekn_merke</th><th>tekn_modell</th><th>tekn_farge</th><th>tekn_drivstoff</th><th>tekn_siste_pkk</th><th>tekn_neste_pkk</th><th>tekn_aksler_drift</th><th>tekn_sitteplasser_totalt</th></tr><tr><td>i64</td><td>date</td><td>date</td><td>i64</td><td>str</td><td>str</td><td>str</td><td>str</td><td>date</td><td>i64</td><td>i64</td></tr></thead><tbody><tr><td>20211013</td><td>2021-10-13</td><td>2021-10-13</td><td>3900</td><td>&quot;VITO&quot;</td><td>&quot;05&quot;</td><td>&quot;2&quot;</td><td>null</td><td>2025-10-13</td><td>2</td><td>3</td></tr><tr><td>20200129</td><td>2020-01-29</td><td>2020-01-29</td><td>5750</td><td>&quot;CADDY&quot;</td><td>&quot;06&quot;</td><td>&quot;2&quot;</td><td>&quot;20231205&quot;</td><td>2026-01-29</td><td>2</td><td>2</td></tr><tr><td>20231129</td><td>2023-11-29</td><td>2023-11-29</td><td>2600</td><td>&quot;Mustang Mach-E…</td><td>&quot;06&quot;</td><td>&quot;5&quot;</td><td>null</td><td>2027-11-29</td><td>1</td><td>5</td></tr><tr><td>20200127</td><td>2020-01-27</td><td>2020-01-27</td><td>5750</td><td>&quot;CADDY&quot;</td><td>&quot;01&quot;</td><td>&quot;2&quot;</td><td>null</td><td>2024-01-27</td><td>2</td><td>2</td></tr><tr><td>20180731</td><td>2019-01-30</td><td>2019-01-30</td><td>2600</td><td>&quot;F-150 Platinum…</td><td>&quot;06&quot;</td><td>&quot;2&quot;</td><td>&quot;20220503&quot;</td><td>2024-05-03</td><td>2</td><td>2</td></tr><tr><td>20200519</td><td>2020-05-19</td><td>2020-05-19</td><td>5750</td><td>&quot;CRAFTER&quot;</td><td>&quot;01&quot;</td><td>&quot;2&quot;</td><td>null</td><td>2024-05-19</td><td>1</td><td>3</td></tr><tr><td>20200911</td><td>2020-09-11</td><td>2022-02-16</td><td>5150</td><td>&quot;CITIGO&quot;</td><td>&quot;01&quot;</td><td>&quot;5&quot;</td><td>null</td><td>2024-09-11</td><td>1</td><td>4</td></tr><tr><td>20220512</td><td>2022-05-12</td><td>2022-05-12</td><td>5480</td><td>&quot;YARIS&quot;</td><td>&quot;04&quot;</td><td>&quot;1,5&quot;</td><td>null</td><td>2026-05-12</td><td>1</td><td>5</td></tr><tr><td>20221104</td><td>2022-11-04</td><td>2022-11-04</td><td>5480</td><td>&quot;RAV4&quot;</td><td>&quot;06&quot;</td><td>&quot;1,5,5&quot;</td><td>null</td><td>2026-11-04</td><td>2</td><td>5</td></tr><tr><td>20210421</td><td>2021-04-21</td><td>2021-04-21</td><td>5480</td><td>&quot;TOYOTA LAND CR…</td><td>&quot;01&quot;</td><td>&quot;2&quot;</td><td>null</td><td>2025-04-21</td><td>2</td><td>2</td></tr><tr><td>20120127</td><td>2012-01-27</td><td>2019-02-19</td><td>5800</td><td>&quot;XC60&quot;</td><td>&quot;01&quot;</td><td>&quot;2&quot;</td><td>&quot;20220624&quot;</td><td>2024-06-24</td><td>2</td><td>5</td></tr><tr><td>20231027</td><td>2023-10-27</td><td>2023-10-27</td><td>8670</td><td>&quot;N175&quot;</td><td>&quot;06&quot;</td><td>&quot;2&quot;</td><td>&quot;20271027&quot;</td><td>null</td><td>2</td><td>2</td></tr><tr><td>&hellip;</td><td>&hellip;</td><td>&hellip;</td><td>&hellip;</td><td>&hellip;</td><td>&hellip;</td><td>&hellip;</td><td>&hellip;</td><td>&hellip;</td><td>&hellip;</td><td>&hellip;</td></tr><tr><td>20031022</td><td>2003-10-22</td><td>2003-10-22</td><td>5150</td><td>&quot;FABIA&quot;</td><td>&quot;05&quot;</td><td>&quot;1&quot;</td><td>&quot;20171213&quot;</td><td>null</td><td>0</td><td>5</td></tr><tr><td>20081113</td><td>2008-11-13</td><td>2017-09-08</td><td>5800</td><td>&quot;FH-480&quot;</td><td>&quot;01&quot;</td><td>&quot;2&quot;</td><td>&quot;20190308&quot;</td><td>2020-03-08</td><td>0</td><td>2</td></tr><tr><td>20070104</td><td>2007-01-04</td><td>2007-01-04</td><td>5480</td><td>&quot;COROLLA&quot;</td><td>&quot;11&quot;</td><td>&quot;2&quot;</td><td>&quot;20230420&quot;</td><td>2025-04-30</td><td>0</td><td>5</td></tr><tr><td>20180131</td><td>2018-01-31</td><td>2023-08-04</td><td>2600</td><td>&quot;GALAXY&quot;</td><td>&quot;06&quot;</td><td>&quot;2&quot;</td><td>&quot;20231130&quot;</td><td>2026-01-31</td><td>2</td><td>2</td></tr><tr><td>20180404</td><td>2018-04-04</td><td>2018-04-04</td><td>2001</td><td>&quot;NISSAN LEAF 40…</td><td>&quot;06&quot;</td><td>&quot;5&quot;</td><td>&quot;20220810&quot;</td><td>2024-08-31</td><td>1</td><td>5</td></tr><tr><td>20170524</td><td>2017-05-24</td><td>2018-10-08</td><td>5480</td><td>&quot;C-HR&quot;</td><td>&quot;05&quot;</td><td>&quot;1&quot;</td><td>&quot;20230913&quot;</td><td>2025-09-30</td><td>2</td><td>5</td></tr><tr><td>19951102</td><td>2006-04-10</td><td>2020-11-13</td><td>1400</td><td>&quot;728IA&quot;</td><td>&quot;06&quot;</td><td>&quot;1&quot;</td><td>&quot;20170130&quot;</td><td>2019-01-31</td><td>0</td><td>5</td></tr><tr><td>20031127</td><td>2003-11-27</td><td>2017-06-10</td><td>4350</td><td>&quot;ZAFIRA-A&quot;</td><td>&quot;11&quot;</td><td>&quot;1&quot;</td><td>&quot;20190514&quot;</td><td>2021-04-30</td><td>0</td><td>7</td></tr><tr><td>20140117</td><td>2014-01-17</td><td>2018-07-31</td><td>2600</td><td>&quot;RANGER&quot;</td><td>&quot;05&quot;</td><td>&quot;2&quot;</td><td>&quot;20220511&quot;</td><td>2024-06-30</td><td>2</td><td>2</td></tr><tr><td>20080331</td><td>2008-03-31</td><td>2023-07-28</td><td>3930</td><td>&quot;MX-5&quot;</td><td>&quot;05&quot;</td><td>&quot;1&quot;</td><td>&quot;20230816&quot;</td><td>2025-08-16</td><td>0</td><td>2</td></tr><tr><td>20150731</td><td>2015-07-31</td><td>2023-06-30</td><td>4500</td><td>&quot;iOn&quot;</td><td>&quot;01&quot;</td><td>&quot;5&quot;</td><td>&quot;20230320&quot;</td><td>2025-03-31</td><td>1</td><td>4</td></tr><tr><td>20040921</td><td>2004-09-21</td><td>2014-01-20</td><td>5750</td><td>&quot;POLO&quot;</td><td>&quot;11&quot;</td><td>&quot;1&quot;</td><td>&quot;20141017&quot;</td><td>null</td><td>0</td><td>5</td></tr></tbody></table></div>"
      ],
      "text/plain": [
       "shape: (3_207_748, 11)\n",
       "┌──────────────┬────────────────┬────────────────────┬────────────┬───┬────────────────┬────────────────┬───────────────────┬──────────────────────┐\n",
       "│ tekn_reg_f_g ┆ tekn_reg_f_g_n ┆ tekn_reg_eier_dato ┆ tekn_merke ┆ … ┆ tekn_siste_pkk ┆ tekn_neste_pkk ┆ tekn_aksler_drift ┆ tekn_sitteplasser_to │\n",
       "│ ---          ┆ ---            ┆ ---                ┆ ---        ┆   ┆ ---            ┆ ---            ┆ ---               ┆ talt                 │\n",
       "│ i64          ┆ date           ┆ date               ┆ i64        ┆   ┆ str            ┆ date           ┆ i64               ┆ ---                  │\n",
       "│              ┆                ┆                    ┆            ┆   ┆                ┆                ┆                   ┆ i64                  │\n",
       "╞══════════════╪════════════════╪════════════════════╪════════════╪═══╪════════════════╪════════════════╪═══════════════════╪══════════════════════╡\n",
       "│ 20211013     ┆ 2021-10-13     ┆ 2021-10-13         ┆ 3900       ┆ … ┆ null           ┆ 2025-10-13     ┆ 2                 ┆ 3                    │\n",
       "│ 20200129     ┆ 2020-01-29     ┆ 2020-01-29         ┆ 5750       ┆ … ┆ 20231205       ┆ 2026-01-29     ┆ 2                 ┆ 2                    │\n",
       "│ 20231129     ┆ 2023-11-29     ┆ 2023-11-29         ┆ 2600       ┆ … ┆ null           ┆ 2027-11-29     ┆ 1                 ┆ 5                    │\n",
       "│ 20200127     ┆ 2020-01-27     ┆ 2020-01-27         ┆ 5750       ┆ … ┆ null           ┆ 2024-01-27     ┆ 2                 ┆ 2                    │\n",
       "│ 20180731     ┆ 2019-01-30     ┆ 2019-01-30         ┆ 2600       ┆ … ┆ 20220503       ┆ 2024-05-03     ┆ 2                 ┆ 2                    │\n",
       "│ …            ┆ …              ┆ …                  ┆ …          ┆ … ┆ …              ┆ …              ┆ …                 ┆ …                    │\n",
       "│ 20031127     ┆ 2003-11-27     ┆ 2017-06-10         ┆ 4350       ┆ … ┆ 20190514       ┆ 2021-04-30     ┆ 0                 ┆ 7                    │\n",
       "│ 20140117     ┆ 2014-01-17     ┆ 2018-07-31         ┆ 2600       ┆ … ┆ 20220511       ┆ 2024-06-30     ┆ 2                 ┆ 2                    │\n",
       "│ 20080331     ┆ 2008-03-31     ┆ 2023-07-28         ┆ 3930       ┆ … ┆ 20230816       ┆ 2025-08-16     ┆ 0                 ┆ 2                    │\n",
       "│ 20150731     ┆ 2015-07-31     ┆ 2023-06-30         ┆ 4500       ┆ … ┆ 20230320       ┆ 2025-03-31     ┆ 1                 ┆ 4                    │\n",
       "│ 20040921     ┆ 2004-09-21     ┆ 2014-01-20         ┆ 5750       ┆ … ┆ 20141017       ┆ null           ┆ 0                 ┆ 5                    │\n",
       "└──────────────┴────────────────┴────────────────────┴────────────┴───┴────────────────┴────────────────┴───────────────────┴──────────────────────┘"
      ]
     },
     "execution_count": 243,
     "metadata": {},
     "output_type": "execute_result"
    }
   ],
   "source": [
    "# 2. \n",
    "# “tekn_reg_f_g_n” er dato for førstegangsregistrering i Norge. \n",
    "# Konverter denne kolonnen til en datetime.\n",
    "# Gjør tilsvarende for “neste_pkk” og “tekn_reg_eier_dato”.\n",
    "\n",
    "pl_df = pl_df.with_columns(\n",
    "    tekn_reg_f_g_n = pl.col(\"tekn_reg_f_g_n\").cast(str).str.pad_start(8, \"0\").str.to_date(format=\"%Y%m%d\"),\n",
    "    tekn_neste_pkk = pl.when(\n",
    "        pl.col(\"tekn_neste_pkk\").str.len_bytes() == 8\n",
    "    ).then(\n",
    "        pl.col(\"tekn_neste_pkk\").cast(str).str.pad_start(8, \"0\").str.to_date(format=\"%Y%m%d\", strict=False)\n",
    "    ).otherwise(\n",
    "        pl.lit(None)\n",
    "    ),\n",
    "    tekn_reg_eier_dato = pl.col(\"tekn_reg_eier_dato\").cast(str).str.pad_start(8, \"0\").str.to_date(format=\"%Y%m%d\")\n",
    ")\n",
    "\n",
    "pl_df"
   ]
  },
  {
   "cell_type": "code",
   "execution_count": 244,
   "id": "bda4b363-2c7f-49b9-a87b-1032fae06616",
   "metadata": {},
   "outputs": [
    {
     "data": {
      "text/html": [
       "<div><style>\n",
       ".dataframe > thead > tr,\n",
       ".dataframe > tbody > tr {\n",
       "  text-align: right;\n",
       "  white-space: pre-wrap;\n",
       "}\n",
       "</style>\n",
       "<small>shape: (3_207_748, 13)</small><table border=\"1\" class=\"dataframe\"><thead><tr><th>tekn_reg_f_g</th><th>tekn_reg_f_g_n</th><th>tekn_reg_eier_dato</th><th>tekn_merke</th><th>tekn_modell</th><th>tekn_farge</th><th>tekn_drivstoff</th><th>tekn_siste_pkk</th><th>tekn_neste_pkk</th><th>tekn_aksler_drift</th><th>tekn_sitteplasser_totalt</th><th>kode</th><th>beskrivelse</th></tr><tr><td>i64</td><td>i64</td><td>i64</td><td>i64</td><td>str</td><td>str</td><td>str</td><td>str</td><td>str</td><td>i64</td><td>i64</td><td>i64</td><td>str</td></tr></thead><tbody><tr><td>20211013</td><td>20211013</td><td>20211013</td><td>3900</td><td>&quot;VITO&quot;</td><td>&quot;5&quot;</td><td>&quot;2&quot;</td><td>null</td><td>&quot;20251013&quot;</td><td>2</td><td>3</td><td>5</td><td>&quot;Grå&quot;</td></tr><tr><td>20200129</td><td>20200129</td><td>20200129</td><td>5750</td><td>&quot;CADDY&quot;</td><td>&quot;6&quot;</td><td>&quot;2&quot;</td><td>&quot;20231205&quot;</td><td>&quot;20260129&quot;</td><td>2</td><td>2</td><td>6</td><td>&quot;Svart (også bl…</td></tr><tr><td>20231129</td><td>20231129</td><td>20231129</td><td>2600</td><td>&quot;Mustang Mach-E…</td><td>&quot;6&quot;</td><td>&quot;5&quot;</td><td>null</td><td>&quot;20271129&quot;</td><td>1</td><td>5</td><td>6</td><td>&quot;Svart (også bl…</td></tr><tr><td>20200127</td><td>20200127</td><td>20200127</td><td>5750</td><td>&quot;CADDY&quot;</td><td>&quot;1&quot;</td><td>&quot;2&quot;</td><td>null</td><td>&quot;20240127&quot;</td><td>2</td><td>2</td><td>1</td><td>&quot;Hvit (også ant…</td></tr><tr><td>20180731</td><td>20190130</td><td>20190130</td><td>2600</td><td>&quot;F-150 Platinum…</td><td>&quot;6&quot;</td><td>&quot;2&quot;</td><td>&quot;20220503&quot;</td><td>&quot;20240503&quot;</td><td>2</td><td>2</td><td>6</td><td>&quot;Svart (også bl…</td></tr><tr><td>20200519</td><td>20200519</td><td>20200519</td><td>5750</td><td>&quot;CRAFTER&quot;</td><td>&quot;1&quot;</td><td>&quot;2&quot;</td><td>null</td><td>&quot;20240519&quot;</td><td>1</td><td>3</td><td>1</td><td>&quot;Hvit (også ant…</td></tr><tr><td>20200911</td><td>20200911</td><td>20220216</td><td>5150</td><td>&quot;CITIGO&quot;</td><td>&quot;1&quot;</td><td>&quot;5&quot;</td><td>null</td><td>&quot;20240911&quot;</td><td>1</td><td>4</td><td>1</td><td>&quot;Hvit (også ant…</td></tr><tr><td>20220512</td><td>20220512</td><td>20220512</td><td>5480</td><td>&quot;YARIS&quot;</td><td>&quot;4&quot;</td><td>&quot;1,5&quot;</td><td>null</td><td>&quot;20260512&quot;</td><td>1</td><td>5</td><td>4</td><td>&quot;Grønn (også gr…</td></tr><tr><td>20221104</td><td>20221104</td><td>20221104</td><td>5480</td><td>&quot;RAV4&quot;</td><td>&quot;6&quot;</td><td>&quot;1,5,5&quot;</td><td>null</td><td>&quot;20261104&quot;</td><td>2</td><td>5</td><td>6</td><td>&quot;Svart (også bl…</td></tr><tr><td>20210421</td><td>20210421</td><td>20210421</td><td>5480</td><td>&quot;TOYOTA LAND CR…</td><td>&quot;1&quot;</td><td>&quot;2&quot;</td><td>null</td><td>&quot;20250421&quot;</td><td>2</td><td>2</td><td>1</td><td>&quot;Hvit (også ant…</td></tr><tr><td>20120127</td><td>20120127</td><td>20190219</td><td>5800</td><td>&quot;XC60&quot;</td><td>&quot;1&quot;</td><td>&quot;2&quot;</td><td>&quot;20220624&quot;</td><td>&quot;20240624&quot;</td><td>2</td><td>5</td><td>1</td><td>&quot;Hvit (også ant…</td></tr><tr><td>20231027</td><td>20231027</td><td>20231027</td><td>8670</td><td>&quot;N175&quot;</td><td>&quot;6&quot;</td><td>&quot;2&quot;</td><td>&quot;20271027&quot;</td><td>&quot;79&quot;</td><td>2</td><td>2</td><td>6</td><td>&quot;Svart (også bl…</td></tr><tr><td>&hellip;</td><td>&hellip;</td><td>&hellip;</td><td>&hellip;</td><td>&hellip;</td><td>&hellip;</td><td>&hellip;</td><td>&hellip;</td><td>&hellip;</td><td>&hellip;</td><td>&hellip;</td><td>&hellip;</td><td>&hellip;</td></tr><tr><td>20031022</td><td>20031022</td><td>20031022</td><td>5150</td><td>&quot;FABIA&quot;</td><td>&quot;5&quot;</td><td>&quot;1&quot;</td><td>&quot;20171213&quot;</td><td>null</td><td>0</td><td>5</td><td>5</td><td>&quot;Grå&quot;</td></tr><tr><td>20081113</td><td>20081113</td><td>20170908</td><td>5800</td><td>&quot;FH-480&quot;</td><td>&quot;1&quot;</td><td>&quot;2&quot;</td><td>&quot;20190308&quot;</td><td>&quot;20200308&quot;</td><td>0</td><td>2</td><td>1</td><td>&quot;Hvit (også ant…</td></tr><tr><td>20070104</td><td>20070104</td><td>20070104</td><td>5480</td><td>&quot;COROLLA&quot;</td><td>&quot;11&quot;</td><td>&quot;2&quot;</td><td>&quot;20230420&quot;</td><td>&quot;20250430&quot;</td><td>0</td><td>5</td><td>11</td><td>&quot;Sølv (også søl…</td></tr><tr><td>20180131</td><td>20180131</td><td>20230804</td><td>2600</td><td>&quot;GALAXY&quot;</td><td>&quot;6&quot;</td><td>&quot;2&quot;</td><td>&quot;20231130&quot;</td><td>&quot;20260131&quot;</td><td>2</td><td>2</td><td>6</td><td>&quot;Svart (også bl…</td></tr><tr><td>20180404</td><td>20180404</td><td>20180404</td><td>2001</td><td>&quot;NISSAN LEAF 40…</td><td>&quot;6&quot;</td><td>&quot;5&quot;</td><td>&quot;20220810&quot;</td><td>&quot;20240831&quot;</td><td>1</td><td>5</td><td>6</td><td>&quot;Svart (også bl…</td></tr><tr><td>20170524</td><td>20170524</td><td>20181008</td><td>5480</td><td>&quot;C-HR&quot;</td><td>&quot;5&quot;</td><td>&quot;1&quot;</td><td>&quot;20230913&quot;</td><td>&quot;20250930&quot;</td><td>2</td><td>5</td><td>5</td><td>&quot;Grå&quot;</td></tr><tr><td>19951102</td><td>20060410</td><td>20201113</td><td>1400</td><td>&quot;728IA&quot;</td><td>&quot;6&quot;</td><td>&quot;1&quot;</td><td>&quot;20170130&quot;</td><td>&quot;20190131&quot;</td><td>0</td><td>5</td><td>6</td><td>&quot;Svart (også bl…</td></tr><tr><td>20031127</td><td>20031127</td><td>20170610</td><td>4350</td><td>&quot;ZAFIRA-A&quot;</td><td>&quot;11&quot;</td><td>&quot;1&quot;</td><td>&quot;20190514&quot;</td><td>&quot;20210430&quot;</td><td>0</td><td>7</td><td>11</td><td>&quot;Sølv (også søl…</td></tr><tr><td>20140117</td><td>20140117</td><td>20180731</td><td>2600</td><td>&quot;RANGER&quot;</td><td>&quot;5&quot;</td><td>&quot;2&quot;</td><td>&quot;20220511&quot;</td><td>&quot;20240630&quot;</td><td>2</td><td>2</td><td>5</td><td>&quot;Grå&quot;</td></tr><tr><td>20080331</td><td>20080331</td><td>20230728</td><td>3930</td><td>&quot;MX-5&quot;</td><td>&quot;5&quot;</td><td>&quot;1&quot;</td><td>&quot;20230816&quot;</td><td>&quot;20250816&quot;</td><td>0</td><td>2</td><td>5</td><td>&quot;Grå&quot;</td></tr><tr><td>20150731</td><td>20150731</td><td>20230630</td><td>4500</td><td>&quot;iOn&quot;</td><td>&quot;1&quot;</td><td>&quot;5&quot;</td><td>&quot;20230320&quot;</td><td>&quot;20250331&quot;</td><td>1</td><td>4</td><td>1</td><td>&quot;Hvit (også ant…</td></tr><tr><td>20040921</td><td>20040921</td><td>20140120</td><td>5750</td><td>&quot;POLO&quot;</td><td>&quot;11&quot;</td><td>&quot;1&quot;</td><td>&quot;20141017&quot;</td><td>null</td><td>0</td><td>5</td><td>11</td><td>&quot;Sølv (også søl…</td></tr></tbody></table></div>"
      ],
      "text/plain": [
       "shape: (3_207_748, 13)\n",
       "┌──────────────┬────────────────┬────────────────────┬────────────┬───┬───────────────────┬────────────────────────┬──────┬────────────────────────┐\n",
       "│ tekn_reg_f_g ┆ tekn_reg_f_g_n ┆ tekn_reg_eier_dato ┆ tekn_merke ┆ … ┆ tekn_aksler_drift ┆ tekn_sitteplasser_tota ┆ kode ┆ beskrivelse            │\n",
       "│ ---          ┆ ---            ┆ ---                ┆ ---        ┆   ┆ ---               ┆ lt                     ┆ ---  ┆ ---                    │\n",
       "│ i64          ┆ i64            ┆ i64                ┆ i64        ┆   ┆ i64               ┆ ---                    ┆ i64  ┆ str                    │\n",
       "│              ┆                ┆                    ┆            ┆   ┆                   ┆ i64                    ┆      ┆                        │\n",
       "╞══════════════╪════════════════╪════════════════════╪════════════╪═══╪═══════════════════╪════════════════════════╪══════╪════════════════════════╡\n",
       "│ 20211013     ┆ 20211013       ┆ 20211013           ┆ 3900       ┆ … ┆ 2                 ┆ 3                      ┆ 5    ┆ Grå                    │\n",
       "│ 20200129     ┆ 20200129       ┆ 20200129           ┆ 5750       ┆ … ┆ 2                 ┆ 2                      ┆ 6    ┆ Svart (også blåsvart,  │\n",
       "│              ┆                ┆                    ┆            ┆   ┆                   ┆                        ┆      ┆ grafitt mø…            │\n",
       "│ 20231129     ┆ 20231129       ┆ 20231129           ┆ 2600       ┆ … ┆ 1                 ┆ 5                      ┆ 6    ┆ Svart (også blåsvart,  │\n",
       "│              ┆                ┆                    ┆            ┆   ┆                   ┆                        ┆      ┆ grafitt mø…            │\n",
       "│ 20200127     ┆ 20200127       ┆ 20200127           ┆ 5750       ┆ … ┆ 2                 ┆ 2                      ┆ 1    ┆ Hvit (også antikkhvit, │\n",
       "│              ┆                ┆                    ┆            ┆   ┆                   ┆                        ┆      ┆ offwhite)              │\n",
       "│ 20180731     ┆ 20190130       ┆ 20190130           ┆ 2600       ┆ … ┆ 2                 ┆ 2                      ┆ 6    ┆ Svart (også blåsvart,  │\n",
       "│              ┆                ┆                    ┆            ┆   ┆                   ┆                        ┆      ┆ grafitt mø…            │\n",
       "│ …            ┆ …              ┆ …                  ┆ …          ┆ … ┆ …                 ┆ …                      ┆ …    ┆ …                      │\n",
       "│ 20031127     ┆ 20031127       ┆ 20170610           ┆ 4350       ┆ … ┆ 0                 ┆ 7                      ┆ 11   ┆ Sølv (også sølv        │\n",
       "│              ┆                ┆                    ┆            ┆   ┆                   ┆                        ┆      ┆ metallic)              │\n",
       "│ 20140117     ┆ 20140117       ┆ 20180731           ┆ 2600       ┆ … ┆ 2                 ┆ 2                      ┆ 5    ┆ Grå                    │\n",
       "│ 20080331     ┆ 20080331       ┆ 20230728           ┆ 3930       ┆ … ┆ 0                 ┆ 2                      ┆ 5    ┆ Grå                    │\n",
       "│ 20150731     ┆ 20150731       ┆ 20230630           ┆ 4500       ┆ … ┆ 1                 ┆ 4                      ┆ 1    ┆ Hvit (også antikkhvit, │\n",
       "│              ┆                ┆                    ┆            ┆   ┆                   ┆                        ┆      ┆ offwhite)              │\n",
       "│ 20040921     ┆ 20040921       ┆ 20140120           ┆ 5750       ┆ … ┆ 0                 ┆ 5                      ┆ 11   ┆ Sølv (også sølv        │\n",
       "│              ┆                ┆                    ┆            ┆   ┆                   ┆                        ┆      ┆ metallic)              │\n",
       "└──────────────┴────────────────┴────────────────────┴────────────┴───┴───────────────────┴────────────────────────┴──────┴────────────────────────┘"
      ]
     },
     "execution_count": 244,
     "metadata": {},
     "output_type": "execute_result"
    }
   ],
   "source": [
    "# 3.\n",
    "# Join inn navnet på fargen, det vil si, join “tekn_farge” med “kode” i fargekode.csv.\n",
    "# Pass på at du ikke mister noen biler som vi ikke vet fargen på.\n",
    "\n",
    "#Lagrer det foretrukne datasettet\n",
    "original_pl_df = pl_df\n",
    "\n",
    "\"\"\"\n",
    "Manipulrerer datasettet ved å joine det med et annet datasett:\n",
    "\n",
    "Scanner inn og klargjør fargekode.csv for bruk av lazyFrame. Henter rader ved bruke av .collect.\n",
    "Truncate_ragged_lines=True = Denne funksjonen er benyttet for at systemet skal ignorere avvik i forventede verdier og faktiske verdier\n",
    "i tuppelen.\n",
    "\"\"\"\n",
    "fargekode_df = pl.scan_csv(\"filer/fargekode.csv\", separator=\";\", truncate_ragged_lines=True).collect()\n",
    "\n",
    "#Fikser verdieen i kolonnen \"tekn_farge\" slik at den stemmer overens med verdiene kolonnen \"kode\" i hjelpetabellen \"fargekode\"\n",
    "pl_df = pl_df.with_columns(\n",
    "    pl_df[\"tekn_farge\"].str.strip_chars(\"0\")\n",
    ")\n",
    "\n",
    "# Konverter \"kode\" til streng og gi den et annet navn\n",
    "fargekode_df = fargekode_df.select([\n",
    "    pl.col(\"*\"),\n",
    "    pl.col(\"kode\").cast(pl.String).alias(\"fargekode\")  # Konverter \"kode\" til streng\n",
    "])\n",
    "\n",
    "# Utfør venstre join basert på kolonnene tekn_farge og kode\n",
    "joined_df = kjoretoy_df.join(\n",
    "    fargekode_df,\n",
    "    left_on=\"tekn_farge\",  # Kolonnenavn i kjoretoy_df\n",
    "    right_on=\"fargekode\",  # Kolonnenavn i fargekode_df\n",
    "    how=\"left\"\n",
    "\n",
    ")\n",
    "\"\"\"\n",
    "Forsikrer at vi kan se biler vi ikke vet fargekoden på ved å legge inn en betingelse \"When\". Hvis betingelsen \"when\" \n",
    "blir oppfylt genereres en tekstsom forteller bruker at \"fargekoden er ukjent\" på den akutelle bilen. \n",
    "Hvis fargekoden derimot er tilstede i kolonnen for farge, genereres teksten fra den opprinnelige tabellen.\n",
    "\"\"\"\n",
    "joined_df = joined_df.with_columns(\n",
    "    beskrivelse=pl.when(joined_df[\"kode\"].is_null()).then(pl.lit(\"Ukjent farge\")).otherwise(joined_df[\"beskrivelse\"])\n",
    ")\n",
    "\n",
    "# Vis de første 10 radene av resultatet\n",
    "joined_df"
   ]
  },
  {
   "cell_type": "code",
   "execution_count": 245,
   "id": "e20e3f4e-5861-4781-97e7-7d2dff479e91",
   "metadata": {},
   "outputs": [
    {
     "data": {
      "text/html": [
       "<div><style>\n",
       ".dataframe > thead > tr,\n",
       ".dataframe > tbody > tr {\n",
       "  text-align: right;\n",
       "  white-space: pre-wrap;\n",
       "}\n",
       "</style>\n",
       "<small>shape: (3_207_748, 12)</small><table border=\"1\" class=\"dataframe\"><thead><tr><th>tekn_reg_f_g</th><th>tekn_reg_f_g_n</th><th>tekn_reg_eier_dato</th><th>tekn_merke</th><th>tekn_modell</th><th>tekn_farge</th><th>tekn_drivstoff</th><th>tekn_siste_pkk</th><th>tekn_neste_pkk</th><th>tekn_aksler_drift</th><th>tekn_sitteplasser_totalt</th><th>elbil</th></tr><tr><td>i64</td><td>date</td><td>date</td><td>i64</td><td>str</td><td>str</td><td>str</td><td>str</td><td>date</td><td>i64</td><td>i64</td><td>bool</td></tr></thead><tbody><tr><td>20211013</td><td>2021-10-13</td><td>2021-10-13</td><td>3900</td><td>&quot;VITO&quot;</td><td>&quot;05&quot;</td><td>&quot;2&quot;</td><td>null</td><td>2025-10-13</td><td>2</td><td>3</td><td>false</td></tr><tr><td>20200129</td><td>2020-01-29</td><td>2020-01-29</td><td>5750</td><td>&quot;CADDY&quot;</td><td>&quot;06&quot;</td><td>&quot;2&quot;</td><td>&quot;20231205&quot;</td><td>2026-01-29</td><td>2</td><td>2</td><td>false</td></tr><tr><td>20231129</td><td>2023-11-29</td><td>2023-11-29</td><td>2600</td><td>&quot;Mustang Mach-E…</td><td>&quot;06&quot;</td><td>&quot;5&quot;</td><td>null</td><td>2027-11-29</td><td>1</td><td>5</td><td>true</td></tr><tr><td>20200127</td><td>2020-01-27</td><td>2020-01-27</td><td>5750</td><td>&quot;CADDY&quot;</td><td>&quot;01&quot;</td><td>&quot;2&quot;</td><td>null</td><td>2024-01-27</td><td>2</td><td>2</td><td>false</td></tr><tr><td>20180731</td><td>2019-01-30</td><td>2019-01-30</td><td>2600</td><td>&quot;F-150 Platinum…</td><td>&quot;06&quot;</td><td>&quot;2&quot;</td><td>&quot;20220503&quot;</td><td>2024-05-03</td><td>2</td><td>2</td><td>false</td></tr><tr><td>20200519</td><td>2020-05-19</td><td>2020-05-19</td><td>5750</td><td>&quot;CRAFTER&quot;</td><td>&quot;01&quot;</td><td>&quot;2&quot;</td><td>null</td><td>2024-05-19</td><td>1</td><td>3</td><td>false</td></tr><tr><td>20200911</td><td>2020-09-11</td><td>2022-02-16</td><td>5150</td><td>&quot;CITIGO&quot;</td><td>&quot;01&quot;</td><td>&quot;5&quot;</td><td>null</td><td>2024-09-11</td><td>1</td><td>4</td><td>true</td></tr><tr><td>20220512</td><td>2022-05-12</td><td>2022-05-12</td><td>5480</td><td>&quot;YARIS&quot;</td><td>&quot;04&quot;</td><td>&quot;1,5&quot;</td><td>null</td><td>2026-05-12</td><td>1</td><td>5</td><td>false</td></tr><tr><td>20221104</td><td>2022-11-04</td><td>2022-11-04</td><td>5480</td><td>&quot;RAV4&quot;</td><td>&quot;06&quot;</td><td>&quot;1,5,5&quot;</td><td>null</td><td>2026-11-04</td><td>2</td><td>5</td><td>false</td></tr><tr><td>20210421</td><td>2021-04-21</td><td>2021-04-21</td><td>5480</td><td>&quot;TOYOTA LAND CR…</td><td>&quot;01&quot;</td><td>&quot;2&quot;</td><td>null</td><td>2025-04-21</td><td>2</td><td>2</td><td>false</td></tr><tr><td>20120127</td><td>2012-01-27</td><td>2019-02-19</td><td>5800</td><td>&quot;XC60&quot;</td><td>&quot;01&quot;</td><td>&quot;2&quot;</td><td>&quot;20220624&quot;</td><td>2024-06-24</td><td>2</td><td>5</td><td>false</td></tr><tr><td>20231027</td><td>2023-10-27</td><td>2023-10-27</td><td>8670</td><td>&quot;N175&quot;</td><td>&quot;06&quot;</td><td>&quot;2&quot;</td><td>&quot;20271027&quot;</td><td>null</td><td>2</td><td>2</td><td>false</td></tr><tr><td>&hellip;</td><td>&hellip;</td><td>&hellip;</td><td>&hellip;</td><td>&hellip;</td><td>&hellip;</td><td>&hellip;</td><td>&hellip;</td><td>&hellip;</td><td>&hellip;</td><td>&hellip;</td><td>&hellip;</td></tr><tr><td>20031022</td><td>2003-10-22</td><td>2003-10-22</td><td>5150</td><td>&quot;FABIA&quot;</td><td>&quot;05&quot;</td><td>&quot;1&quot;</td><td>&quot;20171213&quot;</td><td>null</td><td>0</td><td>5</td><td>false</td></tr><tr><td>20081113</td><td>2008-11-13</td><td>2017-09-08</td><td>5800</td><td>&quot;FH-480&quot;</td><td>&quot;01&quot;</td><td>&quot;2&quot;</td><td>&quot;20190308&quot;</td><td>2020-03-08</td><td>0</td><td>2</td><td>false</td></tr><tr><td>20070104</td><td>2007-01-04</td><td>2007-01-04</td><td>5480</td><td>&quot;COROLLA&quot;</td><td>&quot;11&quot;</td><td>&quot;2&quot;</td><td>&quot;20230420&quot;</td><td>2025-04-30</td><td>0</td><td>5</td><td>false</td></tr><tr><td>20180131</td><td>2018-01-31</td><td>2023-08-04</td><td>2600</td><td>&quot;GALAXY&quot;</td><td>&quot;06&quot;</td><td>&quot;2&quot;</td><td>&quot;20231130&quot;</td><td>2026-01-31</td><td>2</td><td>2</td><td>false</td></tr><tr><td>20180404</td><td>2018-04-04</td><td>2018-04-04</td><td>2001</td><td>&quot;NISSAN LEAF 40…</td><td>&quot;06&quot;</td><td>&quot;5&quot;</td><td>&quot;20220810&quot;</td><td>2024-08-31</td><td>1</td><td>5</td><td>true</td></tr><tr><td>20170524</td><td>2017-05-24</td><td>2018-10-08</td><td>5480</td><td>&quot;C-HR&quot;</td><td>&quot;05&quot;</td><td>&quot;1&quot;</td><td>&quot;20230913&quot;</td><td>2025-09-30</td><td>2</td><td>5</td><td>false</td></tr><tr><td>19951102</td><td>2006-04-10</td><td>2020-11-13</td><td>1400</td><td>&quot;728IA&quot;</td><td>&quot;06&quot;</td><td>&quot;1&quot;</td><td>&quot;20170130&quot;</td><td>2019-01-31</td><td>0</td><td>5</td><td>false</td></tr><tr><td>20031127</td><td>2003-11-27</td><td>2017-06-10</td><td>4350</td><td>&quot;ZAFIRA-A&quot;</td><td>&quot;11&quot;</td><td>&quot;1&quot;</td><td>&quot;20190514&quot;</td><td>2021-04-30</td><td>0</td><td>7</td><td>false</td></tr><tr><td>20140117</td><td>2014-01-17</td><td>2018-07-31</td><td>2600</td><td>&quot;RANGER&quot;</td><td>&quot;05&quot;</td><td>&quot;2&quot;</td><td>&quot;20220511&quot;</td><td>2024-06-30</td><td>2</td><td>2</td><td>false</td></tr><tr><td>20080331</td><td>2008-03-31</td><td>2023-07-28</td><td>3930</td><td>&quot;MX-5&quot;</td><td>&quot;05&quot;</td><td>&quot;1&quot;</td><td>&quot;20230816&quot;</td><td>2025-08-16</td><td>0</td><td>2</td><td>false</td></tr><tr><td>20150731</td><td>2015-07-31</td><td>2023-06-30</td><td>4500</td><td>&quot;iOn&quot;</td><td>&quot;01&quot;</td><td>&quot;5&quot;</td><td>&quot;20230320&quot;</td><td>2025-03-31</td><td>1</td><td>4</td><td>true</td></tr><tr><td>20040921</td><td>2004-09-21</td><td>2014-01-20</td><td>5750</td><td>&quot;POLO&quot;</td><td>&quot;11&quot;</td><td>&quot;1&quot;</td><td>&quot;20141017&quot;</td><td>null</td><td>0</td><td>5</td><td>false</td></tr></tbody></table></div>"
      ],
      "text/plain": [
       "shape: (3_207_748, 12)\n",
       "┌──────────────┬────────────────┬────────────────────┬────────────┬───┬────────────────┬───────────────────┬──────────────────────────┬───────┐\n",
       "│ tekn_reg_f_g ┆ tekn_reg_f_g_n ┆ tekn_reg_eier_dato ┆ tekn_merke ┆ … ┆ tekn_neste_pkk ┆ tekn_aksler_drift ┆ tekn_sitteplasser_totalt ┆ elbil │\n",
       "│ ---          ┆ ---            ┆ ---                ┆ ---        ┆   ┆ ---            ┆ ---               ┆ ---                      ┆ ---   │\n",
       "│ i64          ┆ date           ┆ date               ┆ i64        ┆   ┆ date           ┆ i64               ┆ i64                      ┆ bool  │\n",
       "╞══════════════╪════════════════╪════════════════════╪════════════╪═══╪════════════════╪═══════════════════╪══════════════════════════╪═══════╡\n",
       "│ 20211013     ┆ 2021-10-13     ┆ 2021-10-13         ┆ 3900       ┆ … ┆ 2025-10-13     ┆ 2                 ┆ 3                        ┆ false │\n",
       "│ 20200129     ┆ 2020-01-29     ┆ 2020-01-29         ┆ 5750       ┆ … ┆ 2026-01-29     ┆ 2                 ┆ 2                        ┆ false │\n",
       "│ 20231129     ┆ 2023-11-29     ┆ 2023-11-29         ┆ 2600       ┆ … ┆ 2027-11-29     ┆ 1                 ┆ 5                        ┆ true  │\n",
       "│ 20200127     ┆ 2020-01-27     ┆ 2020-01-27         ┆ 5750       ┆ … ┆ 2024-01-27     ┆ 2                 ┆ 2                        ┆ false │\n",
       "│ 20180731     ┆ 2019-01-30     ┆ 2019-01-30         ┆ 2600       ┆ … ┆ 2024-05-03     ┆ 2                 ┆ 2                        ┆ false │\n",
       "│ …            ┆ …              ┆ …                  ┆ …          ┆ … ┆ …              ┆ …                 ┆ …                        ┆ …     │\n",
       "│ 20031127     ┆ 2003-11-27     ┆ 2017-06-10         ┆ 4350       ┆ … ┆ 2021-04-30     ┆ 0                 ┆ 7                        ┆ false │\n",
       "│ 20140117     ┆ 2014-01-17     ┆ 2018-07-31         ┆ 2600       ┆ … ┆ 2024-06-30     ┆ 2                 ┆ 2                        ┆ false │\n",
       "│ 20080331     ┆ 2008-03-31     ┆ 2023-07-28         ┆ 3930       ┆ … ┆ 2025-08-16     ┆ 0                 ┆ 2                        ┆ false │\n",
       "│ 20150731     ┆ 2015-07-31     ┆ 2023-06-30         ┆ 4500       ┆ … ┆ 2025-03-31     ┆ 1                 ┆ 4                        ┆ true  │\n",
       "│ 20040921     ┆ 2004-09-21     ┆ 2014-01-20         ┆ 5750       ┆ … ┆ null           ┆ 0                 ┆ 5                        ┆ false │\n",
       "└──────────────┴────────────────┴────────────────────┴────────────┴───┴────────────────┴───────────────────┴──────────────────────────┴───────┘"
      ]
     },
     "execution_count": 245,
     "metadata": {},
     "output_type": "execute_result"
    }
   ],
   "source": [
    "# 4. \n",
    "# Lag en kolonne “elbil” som er sann hvis drivstofftypen er kun elektrisk, false ellers.\n",
    "\n",
    "#Henter tilbake det foretrukne datasettet\n",
    "pl_df = original_pl_df\n",
    "\n",
    "\n",
    "pl_df = pl_df.with_columns(\n",
    "    elbil=pl.col(\"tekn_drivstoff\").eq(pl.lit(\"5\"))\n",
    ");\n",
    "pl_df"
   ]
  },
  {
   "cell_type": "code",
   "execution_count": 246,
   "id": "8b7395f2-6cde-4363-8a5a-37793f0508bd",
   "metadata": {},
   "outputs": [
    {
     "data": {
      "text/html": [
       "<div><style>\n",
       ".dataframe > thead > tr,\n",
       ".dataframe > tbody > tr {\n",
       "  text-align: right;\n",
       "  white-space: pre-wrap;\n",
       "}\n",
       "</style>\n",
       "<small>shape: (3_207_748, 8)</small><table border=\"1\" class=\"dataframe\"><thead><tr><th>tekn_reg_f_g_n</th><th>tekn_reg_eier_dato</th><th>tekn_aksler_drift</th><th>tekn_merke</th><th>tekn_modell</th><th>tekn_drivstoff</th><th>tekn_neste_pkk</th><th>elbil</th></tr><tr><td>date</td><td>date</td><td>i64</td><td>i64</td><td>str</td><td>str</td><td>date</td><td>bool</td></tr></thead><tbody><tr><td>2021-10-13</td><td>2021-10-13</td><td>2</td><td>3900</td><td>&quot;VITO&quot;</td><td>&quot;2&quot;</td><td>2025-10-13</td><td>false</td></tr><tr><td>2020-01-29</td><td>2020-01-29</td><td>2</td><td>5750</td><td>&quot;CADDY&quot;</td><td>&quot;2&quot;</td><td>2026-01-29</td><td>false</td></tr><tr><td>2023-11-29</td><td>2023-11-29</td><td>1</td><td>2600</td><td>&quot;Mustang Mach-E…</td><td>&quot;5&quot;</td><td>2027-11-29</td><td>true</td></tr><tr><td>2020-01-27</td><td>2020-01-27</td><td>2</td><td>5750</td><td>&quot;CADDY&quot;</td><td>&quot;2&quot;</td><td>2024-01-27</td><td>false</td></tr><tr><td>2019-01-30</td><td>2019-01-30</td><td>2</td><td>2600</td><td>&quot;F-150 Platinum…</td><td>&quot;2&quot;</td><td>2024-05-03</td><td>false</td></tr><tr><td>2020-05-19</td><td>2020-05-19</td><td>1</td><td>5750</td><td>&quot;CRAFTER&quot;</td><td>&quot;2&quot;</td><td>2024-05-19</td><td>false</td></tr><tr><td>2020-09-11</td><td>2022-02-16</td><td>1</td><td>5150</td><td>&quot;CITIGO&quot;</td><td>&quot;5&quot;</td><td>2024-09-11</td><td>true</td></tr><tr><td>2022-05-12</td><td>2022-05-12</td><td>1</td><td>5480</td><td>&quot;YARIS&quot;</td><td>&quot;1,5&quot;</td><td>2026-05-12</td><td>false</td></tr><tr><td>2022-11-04</td><td>2022-11-04</td><td>2</td><td>5480</td><td>&quot;RAV4&quot;</td><td>&quot;1,5,5&quot;</td><td>2026-11-04</td><td>false</td></tr><tr><td>2021-04-21</td><td>2021-04-21</td><td>2</td><td>5480</td><td>&quot;TOYOTA LAND CR…</td><td>&quot;2&quot;</td><td>2025-04-21</td><td>false</td></tr><tr><td>2012-01-27</td><td>2019-02-19</td><td>2</td><td>5800</td><td>&quot;XC60&quot;</td><td>&quot;2&quot;</td><td>2024-06-24</td><td>false</td></tr><tr><td>2023-10-27</td><td>2023-10-27</td><td>2</td><td>8670</td><td>&quot;N175&quot;</td><td>&quot;2&quot;</td><td>null</td><td>false</td></tr><tr><td>&hellip;</td><td>&hellip;</td><td>&hellip;</td><td>&hellip;</td><td>&hellip;</td><td>&hellip;</td><td>&hellip;</td><td>&hellip;</td></tr><tr><td>2003-10-22</td><td>2003-10-22</td><td>0</td><td>5150</td><td>&quot;FABIA&quot;</td><td>&quot;1&quot;</td><td>null</td><td>false</td></tr><tr><td>2008-11-13</td><td>2017-09-08</td><td>0</td><td>5800</td><td>&quot;FH-480&quot;</td><td>&quot;2&quot;</td><td>2020-03-08</td><td>false</td></tr><tr><td>2007-01-04</td><td>2007-01-04</td><td>0</td><td>5480</td><td>&quot;COROLLA&quot;</td><td>&quot;2&quot;</td><td>2025-04-30</td><td>false</td></tr><tr><td>2018-01-31</td><td>2023-08-04</td><td>2</td><td>2600</td><td>&quot;GALAXY&quot;</td><td>&quot;2&quot;</td><td>2026-01-31</td><td>false</td></tr><tr><td>2018-04-04</td><td>2018-04-04</td><td>1</td><td>2001</td><td>&quot;NISSAN LEAF 40…</td><td>&quot;5&quot;</td><td>2024-08-31</td><td>true</td></tr><tr><td>2017-05-24</td><td>2018-10-08</td><td>2</td><td>5480</td><td>&quot;C-HR&quot;</td><td>&quot;1&quot;</td><td>2025-09-30</td><td>false</td></tr><tr><td>2006-04-10</td><td>2020-11-13</td><td>0</td><td>1400</td><td>&quot;728IA&quot;</td><td>&quot;1&quot;</td><td>2019-01-31</td><td>false</td></tr><tr><td>2003-11-27</td><td>2017-06-10</td><td>0</td><td>4350</td><td>&quot;ZAFIRA-A&quot;</td><td>&quot;1&quot;</td><td>2021-04-30</td><td>false</td></tr><tr><td>2014-01-17</td><td>2018-07-31</td><td>2</td><td>2600</td><td>&quot;RANGER&quot;</td><td>&quot;2&quot;</td><td>2024-06-30</td><td>false</td></tr><tr><td>2008-03-31</td><td>2023-07-28</td><td>0</td><td>3930</td><td>&quot;MX-5&quot;</td><td>&quot;1&quot;</td><td>2025-08-16</td><td>false</td></tr><tr><td>2015-07-31</td><td>2023-06-30</td><td>1</td><td>4500</td><td>&quot;iOn&quot;</td><td>&quot;5&quot;</td><td>2025-03-31</td><td>true</td></tr><tr><td>2004-09-21</td><td>2014-01-20</td><td>0</td><td>5750</td><td>&quot;POLO&quot;</td><td>&quot;1&quot;</td><td>null</td><td>false</td></tr></tbody></table></div>"
      ],
      "text/plain": [
       "shape: (3_207_748, 8)\n",
       "┌────────────────┬────────────────────┬───────────────────┬────────────┬────────────────┬────────────────┬────────────────┬───────┐\n",
       "│ tekn_reg_f_g_n ┆ tekn_reg_eier_dato ┆ tekn_aksler_drift ┆ tekn_merke ┆ tekn_modell    ┆ tekn_drivstoff ┆ tekn_neste_pkk ┆ elbil │\n",
       "│ ---            ┆ ---                ┆ ---               ┆ ---        ┆ ---            ┆ ---            ┆ ---            ┆ ---   │\n",
       "│ date           ┆ date               ┆ i64               ┆ i64        ┆ str            ┆ str            ┆ date           ┆ bool  │\n",
       "╞════════════════╪════════════════════╪═══════════════════╪════════════╪════════════════╪════════════════╪════════════════╪═══════╡\n",
       "│ 2021-10-13     ┆ 2021-10-13         ┆ 2                 ┆ 3900       ┆ VITO           ┆ 2              ┆ 2025-10-13     ┆ false │\n",
       "│ 2020-01-29     ┆ 2020-01-29         ┆ 2                 ┆ 5750       ┆ CADDY          ┆ 2              ┆ 2026-01-29     ┆ false │\n",
       "│ 2023-11-29     ┆ 2023-11-29         ┆ 1                 ┆ 2600       ┆ Mustang Mach-E ┆ 5              ┆ 2027-11-29     ┆ true  │\n",
       "│ 2020-01-27     ┆ 2020-01-27         ┆ 2                 ┆ 5750       ┆ CADDY          ┆ 2              ┆ 2024-01-27     ┆ false │\n",
       "│ 2019-01-30     ┆ 2019-01-30         ┆ 2                 ┆ 2600       ┆ F-150 Platinum ┆ 2              ┆ 2024-05-03     ┆ false │\n",
       "│ …              ┆ …                  ┆ …                 ┆ …          ┆ …              ┆ …              ┆ …              ┆ …     │\n",
       "│ 2003-11-27     ┆ 2017-06-10         ┆ 0                 ┆ 4350       ┆ ZAFIRA-A       ┆ 1              ┆ 2021-04-30     ┆ false │\n",
       "│ 2014-01-17     ┆ 2018-07-31         ┆ 2                 ┆ 2600       ┆ RANGER         ┆ 2              ┆ 2024-06-30     ┆ false │\n",
       "│ 2008-03-31     ┆ 2023-07-28         ┆ 0                 ┆ 3930       ┆ MX-5           ┆ 1              ┆ 2025-08-16     ┆ false │\n",
       "│ 2015-07-31     ┆ 2023-06-30         ┆ 1                 ┆ 4500       ┆ iOn            ┆ 5              ┆ 2025-03-31     ┆ true  │\n",
       "│ 2004-09-21     ┆ 2014-01-20         ┆ 0                 ┆ 5750       ┆ POLO           ┆ 1              ┆ null           ┆ false │\n",
       "└────────────────┴────────────────────┴───────────────────┴────────────┴────────────────┴────────────────┴────────────────┴───────┘"
      ]
     },
     "execution_count": 246,
     "metadata": {},
     "output_type": "execute_result"
    }
   ],
   "source": [
    "# 5. \n",
    "# Hent ut bare kolonnene: tekn_reg_f_g_n, tekn_reg_eier_dato, tekn_aksler_drift, tekn_merke, tekn_modell,\n",
    "# tekn_drivstoff, tekn_neste_pkk, farge på bilen fra fargekode.csv,\n",
    "# tekn_drivstoff, kolonne som indikerer om bilen er en elbil.\n",
    "\n",
    "#Lagrer det foretrukne datasettet\n",
    "original_pl_df = pl_df\n",
    "\n",
    "pl_df = pl_df.select(\"tekn_reg_f_g_n\", \"tekn_reg_eier_dato\", \"tekn_aksler_drift\", \"tekn_merke\", \n",
    "            \"tekn_modell\", \"tekn_drivstoff\", \"tekn_neste_pkk\", \"elbil\"\n",
    ")\n",
    "\n",
    "pl_df"
   ]
  },
  {
   "cell_type": "code",
   "execution_count": 247,
   "id": "c5035e11-788d-49fb-841e-7841ef841681",
   "metadata": {},
   "outputs": [
    {
     "data": {
      "text/html": [
       "<div><style>\n",
       ".dataframe > thead > tr,\n",
       ".dataframe > tbody > tr {\n",
       "  text-align: right;\n",
       "  white-space: pre-wrap;\n",
       "}\n",
       "</style>\n",
       "<small>shape: (3_207_748, 12)</small><table border=\"1\" class=\"dataframe\"><thead><tr><th>tekn_reg_f_g</th><th>tekn_reg_f_g_n</th><th>tekn_reg_eier_dato</th><th>tekn_merke</th><th>tekn_modell</th><th>tekn_farge</th><th>tekn_drivstoff</th><th>tekn_siste_pkk</th><th>tekn_neste_pkk</th><th>tekn_aksler_drift</th><th>tekn_sitteplasser_totalt</th><th>elbil</th></tr><tr><td>i64</td><td>date</td><td>date</td><td>i64</td><td>str</td><td>str</td><td>str</td><td>str</td><td>date</td><td>i64</td><td>i64</td><td>bool</td></tr></thead><tbody><tr><td>20211013</td><td>2021-10-13</td><td>2021-10-13</td><td>3900</td><td>&quot;VITO&quot;</td><td>&quot;05&quot;</td><td>&quot;2&quot;</td><td>null</td><td>2025-10-13</td><td>2</td><td>3</td><td>false</td></tr><tr><td>20200129</td><td>2020-01-29</td><td>2020-01-29</td><td>5750</td><td>&quot;CADDY&quot;</td><td>&quot;06&quot;</td><td>&quot;2&quot;</td><td>&quot;20231205&quot;</td><td>2026-01-29</td><td>2</td><td>2</td><td>false</td></tr><tr><td>20231129</td><td>2023-11-29</td><td>2023-11-29</td><td>2600</td><td>&quot;Mustang Mach-E…</td><td>&quot;06&quot;</td><td>&quot;5&quot;</td><td>null</td><td>2027-11-29</td><td>1</td><td>5</td><td>true</td></tr><tr><td>20200127</td><td>2020-01-27</td><td>2020-01-27</td><td>5750</td><td>&quot;CADDY&quot;</td><td>&quot;01&quot;</td><td>&quot;2&quot;</td><td>null</td><td>2024-01-27</td><td>2</td><td>2</td><td>false</td></tr><tr><td>20180731</td><td>2019-01-30</td><td>2019-01-30</td><td>2600</td><td>&quot;F-150 Platinum…</td><td>&quot;06&quot;</td><td>&quot;2&quot;</td><td>&quot;20220503&quot;</td><td>2024-05-03</td><td>2</td><td>2</td><td>false</td></tr><tr><td>20200519</td><td>2020-05-19</td><td>2020-05-19</td><td>5750</td><td>&quot;CRAFTER&quot;</td><td>&quot;01&quot;</td><td>&quot;2&quot;</td><td>null</td><td>2024-05-19</td><td>1</td><td>3</td><td>false</td></tr><tr><td>20200911</td><td>2020-09-11</td><td>2022-02-16</td><td>5150</td><td>&quot;CITIGO&quot;</td><td>&quot;01&quot;</td><td>&quot;5&quot;</td><td>null</td><td>2024-09-11</td><td>1</td><td>4</td><td>true</td></tr><tr><td>20220512</td><td>2022-05-12</td><td>2022-05-12</td><td>5480</td><td>&quot;YARIS&quot;</td><td>&quot;04&quot;</td><td>&quot;1,5&quot;</td><td>null</td><td>2026-05-12</td><td>1</td><td>5</td><td>false</td></tr><tr><td>20221104</td><td>2022-11-04</td><td>2022-11-04</td><td>5480</td><td>&quot;RAV4&quot;</td><td>&quot;06&quot;</td><td>&quot;1,5,5&quot;</td><td>null</td><td>2026-11-04</td><td>2</td><td>5</td><td>false</td></tr><tr><td>20210421</td><td>2021-04-21</td><td>2021-04-21</td><td>5480</td><td>&quot;TOYOTA LAND CR…</td><td>&quot;01&quot;</td><td>&quot;2&quot;</td><td>null</td><td>2025-04-21</td><td>2</td><td>2</td><td>false</td></tr><tr><td>20120127</td><td>2012-01-27</td><td>2019-02-19</td><td>5800</td><td>&quot;XC60&quot;</td><td>&quot;01&quot;</td><td>&quot;2&quot;</td><td>&quot;20220624&quot;</td><td>2024-06-24</td><td>2</td><td>5</td><td>false</td></tr><tr><td>20231027</td><td>2023-10-27</td><td>2023-10-27</td><td>8670</td><td>&quot;N175&quot;</td><td>&quot;06&quot;</td><td>&quot;2&quot;</td><td>&quot;20271027&quot;</td><td>null</td><td>2</td><td>2</td><td>false</td></tr><tr><td>&hellip;</td><td>&hellip;</td><td>&hellip;</td><td>&hellip;</td><td>&hellip;</td><td>&hellip;</td><td>&hellip;</td><td>&hellip;</td><td>&hellip;</td><td>&hellip;</td><td>&hellip;</td><td>&hellip;</td></tr><tr><td>20031022</td><td>2003-10-22</td><td>2003-10-22</td><td>5150</td><td>&quot;FABIA&quot;</td><td>&quot;05&quot;</td><td>&quot;1&quot;</td><td>&quot;20171213&quot;</td><td>null</td><td>0</td><td>5</td><td>false</td></tr><tr><td>20081113</td><td>2008-11-13</td><td>2017-09-08</td><td>5800</td><td>&quot;FH-480&quot;</td><td>&quot;01&quot;</td><td>&quot;2&quot;</td><td>&quot;20190308&quot;</td><td>2020-03-08</td><td>0</td><td>2</td><td>false</td></tr><tr><td>20070104</td><td>2007-01-04</td><td>2007-01-04</td><td>5480</td><td>&quot;COROLLA&quot;</td><td>&quot;11&quot;</td><td>&quot;2&quot;</td><td>&quot;20230420&quot;</td><td>2025-04-30</td><td>0</td><td>5</td><td>false</td></tr><tr><td>20180131</td><td>2018-01-31</td><td>2023-08-04</td><td>2600</td><td>&quot;GALAXY&quot;</td><td>&quot;06&quot;</td><td>&quot;2&quot;</td><td>&quot;20231130&quot;</td><td>2026-01-31</td><td>2</td><td>2</td><td>false</td></tr><tr><td>20180404</td><td>2018-04-04</td><td>2018-04-04</td><td>2001</td><td>&quot;NISSAN LEAF 40…</td><td>&quot;06&quot;</td><td>&quot;5&quot;</td><td>&quot;20220810&quot;</td><td>2024-08-31</td><td>1</td><td>5</td><td>true</td></tr><tr><td>20170524</td><td>2017-05-24</td><td>2018-10-08</td><td>5480</td><td>&quot;C-HR&quot;</td><td>&quot;05&quot;</td><td>&quot;1&quot;</td><td>&quot;20230913&quot;</td><td>2025-09-30</td><td>2</td><td>5</td><td>false</td></tr><tr><td>19951102</td><td>2006-04-10</td><td>2020-11-13</td><td>1400</td><td>&quot;728IA&quot;</td><td>&quot;06&quot;</td><td>&quot;1&quot;</td><td>&quot;20170130&quot;</td><td>2019-01-31</td><td>0</td><td>5</td><td>false</td></tr><tr><td>20031127</td><td>2003-11-27</td><td>2017-06-10</td><td>4350</td><td>&quot;ZAFIRA-A&quot;</td><td>&quot;11&quot;</td><td>&quot;1&quot;</td><td>&quot;20190514&quot;</td><td>2021-04-30</td><td>0</td><td>7</td><td>false</td></tr><tr><td>20140117</td><td>2014-01-17</td><td>2018-07-31</td><td>2600</td><td>&quot;RANGER&quot;</td><td>&quot;05&quot;</td><td>&quot;2&quot;</td><td>&quot;20220511&quot;</td><td>2024-06-30</td><td>2</td><td>2</td><td>false</td></tr><tr><td>20080331</td><td>2008-03-31</td><td>2023-07-28</td><td>3930</td><td>&quot;MX-5&quot;</td><td>&quot;05&quot;</td><td>&quot;1&quot;</td><td>&quot;20230816&quot;</td><td>2025-08-16</td><td>0</td><td>2</td><td>false</td></tr><tr><td>20150731</td><td>2015-07-31</td><td>2023-06-30</td><td>4500</td><td>&quot;iOn&quot;</td><td>&quot;01&quot;</td><td>&quot;5&quot;</td><td>&quot;20230320&quot;</td><td>2025-03-31</td><td>1</td><td>4</td><td>true</td></tr><tr><td>20040921</td><td>2004-09-21</td><td>2014-01-20</td><td>5750</td><td>&quot;POLO&quot;</td><td>&quot;11&quot;</td><td>&quot;1&quot;</td><td>&quot;20141017&quot;</td><td>null</td><td>0</td><td>5</td><td>false</td></tr></tbody></table></div>"
      ],
      "text/plain": [
       "shape: (3_207_748, 12)\n",
       "┌──────────────┬────────────────┬────────────────────┬────────────┬───┬────────────────┬───────────────────┬──────────────────────────┬───────┐\n",
       "│ tekn_reg_f_g ┆ tekn_reg_f_g_n ┆ tekn_reg_eier_dato ┆ tekn_merke ┆ … ┆ tekn_neste_pkk ┆ tekn_aksler_drift ┆ tekn_sitteplasser_totalt ┆ elbil │\n",
       "│ ---          ┆ ---            ┆ ---                ┆ ---        ┆   ┆ ---            ┆ ---               ┆ ---                      ┆ ---   │\n",
       "│ i64          ┆ date           ┆ date               ┆ i64        ┆   ┆ date           ┆ i64               ┆ i64                      ┆ bool  │\n",
       "╞══════════════╪════════════════╪════════════════════╪════════════╪═══╪════════════════╪═══════════════════╪══════════════════════════╪═══════╡\n",
       "│ 20211013     ┆ 2021-10-13     ┆ 2021-10-13         ┆ 3900       ┆ … ┆ 2025-10-13     ┆ 2                 ┆ 3                        ┆ false │\n",
       "│ 20200129     ┆ 2020-01-29     ┆ 2020-01-29         ┆ 5750       ┆ … ┆ 2026-01-29     ┆ 2                 ┆ 2                        ┆ false │\n",
       "│ 20231129     ┆ 2023-11-29     ┆ 2023-11-29         ┆ 2600       ┆ … ┆ 2027-11-29     ┆ 1                 ┆ 5                        ┆ true  │\n",
       "│ 20200127     ┆ 2020-01-27     ┆ 2020-01-27         ┆ 5750       ┆ … ┆ 2024-01-27     ┆ 2                 ┆ 2                        ┆ false │\n",
       "│ 20180731     ┆ 2019-01-30     ┆ 2019-01-30         ┆ 2600       ┆ … ┆ 2024-05-03     ┆ 2                 ┆ 2                        ┆ false │\n",
       "│ …            ┆ …              ┆ …                  ┆ …          ┆ … ┆ …              ┆ …                 ┆ …                        ┆ …     │\n",
       "│ 20031127     ┆ 2003-11-27     ┆ 2017-06-10         ┆ 4350       ┆ … ┆ 2021-04-30     ┆ 0                 ┆ 7                        ┆ false │\n",
       "│ 20140117     ┆ 2014-01-17     ┆ 2018-07-31         ┆ 2600       ┆ … ┆ 2024-06-30     ┆ 2                 ┆ 2                        ┆ false │\n",
       "│ 20080331     ┆ 2008-03-31     ┆ 2023-07-28         ┆ 3930       ┆ … ┆ 2025-08-16     ┆ 0                 ┆ 2                        ┆ false │\n",
       "│ 20150731     ┆ 2015-07-31     ┆ 2023-06-30         ┆ 4500       ┆ … ┆ 2025-03-31     ┆ 1                 ┆ 4                        ┆ true  │\n",
       "│ 20040921     ┆ 2004-09-21     ┆ 2014-01-20         ┆ 5750       ┆ … ┆ null           ┆ 0                 ┆ 5                        ┆ false │\n",
       "└──────────────┴────────────────┴────────────────────┴────────────┴───┴────────────────┴───────────────────┴──────────────────────────┴───────┘"
      ]
     },
     "execution_count": 247,
     "metadata": {},
     "output_type": "execute_result"
    }
   ],
   "source": [
    "# 6.\n",
    "# Skriv hele datasettet til en fil: kjoretoyinfo_preppet.parquet.\n",
    "\n",
    "#Henter tilbake det foretrukne datasettet\n",
    "\n",
    "pl_df = original_pl_df\n",
    "\n",
    "pl_df.write_parquet(\"kjoretoyinfo_preppet.parquet\")\n",
    "\n",
    "pl_df"
   ]
  },
  {
   "cell_type": "code",
   "execution_count": 248,
   "id": "8b4aec31-68df-49bc-bec9-03f742d50e8e",
   "metadata": {},
   "outputs": [
    {
     "name": "stderr",
     "output_type": "stream",
     "text": [
      "C:\\Users\\olesu\\AppData\\Local\\Temp\\ipykernel_35588\\880847288.py:7: DeprecationWarning: `pl.count()` is deprecated. Please use `pl.len()` instead.\n",
      "  pl.count()\n"
     ]
    }
   ],
   "source": [
    "# 7. \n",
    "# Hvor mange elbiler (drivstofftype 5) ble førstegangsregistrert i 2022?\n",
    "\n",
    "regFørsteGangElbil2022 = pl_df.filter(\n",
    "    (pl.col(\"tekn_reg_f_g_n\").dt.year() == 2022) & (pl.col(\"tekn_drivstoff\") == \"5\")\n",
    ").select(\n",
    "    pl.count()\n",
    ")"
   ]
  },
  {
   "cell_type": "code",
   "execution_count": 249,
   "id": "d2d83726-4a07-4cbd-9cfa-80ef438f0f31",
   "metadata": {},
   "outputs": [
    {
     "name": "stdout",
     "output_type": "stream",
     "text": [
      "shape: (1, 1)\n",
      "┌───────────┐\n",
      "│ count     │\n",
      "│ ---       │\n",
      "│ f64       │\n",
      "╞═══════════╡\n",
      "│ 13.487324 │\n",
      "└───────────┘\n"
     ]
    },
    {
     "name": "stderr",
     "output_type": "stream",
     "text": [
      "C:\\Users\\olesu\\AppData\\Local\\Temp\\ipykernel_35588\\1996854735.py:7: DeprecationWarning: `pl.count()` is deprecated. Please use `pl.len()` instead.\n",
      "  pl.count()\n",
      "C:\\Users\\olesu\\AppData\\Local\\Temp\\ipykernel_35588\\1996854735.py:14: DeprecationWarning: `pl.count()` is deprecated. Please use `pl.len()` instead.\n",
      "  pl.count()\n"
     ]
    }
   ],
   "source": [
    "# 8.\n",
    "# Hvor mange prosent av personbilene som ble solgt i 2022 var elbiler? \n",
    "\n",
    "antSolgt2022 = pl_df.filter(\n",
    "    (pl.col(\"tekn_reg_eier_dato\").dt.year() == 2022) \n",
    ").select(\n",
    "    pl.count()\n",
    ")\n",
    "\n",
    "antSolgtElbil2022 = pl_df.filter(\n",
    "    (pl.col(\"tekn_reg_eier_dato\").dt.year() == 2022) & \n",
    "    (pl.col(\"tekn_drivstoff\") == \"5\") \n",
    ").select(\n",
    "    pl.count()\n",
    ")\n",
    "\n",
    "prosentAntSolgtElbil2022 = (antSolgtElbil2022 / antSolgt2022) * 100\n",
    "\n",
    "print(prosentAntSolgtElbil2022)"
   ]
  },
  {
   "cell_type": "code",
   "execution_count": 250,
   "id": "5468e174-a105-44a6-97ce-de3629ba5968",
   "metadata": {},
   "outputs": [
    {
     "data": {
      "text/html": [
       "<div><style>\n",
       ".dataframe > thead > tr,\n",
       ".dataframe > tbody > tr {\n",
       "  text-align: right;\n",
       "  white-space: pre-wrap;\n",
       "}\n",
       "</style>\n",
       "<small>shape: (2, 2)</small><table border=\"1\" class=\"dataframe\"><thead><tr><th>tekn_modell</th><th>populærBil2022</th></tr><tr><td>str</td><td>u32</td></tr></thead><tbody><tr><td>&quot;-&quot;</td><td>221267</td></tr><tr><td>&quot;GOLF&quot;</td><td>82262</td></tr></tbody></table></div>"
      ],
      "text/plain": [
       "shape: (2, 2)\n",
       "┌─────────────┬────────────────┐\n",
       "│ tekn_modell ┆ populærBil2022 │\n",
       "│ ---         ┆ ---            │\n",
       "│ str         ┆ u32            │\n",
       "╞═════════════╪════════════════╡\n",
       "│ -           ┆ 221267         │\n",
       "│ GOLF        ┆ 82262          │\n",
       "└─────────────┴────────────────┘"
      ]
     },
     "execution_count": 250,
     "metadata": {},
     "output_type": "execute_result"
    }
   ],
   "source": [
    "# 9.\n",
    "# Hvilken bilmodell var den mest populære i 2022?\n",
    "\n",
    "mestPopulærBilModell2022 = pl_df.group_by(\"tekn_modell\").agg(\n",
    "    populærBil2022=pl.col(\"tekn_reg_f_g_n\").count()\n",
    ").sort(\"populærBil2022\", descending=True).limit(2)\n",
    "\n",
    "mestPopulærBilModell2022"
   ]
  },
  {
   "cell_type": "code",
   "execution_count": 251,
   "id": "8872a90b-d02f-4351-a3d2-33f6b553e060",
   "metadata": {},
   "outputs": [
    {
     "name": "stdout",
     "output_type": "stream",
     "text": [
      "shape: (1, 1)\n",
      "┌───────┐\n",
      "│ count │\n",
      "│ ---   │\n",
      "│ u32   │\n",
      "╞═══════╡\n",
      "│ 221   │\n",
      "└───────┘\n"
     ]
    },
    {
     "name": "stderr",
     "output_type": "stream",
     "text": [
      "C:\\Users\\olesu\\AppData\\Local\\Temp\\ipykernel_35588\\486270816.py:9: DeprecationWarning: `pl.count()` is deprecated. Please use `pl.len()` instead.\n",
      "  pl.count()\n"
     ]
    }
   ],
   "source": [
    "# 10.\n",
    "# Hvor mange gule kjøretøy ble det solgt i Mai 2022?\n",
    "\n",
    "antSolgtgulKjøretøy2022 = pl_df.filter(\n",
    "    (pl.col(\"tekn_reg_eier_dato\").dt.year() == 2022) & \n",
    "    (pl.col(\"tekn_reg_eier_dato\").dt.month() == 5) & \n",
    "    (pl.col(\"tekn_farge\") == \"09\") \n",
    ").select(\n",
    "    pl.count()\n",
    ")\n",
    "\n",
    "print(antSolgtgulKjøretøy2022)"
   ]
  },
  {
   "cell_type": "code",
   "execution_count": 252,
   "id": "4fa5cdd5-fb1c-4b8a-ba10-bd07f3445a4c",
   "metadata": {},
   "outputs": [
    {
     "name": "stdout",
     "output_type": "stream",
     "text": [
      "shape: (1, 1)\n",
      "┌──────────┐\n",
      "│ count    │\n",
      "│ ---      │\n",
      "│ f64      │\n",
      "╞══════════╡\n",
      "│ 0.005362 │\n",
      "└──────────┘\n"
     ]
    },
    {
     "name": "stderr",
     "output_type": "stream",
     "text": [
      "C:\\Users\\olesu\\AppData\\Local\\Temp\\ipykernel_35588\\3647066993.py:7: DeprecationWarning: `pl.count()` is deprecated. Please use `pl.len()` instead.\n",
      "  pl.count()\n",
      "C:\\Users\\olesu\\AppData\\Local\\Temp\\ipykernel_35588\\3647066993.py:14: DeprecationWarning: `pl.count()` is deprecated. Please use `pl.len()` instead.\n",
      "  pl.count()\n"
     ]
    }
   ],
   "source": [
    "# 11. \n",
    "# Hvor stor andel av personbilene bilene som selges i Norge har firehjulstrekk?\n",
    "\n",
    "totalBilSelges = pl_df.filter(\n",
    "    (pl.col(\"tekn_reg_f_g_n\") != pl.col(\"tekn_reg_eier_dato\"))\n",
    ").select(\n",
    "    pl.count()\n",
    ")\n",
    "\n",
    "bilSelgeFirehjulstrekk = pl_df.filter(\n",
    "    (pl.col(\"tekn_reg_f_g_n\") != pl.col(\"tekn_reg_eier_dato\")) & \n",
    "    (pl.col(\"tekn_aksler_drift\") == 4) \n",
    ").select(\n",
    "    pl.count()\n",
    ")\n",
    "\n",
    "prosentBilSelgeFirehjulstrekk = (bilSelgeFirehjulstrekk / totalBilSelges) * 100\n",
    "\n",
    "print(prosentBilSelgeFirehjulstrekk)\n"
   ]
  },
  {
   "cell_type": "code",
   "execution_count": 253,
   "id": "b659b163-0eb3-46dc-9eb5-c65f14728900",
   "metadata": {},
   "outputs": [
    {
     "data": {
      "text/html": [
       "<div><style>\n",
       ".dataframe > thead > tr,\n",
       ".dataframe > tbody > tr {\n",
       "  text-align: right;\n",
       "  white-space: pre-wrap;\n",
       "}\n",
       "</style>\n",
       "<small>shape: (1, 2)</small><table border=\"1\" class=\"dataframe\"><thead><tr><th>tekn_reg_f_g_n</th><th>regMåned</th></tr><tr><td>i8</td><td>u32</td></tr></thead><tbody><tr><td>6</td><td>314706</td></tr></tbody></table></div>"
      ],
      "text/plain": [
       "shape: (1, 2)\n",
       "┌────────────────┬──────────┐\n",
       "│ tekn_reg_f_g_n ┆ regMåned │\n",
       "│ ---            ┆ ---      │\n",
       "│ i8             ┆ u32      │\n",
       "╞════════════════╪══════════╡\n",
       "│ 6              ┆ 314706   │\n",
       "└────────────────┴──────────┘"
      ]
     },
     "execution_count": 253,
     "metadata": {},
     "output_type": "execute_result"
    }
   ],
   "source": [
    "# 12. \n",
    "# Hvilken måned i året førstegangsregistreres det flest biler i Norge?\n",
    "\n",
    "regMåned = pl_df.group_by(pl.col(\"tekn_reg_f_g_n\").dt.month()).agg(\n",
    "    regMåned=pl.col(\"tekn_reg_f_g_n\").count()\n",
    ").sort(\"regMåned\", descending=True).limit(1)\n",
    "\n",
    "regMåned.head(1)"
   ]
  },
  {
   "cell_type": "code",
   "execution_count": 358,
   "id": "73cb6002-2bb5-4d6a-9d25-ebdce938b82e",
   "metadata": {},
   "outputs": [
    {
     "name": "stderr",
     "output_type": "stream",
     "text": [
      "C:\\Users\\olesu\\AppData\\Local\\Temp\\ipykernel_35588\\87960714.py:7: DeprecationWarning: `pl.count()` is deprecated. Please use `pl.len()` instead.\n",
      "  .agg(pl.count().alias(\"antall_biler_per_farge\"))  # Teller antall biler per farge innen hvert år\n"
     ]
    },
    {
     "name": "stdout",
     "output_type": "stream",
     "text": [
      "shape: (25, 3)\n",
      "┌──────┬─────────────────────┬────────────────────┐\n",
      "│ år   ┆ mest_populære_farge ┆ total_antall_biler │\n",
      "│ ---  ┆ ---                 ┆ ---                │\n",
      "│ i32  ┆ str                 ┆ u32                │\n",
      "╞══════╪═════════════════════╪════════════════════╡\n",
      "│ 2024 ┆ 04,06               ┆ 7183               │\n",
      "│ 2023 ┆ 02                  ┆ 112579             │\n",
      "│ 2022 ┆ 06                  ┆ 147086             │\n",
      "│ 2021 ┆ 01,99               ┆ 154300             │\n",
      "│ 2020 ┆ 01                  ┆ 133071             │\n",
      "│ …    ┆ …                   ┆ …                  │\n",
      "│ 2004 ┆ 07                  ┆ 131298             │\n",
      "│ 2003 ┆ 29                  ┆ 112440             │\n",
      "│ 2002 ┆ 04                  ┆ 108487             │\n",
      "│ 2001 ┆ 06                  ┆ 107718             │\n",
      "│ 2000 ┆ 01,99               ┆ 109089             │\n",
      "└──────┴─────────────────────┴────────────────────┘\n"
     ]
    }
   ],
   "source": [
    "13. \n",
    "# Hva var den mest populære fargen for biler som var førstegangsregistrert i Norge i hvert år?\n",
    "\n",
    "mestPopulæreFarger = (\n",
    "    pl_df\n",
    "    .group_by(pl.col(\"tekn_reg_f_g_n\").dt.year().alias(\"år\"), pl.col(\"tekn_farge\"))\n",
    "    .agg(pl.count().alias(\"antall_biler_per_farge\"))  # Teller antall biler per farge innen hvert år\n",
    "    .group_by(\"år\")  # Grupper resultatene etter år\n",
    "    .agg(\n",
    "        pl.first(\"tekn_farge\").alias(\"mest_populære_farge\"),  # Velger den første fargekoden for hvert år\n",
    "        pl.sum(\"antall_biler_per_farge\").alias(\"total_antall_biler\")  # Summerer antall biler for hver fargekode innen hvert år\n",
    "    )\n",
    "    .sort(\"år\", descending=True)  # Sorterer etter år i synkende rekkefølge\n",
    ")\n",
    "\n",
    "print(mestPopulæreFarger)\n",
    "\n"
   ]
  },
  {
   "cell_type": "code",
   "execution_count": 326,
   "id": "af3835a5-8d96-41a9-83e2-047e29099d1f",
   "metadata": {},
   "outputs": [
    {
     "ename": "ColumnNotFoundError",
     "evalue": "unable to find column \"tekn_tknavn\"; valid columns: [\"tekn_reg_f_g\", \"tekn_reg_f_g_n\", \"tekn_reg_eier_dato\", \"tekn_merke\", \"tekn_modell\", \"tekn_farge\", \"tekn_drivstoff\", \"tekn_siste_pkk\", \"tekn_neste_pkk\", \"tekn_aksler_drift\", \"tekn_sitteplasser_totalt\", \"elbil\"]\n\nError originated just after this operation:\nDF [\"tekn_reg_f_g\", \"tekn_reg_f_g_n\", \"tekn_reg_eier_dato\", \"tekn_merke\"]; PROJECT */12 COLUMNS; SELECTION: \"None\"",
     "output_type": "error",
     "traceback": [
      "\u001b[1;31m---------------------------------------------------------------------------\u001b[0m",
      "\u001b[1;31mColumnNotFoundError\u001b[0m                       Traceback (most recent call last)",
      "Cell \u001b[1;32mIn[326], line 5\u001b[0m\n\u001b[0;32m      1\u001b[0m \u001b[38;5;66;03m# 14. \u001b[39;00m\n\u001b[0;32m      2\u001b[0m \u001b[38;5;66;03m# Hvilken farge var den mest populære for traktorer i 2022? (se teknisk-kode.csv)\u001b[39;00m\n\u001b[0;32m      3\u001b[0m \u001b[38;5;66;03m#Tabellen mangler (\"tekn_tknavn\")-kolonnen.\u001b[39;00m\n\u001b[1;32m----> 5\u001b[0m fargeTraktor2022 \u001b[38;5;241m=\u001b[39m \u001b[43mpl_df\u001b[49m\u001b[38;5;241;43m.\u001b[39;49m\u001b[43mfilter\u001b[49m\u001b[43m(\u001b[49m\n\u001b[0;32m      6\u001b[0m \u001b[43m    \u001b[49m\u001b[43m(\u001b[49m\u001b[43mpl\u001b[49m\u001b[38;5;241;43m.\u001b[39;49m\u001b[43mcol\u001b[49m\u001b[43m(\u001b[49m\u001b[38;5;124;43m\"\u001b[39;49m\u001b[38;5;124;43mtekn_reg_eier_dato\u001b[39;49m\u001b[38;5;124;43m\"\u001b[39;49m\u001b[43m)\u001b[49m\u001b[38;5;241;43m.\u001b[39;49m\u001b[43mdt\u001b[49m\u001b[38;5;241;43m.\u001b[39;49m\u001b[43myear\u001b[49m\u001b[43m(\u001b[49m\u001b[43m)\u001b[49m\u001b[43m \u001b[49m\u001b[38;5;241;43m==\u001b[39;49m\u001b[43m \u001b[49m\u001b[38;5;241;43m2022\u001b[39;49m\u001b[43m)\u001b[49m\u001b[43m \u001b[49m\u001b[38;5;241;43m&\u001b[39;49m\u001b[43m \u001b[49m\n\u001b[0;32m      7\u001b[0m \u001b[43m    \u001b[49m\u001b[43m(\u001b[49m\u001b[43mpl\u001b[49m\u001b[38;5;241;43m.\u001b[39;49m\u001b[43mcol\u001b[49m\u001b[43m(\u001b[49m\u001b[38;5;124;43m\"\u001b[39;49m\u001b[38;5;124;43mtekn_tknavn\u001b[39;49m\u001b[38;5;124;43m\"\u001b[39;49m\u001b[43m)\u001b[49m\u001b[43m \u001b[49m\u001b[38;5;241;43m==\u001b[39;49m\u001b[43m \u001b[49m\u001b[38;5;124;43m\"\u001b[39;49m\u001b[38;5;124;43mTR\u001b[39;49m\u001b[38;5;124;43m\"\u001b[39;49m\u001b[43m)\u001b[49m\n\u001b[0;32m      8\u001b[0m \u001b[43m)\u001b[49m\u001b[38;5;241m.\u001b[39mgroup_by(\u001b[38;5;124m\"\u001b[39m\u001b[38;5;124mtekn_farge\u001b[39m\u001b[38;5;124m\"\u001b[39m)\u001b[38;5;241m.\u001b[39magg(\n\u001b[0;32m      9\u001b[0m     fargeTraktor2022\u001b[38;5;241m=\u001b[39mpl\u001b[38;5;241m.\u001b[39mcount()\n\u001b[0;32m     10\u001b[0m )\u001b[38;5;241m.\u001b[39msort(\u001b[38;5;124m\"\u001b[39m\u001b[38;5;124mfargeTraktor2022\u001b[39m\u001b[38;5;124m\"\u001b[39m, descending\u001b[38;5;241m=\u001b[39m\u001b[38;5;28;01mTrue\u001b[39;00m)\n",
      "File \u001b[1;32m~\\miniconda3\\envs\\DAT2000_V24\\lib\\site-packages\\polars\\dataframe\\frame.py:4298\u001b[0m, in \u001b[0;36mDataFrame.filter\u001b[1;34m(self, *predicates, **constraints)\u001b[0m\n\u001b[0;32m   4200\u001b[0m \u001b[38;5;28;01mdef\u001b[39;00m \u001b[38;5;21mfilter\u001b[39m(\n\u001b[0;32m   4201\u001b[0m     \u001b[38;5;28mself\u001b[39m,\n\u001b[0;32m   4202\u001b[0m     \u001b[38;5;241m*\u001b[39mpredicates: (\n\u001b[1;32m   (...)\u001b[0m\n\u001b[0;32m   4209\u001b[0m     \u001b[38;5;241m*\u001b[39m\u001b[38;5;241m*\u001b[39mconstraints: Any,\n\u001b[0;32m   4210\u001b[0m ) \u001b[38;5;241m-\u001b[39m\u001b[38;5;241m>\u001b[39m DataFrame:\n\u001b[0;32m   4211\u001b[0m \u001b[38;5;250m    \u001b[39m\u001b[38;5;124;03m\"\"\"\u001b[39;00m\n\u001b[0;32m   4212\u001b[0m \u001b[38;5;124;03m    Filter the rows in the DataFrame based on one or more predicate expressions.\u001b[39;00m\n\u001b[0;32m   4213\u001b[0m \n\u001b[1;32m   (...)\u001b[0m\n\u001b[0;32m   4296\u001b[0m \u001b[38;5;124;03m    └─────┴─────┴─────┘\u001b[39;00m\n\u001b[0;32m   4297\u001b[0m \u001b[38;5;124;03m    \"\"\"\u001b[39;00m\n\u001b[1;32m-> 4298\u001b[0m     \u001b[38;5;28;01mreturn\u001b[39;00m \u001b[38;5;28;43mself\u001b[39;49m\u001b[38;5;241;43m.\u001b[39;49m\u001b[43mlazy\u001b[49m\u001b[43m(\u001b[49m\u001b[43m)\u001b[49m\u001b[38;5;241;43m.\u001b[39;49m\u001b[43mfilter\u001b[49m\u001b[43m(\u001b[49m\u001b[38;5;241;43m*\u001b[39;49m\u001b[43mpredicates\u001b[49m\u001b[43m,\u001b[49m\u001b[43m \u001b[49m\u001b[38;5;241;43m*\u001b[39;49m\u001b[38;5;241;43m*\u001b[39;49m\u001b[43mconstraints\u001b[49m\u001b[43m)\u001b[49m\u001b[38;5;241;43m.\u001b[39;49m\u001b[43mcollect\u001b[49m\u001b[43m(\u001b[49m\u001b[43m_eager\u001b[49m\u001b[38;5;241;43m=\u001b[39;49m\u001b[38;5;28;43;01mTrue\u001b[39;49;00m\u001b[43m)\u001b[49m\n",
      "File \u001b[1;32m~\\miniconda3\\envs\\DAT2000_V24\\lib\\site-packages\\polars\\lazyframe\\frame.py:1940\u001b[0m, in \u001b[0;36mLazyFrame.collect\u001b[1;34m(self, type_coercion, predicate_pushdown, projection_pushdown, simplify_expression, slice_pushdown, comm_subplan_elim, comm_subexpr_elim, no_optimization, streaming, background, _eager)\u001b[0m\n\u001b[0;32m   1937\u001b[0m \u001b[38;5;28;01mif\u001b[39;00m background:\n\u001b[0;32m   1938\u001b[0m     \u001b[38;5;28;01mreturn\u001b[39;00m InProcessQuery(ldf\u001b[38;5;241m.\u001b[39mcollect_concurrently())\n\u001b[1;32m-> 1940\u001b[0m \u001b[38;5;28;01mreturn\u001b[39;00m wrap_df(\u001b[43mldf\u001b[49m\u001b[38;5;241;43m.\u001b[39;49m\u001b[43mcollect\u001b[49m\u001b[43m(\u001b[49m\u001b[43m)\u001b[49m)\n",
      "\u001b[1;31mColumnNotFoundError\u001b[0m: unable to find column \"tekn_tknavn\"; valid columns: [\"tekn_reg_f_g\", \"tekn_reg_f_g_n\", \"tekn_reg_eier_dato\", \"tekn_merke\", \"tekn_modell\", \"tekn_farge\", \"tekn_drivstoff\", \"tekn_siste_pkk\", \"tekn_neste_pkk\", \"tekn_aksler_drift\", \"tekn_sitteplasser_totalt\", \"elbil\"]\n\nError originated just after this operation:\nDF [\"tekn_reg_f_g\", \"tekn_reg_f_g_n\", \"tekn_reg_eier_dato\", \"tekn_merke\"]; PROJECT */12 COLUMNS; SELECTION: \"None\""
     ]
    }
   ],
   "source": [
    "# 14. \n",
    "# Hvilken farge var den mest populære for traktorer i 2022? (se teknisk-kode.csv)\n",
    "#Tabellen mangler (\"tekn_tknavn\")-kolonnen.\n",
    "\n",
    "fargeTraktor2022 = pl_df.filter(\n",
    "    (pl.col(\"tekn_reg_eier_dato\").dt.year() == 2022) & \n",
    "    (pl.col(\"tekn_tknavn\") == \"TR\")\n",
    ").group_by(\"tekn_farge\").agg(\n",
    "    fargeTraktor2022=pl.count()\n",
    ").sort(\"fargeTraktor2022\", descending=True)"
   ]
  },
  {
   "cell_type": "code",
   "execution_count": 294,
   "id": "b5191f99-33ac-4040-862b-24e5d2a81c22",
   "metadata": {},
   "outputs": [],
   "source": [
    "# 15. \n",
    "# Hvilke bilmerker var de fem mest populære i 2022?\n",
    "\n",
    "most_popular_colors_by_model = pl_df.group_by(\"tekn_modell\").agg(\n",
    "    populærBil2022=pl.col(\"tekn_reg_f_g_n\").count()\n",
    ").sort(\"populærBil2022\", descending=True).limit(5)"
   ]
  },
  {
   "cell_type": "code",
   "execution_count": 351,
   "id": "811ea711-fa86-46da-80dc-623aa51b12b4",
   "metadata": {},
   "outputs": [
    {
     "name": "stdout",
     "output_type": "stream",
     "text": [
      "shape: (736, 2)\n",
      "┌────────────┬─────────────────────┐\n",
      "│ tekn_merke ┆ mest_populære_farge │\n",
      "│ ---        ┆ ---                 │\n",
      "│ i64        ┆ str                 │\n",
      "╞════════════╪═════════════════════╡\n",
      "│ 9720       ┆ 02                  │\n",
      "│ 9660       ┆ 02,06               │\n",
      "│ 9570       ┆ 06                  │\n",
      "│ 9380       ┆ 04                  │\n",
      "│ 9242       ┆ 05                  │\n",
      "│ …          ┆ …                   │\n",
      "│ 14         ┆ 06                  │\n",
      "│ 13         ┆ 01                  │\n",
      "│ 7          ┆ 02                  │\n",
      "│ 5          ┆ 11                  │\n",
      "│ 2          ┆ 02                  │\n",
      "└────────────┴─────────────────────┘\n"
     ]
    },
    {
     "name": "stderr",
     "output_type": "stream",
     "text": [
      "C:\\Users\\olesu\\AppData\\Local\\Temp\\ipykernel_35588\\2357241233.py:7: DeprecationWarning: `pl.count()` is deprecated. Please use `pl.len()` instead.\n",
      "  .agg(pl.count().alias(\"antall_biler\"))  # Tell antall biler for hvert bilmerke og farge\n"
     ]
    }
   ],
   "source": [
    "# 16. Hva var den mest populære fargen for de fem mest populære bilmerkene i 2022 (førstegangsregistrert 2022)?\n",
    "\n",
    "mest_populære_farger = (\n",
    "    pl_df.filter(pl.col(\"tekn_reg_f_g_n\").dt.year() == 2022)  # Filtrer for førstegangsregistreringer i 2022\n",
    "    .group_by(\"tekn_merke\", \"tekn_farge\")  # Grupper etter bilmerke og farge\n",
    "    .agg(pl.count().alias(\"antall_biler\"))  # Tell antall biler for hvert bilmerke og farge\n",
    "    .sort(\"tekn_merke\", \"antall_biler\", descending=True)  # Sorter etter bilmerke og antall biler i synkende rekkefølge\n",
    "    .group_by(\"tekn_merke\")  # Grupper etter bilmerke igjen\n",
    "    .agg(pl.first(\"tekn_farge\").alias(\"mest_populære_farge\"))  # Velg den mest populære fargen for hvert bilmerke\n",
    ")\n",
    "\n",
    "print(mest_populære_farger)\n",
    "\n"
   ]
  },
  {
   "cell_type": "code",
   "execution_count": null,
   "id": "8396a624-6971-4227-a132-5a56ce0010c3",
   "metadata": {},
   "outputs": [],
   "source": []
  },
  {
   "cell_type": "code",
   "execution_count": null,
   "id": "b97e6366-5cdb-4709-8e63-cdb957b4a4a6",
   "metadata": {},
   "outputs": [],
   "source": []
  }
 ],
 "metadata": {
  "kernelspec": {
   "display_name": "Python 3 (ipykernel)",
   "language": "python",
   "name": "python3"
  },
  "language_info": {
   "codemirror_mode": {
    "name": "ipython",
    "version": 3
   },
   "file_extension": ".py",
   "mimetype": "text/x-python",
   "name": "python",
   "nbconvert_exporter": "python",
   "pygments_lexer": "ipython3",
   "version": "3.10.13"
  }
 },
 "nbformat": 4,
 "nbformat_minor": 5
}

{
 "cells": [
  {
   "cell_type": "code",
   "execution_count": null,
   "id": "initial_id",
   "metadata": {},
   "outputs": [],
   "source": [
    "import polars as pl"
   ]
  },
  {
   "cell_type": "code",
   "execution_count": null,
   "id": "9644e959-69da-41e3-b4ef-98714cb2cd94",
   "metadata": {},
   "outputs": [],
   "source": [
    "# Leser inn kjoretoyinfo_preppet.parquet fra forrige oppgave, og bruker denne som utgangspunkt.\n",
    "\n",
    "pl_df = pl.scan_parquet(\"filer/kjoretoyinfo_preppet.parquet\").collect()\n",
    "\n",
    "pl_df"
   ]
  },
  {
   "cell_type": "code",
   "execution_count": null,
   "id": "d6ea2f9d-44ed-49aa-ab3a-fb945ce19a4d",
   "metadata": {},
   "outputs": [],
   "source": [
    "# 7. \n",
    "# Hvor mange elbiler (drivstofftype 5) ble førstegangsregistrert i 2022?\n",
    "\n",
    "regFørsteGangElbil2022 = pl_df.filter(\n",
    "    (pl.col(\"tekn_reg_f_g_n\").dt.year() == 2022) & (pl.col(\"tekn_drivstoff\") == \"5\")\n",
    ").select(\n",
    "    pl.count()\n",
    ")\n",
    "\n",
    "regFørsteGangElbil2022"
   ]
  },
  {
   "cell_type": "code",
   "execution_count": null,
   "id": "3332bfec-0139-42f5-8b65-83c1d1bbcb63",
   "metadata": {},
   "outputs": [],
   "source": [
    "# 8.\n",
    "# Hvor mange prosent av personbilene som ble solgt i 2022 var elbiler? \n",
    "\n",
    "antSolgt2022 = pl_df.filter(\n",
    "    (pl.col(\"tekn_reg_eier_dato\").dt.year() == 2022) \n",
    ").select(\n",
    "    pl.count()\n",
    ")\n",
    "\n",
    "antSolgtElbil2022 = pl_df.filter(\n",
    "    (pl.col(\"tekn_reg_eier_dato\").dt.year() == 2022) & \n",
    "    (pl.col(\"tekn_drivstoff\") == \"5\") \n",
    ").select(\n",
    "    pl.count()\n",
    ")\n",
    "\n",
    "prosentAntSolgtElbil2022 = (antSolgtElbil2022 / antSolgt2022) * 100\n",
    "\n",
    "prosentAntSolgtElbil2022"
   ]
  },
  {
   "cell_type": "code",
   "execution_count": null,
   "id": "cb4ce6f8-a34b-4c43-a209-8dc293d7d073",
   "metadata": {},
   "outputs": [],
   "source": [
    "# 9.\n",
    "# Hvilken bilmodell var den mest populære i 2022?\n",
    "\n",
    "mestPopulærBil2022 = pl_df.group_by(\"tekn_modell\").agg(\n",
    "    populærBil2022=pl.col(\"tekn_reg_f_g_n\").count()\n",
    ").sort(\"populærBil2022\", descending=True).limit(2)\n",
    "\n",
    "mestPopulærBil2022"
   ]
  },
  {
   "cell_type": "code",
   "execution_count": null,
   "id": "a166c2d2-0041-4e91-b7fc-e5185786c6ee",
   "metadata": {},
   "outputs": [],
   "source": [
    "# 10.\n",
    "# Hvor mange gule kjøretøy ble det solgt i Mai 2022?\n",
    "\n",
    "antSolgtGulKjøretøy2022 = pl_df.filter(\n",
    "    (pl.col(\"tekn_reg_eier_dato\").dt.year() == 2022) & \n",
    "    (pl.col(\"tekn_reg_eier_dato\").dt.month() == 5) & \n",
    "    (pl.col(\"farge_kode\") == 9) \n",
    ").select(\n",
    "    pl.count()\n",
    ")\n",
    "\n",
    "antSolgtGulKjøretøy2022"
   ]
  },
  {
   "cell_type": "code",
   "execution_count": null,
   "id": "6680221d-f41d-4e6c-a4ac-f61789099f62",
   "metadata": {},
   "outputs": [],
   "source": [
    "# 11. \n",
    "# Hvor stor andel av personbilene bilene som selges i Norge har firehjulstrekk?\n",
    "\n",
    "totalBilSelges = pl_df.filter(\n",
    "    (pl.col(\"tekn_reg_f_g_n\") != pl.col(\"tekn_reg_eier_dato\"))\n",
    ").select(\n",
    "    pl.count()\n",
    ")\n",
    "\n",
    "bilSelgeFirehjulstrekk = pl_df.filter(\n",
    "    (pl.col(\"tekn_reg_f_g_n\") != pl.col(\"tekn_reg_eier_dato\")) & \n",
    "    (pl.col(\"tekn_aksler_drift\") == 4) \n",
    ").select(\n",
    "    pl.count()\n",
    ")\n",
    "\n",
    "prosentBilSelgeFirehjulstrekk = (bilSelgeFirehjulstrekk / totalBilSelges) * 100\n",
    "\n",
    "prosentBilSelgeFirehjulstrekk"
   ]
  },
  {
   "cell_type": "code",
   "execution_count": null,
   "id": "24e23a66-7d49-4fe3-a099-82bab0bb66d9",
   "metadata": {},
   "outputs": [],
   "source": [
    "# 12. \n",
    "# Hvilken måned i året førstegangsregistreres det flest biler i Norge?\n",
    "\n",
    "antReg = pl_df.group_by(pl.col(\"tekn_reg_f_g_n\").dt.month()).agg(\n",
    "    antReg=pl.col(\"tekn_reg_f_g_n\").count()\n",
    ").sort(\"antReg\", descending=True).limit(1)\n",
    "\n",
    "antReg"
   ]
  },
  {
   "cell_type": "code",
   "execution_count": null,
   "id": "2f0e28cc-7ba4-44fe-8507-453f3782e1ae",
   "metadata": {},
   "outputs": [],
   "source": [
    "13. \n",
    "# Hva var den mest populære fargen for biler som var førstegangsregistrert i Norge i hvert år?\n",
    "\n",
    "mestPopulæreFarger = (\n",
    "    pl_df\n",
    "    .group_by(pl.col(\"tekn_reg_f_g_n\").dt.year().alias(\"år\"), pl.col(\"farge_kode\"))\n",
    "    .agg(pl.count().alias(\"antall_biler_per_farge\"))  # Teller antall biler per farge innen hvert år.\n",
    "    .group_by(\"år\")  # Grupper resultatene etter år.\n",
    "    .agg(\n",
    "        pl.first(\"farge_kode\").alias(\"mest_populære_farge\"),  # Velger den første fargekoden for hvert år.\n",
    "        pl.sum(\"antall_biler_per_farge\").alias(\"total_antall_biler\")  # Summerer antall biler for hver fargekode innen hvert år.\n",
    "    )\n",
    "    .sort(\"år\", descending=True)  # Sorterer etter år i synkende rekkefølge.\n",
    ")\n",
    "\n",
    "mestPopulæreFarger"
   ]
  },
  {
   "cell_type": "code",
   "execution_count": null,
   "id": "b3960ad4-e679-4f62-9398-c1894d320395",
   "metadata": {},
   "outputs": [],
   "source": [
    "# 14. \n",
    "# Hvilken farge var den mest populære for traktorer i 2022? (se teknisk-kode.csv)\n",
    "#Tabellen mangler (\"tekn_tknavn\")-kolonnen.\n",
    "\n",
    "fargeTraktor2022 = pl_df.filter(\n",
    "    (pl.col(\"tekn_reg_eier_dato\").dt.year() == 2022) & \n",
    "    (pl.col(\"tekn_tknavn\") == \"TR\")\n",
    ").group_by(\"farge_kode\").agg(\n",
    "    fargeTraktor2022=pl.count()\n",
    ").sort(\"fargeTraktor2022\", descending=True)"
   ]
  },
  {
   "cell_type": "code",
   "execution_count": null,
   "id": "aff7a96b-2c13-49ec-a195-6c8e5c7410a6",
   "metadata": {},
   "outputs": [],
   "source": [
    "# 15. \n",
    "# Hvilke bilmerker var de fem mest populære i 2022?\n",
    "\n",
    "mostPopularCars=pl_df.group_by(\"tekn_modell\").agg(\n",
    "    populærBil2022=pl.col(\"tekn_reg_f_g_n\").count()\n",
    ").sort(\"populærBil2022\", descending=True).limit(6)\n",
    "\n",
    "mostPopularCars"
   ]
  },
  {
   "cell_type": "code",
   "execution_count": null,
   "id": "225a0aa3-744f-4a6e-885e-b4a79303702b",
   "metadata": {},
   "outputs": [],
   "source": [
    "# 16. \n",
    "# Hva var den mest populære fargen for de fem mest populære bilmerkene i 2022 (førstegangsregistrert 2022)?\n",
    "\n",
    "mest_populære_farger = (\n",
    "    pl_df.filter(pl.col(\"tekn_reg_f_g_n\").dt.year() == 2022)  # Filtrer for førstegangsregistreringer i 2022.\n",
    "    .group_by(\"tekn_merke\", \"farge_kode\")  # Grupper etter bilmerke og farge.\n",
    "    .agg(pl.count().alias(\"antall_biler\"))  # Tell antall biler for hvert bilmerke og farge.\n",
    "    .sort(\"tekn_merke\", \"antall_biler\", descending=True)  # Sorter etter bilmerke og antall biler i synkende rekkefølge.\n",
    "    .group_by(\"tekn_merke\")  # Grupper etter bilmerke igjen.\n",
    "    .agg(pl.first(\"farge_kode\").alias(\"mest_populære_farge\"))  # Velg den mest populære fargen for hvert bilmerke.\n",
    ")\n",
    "\n",
    "mest_populære_farger"
   ]
  }
 ],
 "metadata": {
  "kernelspec": {
   "display_name": "Python 3 (ipykernel)",
   "language": "python",
   "name": "python3"
  },
  "language_info": {
   "codemirror_mode": {
    "name": "ipython",
    "version": 3
   },
   "file_extension": ".py",
   "mimetype": "text/x-python",
   "name": "python",
   "nbconvert_exporter": "python",
   "pygments_lexer": "ipython3",
   "version": "3.10.13"
  }
 },
 "nbformat": 4,
 "nbformat_minor": 5
}

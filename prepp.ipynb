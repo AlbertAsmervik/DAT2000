{
 "cells": [
  {
   "cell_type": "code",
   "execution_count": 155,
   "id": "280c8504-facd-47c8-9eb7-59a5732936b3",
   "metadata": {},
   "outputs": [],
   "source": [
    "import polars as pl"
   ]
  },
  {
   "cell_type": "code",
   "execution_count": 156,
   "id": "80af3958-a7ce-4a3a-82a7-f8b401394549",
   "metadata": {},
   "outputs": [],
   "source": [
    "pl_df = pl.scan_parquet(\"filer/kjoretoyinfo_fra_2000.parquet\").head(10).collect()"
   ]
  },
  {
   "cell_type": "code",
   "execution_count": 157,
   "id": "adc20289-8026-4a27-aa88-72810c062873",
   "metadata": {},
   "outputs": [
    {
     "data": {
      "text/html": [
       "<div><style>\n",
       ".dataframe > thead > tr,\n",
       ".dataframe > tbody > tr {\n",
       "  text-align: right;\n",
       "  white-space: pre-wrap;\n",
       "}\n",
       "</style>\n",
       "<small>shape: (10, 11)</small><table border=\"1\" class=\"dataframe\"><thead><tr><th>tekn_reg_f_g</th><th>tekn_reg_f_g_n</th><th>tekn_reg_eier_dato</th><th>tekn_merke</th><th>tekn_modell</th><th>tekn_farge</th><th>tekn_drivstoff</th><th>tekn_siste_pkk</th><th>tekn_neste_pkk</th><th>tekn_aksler_drift</th><th>tekn_sitteplasser_totalt</th></tr><tr><td>i64</td><td>i64</td><td>i64</td><td>i64</td><td>str</td><td>str</td><td>str</td><td>str</td><td>str</td><td>i64</td><td>i64</td></tr></thead><tbody><tr><td>20211013</td><td>20211013</td><td>20211013</td><td>3900</td><td>&quot;VITO&quot;</td><td>&quot;05&quot;</td><td>&quot;2&quot;</td><td>null</td><td>&quot;20251013&quot;</td><td>2</td><td>3</td></tr><tr><td>20200129</td><td>20200129</td><td>20200129</td><td>5750</td><td>&quot;CADDY&quot;</td><td>&quot;06&quot;</td><td>&quot;2&quot;</td><td>&quot;20231205&quot;</td><td>&quot;20260129&quot;</td><td>2</td><td>2</td></tr><tr><td>20231129</td><td>20231129</td><td>20231129</td><td>2600</td><td>&quot;Mustang Mach-E…</td><td>&quot;06&quot;</td><td>&quot;5&quot;</td><td>null</td><td>&quot;20271129&quot;</td><td>1</td><td>5</td></tr><tr><td>20200127</td><td>20200127</td><td>20200127</td><td>5750</td><td>&quot;CADDY&quot;</td><td>&quot;01&quot;</td><td>&quot;2&quot;</td><td>null</td><td>&quot;20240127&quot;</td><td>2</td><td>2</td></tr><tr><td>20180731</td><td>20190130</td><td>20190130</td><td>2600</td><td>&quot;F-150 Platinum…</td><td>&quot;06&quot;</td><td>&quot;2&quot;</td><td>&quot;20220503&quot;</td><td>&quot;20240503&quot;</td><td>2</td><td>2</td></tr><tr><td>20200519</td><td>20200519</td><td>20200519</td><td>5750</td><td>&quot;CRAFTER&quot;</td><td>&quot;01&quot;</td><td>&quot;2&quot;</td><td>null</td><td>&quot;20240519&quot;</td><td>1</td><td>3</td></tr><tr><td>20200911</td><td>20200911</td><td>20220216</td><td>5150</td><td>&quot;CITIGO&quot;</td><td>&quot;01&quot;</td><td>&quot;5&quot;</td><td>null</td><td>&quot;20240911&quot;</td><td>1</td><td>4</td></tr><tr><td>20220512</td><td>20220512</td><td>20220512</td><td>5480</td><td>&quot;YARIS&quot;</td><td>&quot;04&quot;</td><td>&quot;1,5&quot;</td><td>null</td><td>&quot;20260512&quot;</td><td>1</td><td>5</td></tr><tr><td>20221104</td><td>20221104</td><td>20221104</td><td>5480</td><td>&quot;RAV4&quot;</td><td>&quot;06&quot;</td><td>&quot;1,5,5&quot;</td><td>null</td><td>&quot;20261104&quot;</td><td>2</td><td>5</td></tr><tr><td>20210421</td><td>20210421</td><td>20210421</td><td>5480</td><td>&quot;TOYOTA LAND CR…</td><td>&quot;01&quot;</td><td>&quot;2&quot;</td><td>null</td><td>&quot;20250421&quot;</td><td>2</td><td>2</td></tr></tbody></table></div>"
      ],
      "text/plain": [
       "shape: (10, 11)\n",
       "┌──────────────┬────────────────┬────────────────────┬────────────┬───┬────────────────┬────────────────┬───────────────────┬──────────────────────┐\n",
       "│ tekn_reg_f_g ┆ tekn_reg_f_g_n ┆ tekn_reg_eier_dato ┆ tekn_merke ┆ … ┆ tekn_siste_pkk ┆ tekn_neste_pkk ┆ tekn_aksler_drift ┆ tekn_sitteplasser_to │\n",
       "│ ---          ┆ ---            ┆ ---                ┆ ---        ┆   ┆ ---            ┆ ---            ┆ ---               ┆ talt                 │\n",
       "│ i64          ┆ i64            ┆ i64                ┆ i64        ┆   ┆ str            ┆ str            ┆ i64               ┆ ---                  │\n",
       "│              ┆                ┆                    ┆            ┆   ┆                ┆                ┆                   ┆ i64                  │\n",
       "╞══════════════╪════════════════╪════════════════════╪════════════╪═══╪════════════════╪════════════════╪═══════════════════╪══════════════════════╡\n",
       "│ 20211013     ┆ 20211013       ┆ 20211013           ┆ 3900       ┆ … ┆ null           ┆ 20251013       ┆ 2                 ┆ 3                    │\n",
       "│ 20200129     ┆ 20200129       ┆ 20200129           ┆ 5750       ┆ … ┆ 20231205       ┆ 20260129       ┆ 2                 ┆ 2                    │\n",
       "│ 20231129     ┆ 20231129       ┆ 20231129           ┆ 2600       ┆ … ┆ null           ┆ 20271129       ┆ 1                 ┆ 5                    │\n",
       "│ 20200127     ┆ 20200127       ┆ 20200127           ┆ 5750       ┆ … ┆ null           ┆ 20240127       ┆ 2                 ┆ 2                    │\n",
       "│ 20180731     ┆ 20190130       ┆ 20190130           ┆ 2600       ┆ … ┆ 20220503       ┆ 20240503       ┆ 2                 ┆ 2                    │\n",
       "│ 20200519     ┆ 20200519       ┆ 20200519           ┆ 5750       ┆ … ┆ null           ┆ 20240519       ┆ 1                 ┆ 3                    │\n",
       "│ 20200911     ┆ 20200911       ┆ 20220216           ┆ 5150       ┆ … ┆ null           ┆ 20240911       ┆ 1                 ┆ 4                    │\n",
       "│ 20220512     ┆ 20220512       ┆ 20220512           ┆ 5480       ┆ … ┆ null           ┆ 20260512       ┆ 1                 ┆ 5                    │\n",
       "│ 20221104     ┆ 20221104       ┆ 20221104           ┆ 5480       ┆ … ┆ null           ┆ 20261104       ┆ 2                 ┆ 5                    │\n",
       "│ 20210421     ┆ 20210421       ┆ 20210421           ┆ 5480       ┆ … ┆ null           ┆ 20250421       ┆ 2                 ┆ 2                    │\n",
       "└──────────────┴────────────────┴────────────────────┴────────────┴───┴────────────────┴────────────────┴───────────────────┴──────────────────────┘"
      ]
     },
     "execution_count": 157,
     "metadata": {},
     "output_type": "execute_result"
    }
   ],
   "source": [
    "pl_df"
   ]
  },
  {
   "cell_type": "code",
   "execution_count": 158,
   "id": "0912b082-8fad-4321-8c78-77c9de994f35",
   "metadata": {},
   "outputs": [
    {
     "data": {
      "text/html": [
       "<div><style>\n",
       ".dataframe > thead > tr,\n",
       ".dataframe > tbody > tr {\n",
       "  text-align: right;\n",
       "  white-space: pre-wrap;\n",
       "}\n",
       "</style>\n",
       "<small>shape: (10, 13)</small><table border=\"1\" class=\"dataframe\"><thead><tr><th>tekn_reg_f_g</th><th>tekn_reg_f_g_n</th><th>tekn_reg_eier_dato</th><th>tekn_merke</th><th>tekn_modell</th><th>tekn_farge</th><th>tekn_drivstoff</th><th>tekn_siste_pkk</th><th>tekn_neste_pkk</th><th>tekn_aksler_drift</th><th>tekn_sitteplasser_totalt</th><th>tekn_reg_f_g_n_datetime</th><th>tekn_reg_eier_dato datetime</th></tr><tr><td>i64</td><td>i64</td><td>i64</td><td>i64</td><td>str</td><td>str</td><td>str</td><td>str</td><td>str</td><td>i64</td><td>i64</td><td>datetime[μs]</td><td>datetime[μs]</td></tr></thead><tbody><tr><td>20211013</td><td>20211013</td><td>20211013</td><td>3900</td><td>&quot;VITO&quot;</td><td>&quot;05&quot;</td><td>&quot;2&quot;</td><td>null</td><td>&quot;20251013&quot;</td><td>2</td><td>3</td><td>2021-10-13 00:00:00</td><td>2021-10-13 00:00:00</td></tr><tr><td>20200129</td><td>20200129</td><td>20200129</td><td>5750</td><td>&quot;CADDY&quot;</td><td>&quot;06&quot;</td><td>&quot;2&quot;</td><td>&quot;20231205&quot;</td><td>&quot;20260129&quot;</td><td>2</td><td>2</td><td>2020-01-29 00:00:00</td><td>2020-01-29 00:00:00</td></tr><tr><td>20231129</td><td>20231129</td><td>20231129</td><td>2600</td><td>&quot;Mustang Mach-E…</td><td>&quot;06&quot;</td><td>&quot;5&quot;</td><td>null</td><td>&quot;20271129&quot;</td><td>1</td><td>5</td><td>2023-11-29 00:00:00</td><td>2023-11-29 00:00:00</td></tr><tr><td>20200127</td><td>20200127</td><td>20200127</td><td>5750</td><td>&quot;CADDY&quot;</td><td>&quot;01&quot;</td><td>&quot;2&quot;</td><td>null</td><td>&quot;20240127&quot;</td><td>2</td><td>2</td><td>2020-01-27 00:00:00</td><td>2020-01-27 00:00:00</td></tr><tr><td>20180731</td><td>20190130</td><td>20190130</td><td>2600</td><td>&quot;F-150 Platinum…</td><td>&quot;06&quot;</td><td>&quot;2&quot;</td><td>&quot;20220503&quot;</td><td>&quot;20240503&quot;</td><td>2</td><td>2</td><td>2019-01-30 00:00:00</td><td>2019-01-30 00:00:00</td></tr><tr><td>20200519</td><td>20200519</td><td>20200519</td><td>5750</td><td>&quot;CRAFTER&quot;</td><td>&quot;01&quot;</td><td>&quot;2&quot;</td><td>null</td><td>&quot;20240519&quot;</td><td>1</td><td>3</td><td>2020-05-19 00:00:00</td><td>2020-05-19 00:00:00</td></tr><tr><td>20200911</td><td>20200911</td><td>20220216</td><td>5150</td><td>&quot;CITIGO&quot;</td><td>&quot;01&quot;</td><td>&quot;5&quot;</td><td>null</td><td>&quot;20240911&quot;</td><td>1</td><td>4</td><td>2020-09-11 00:00:00</td><td>2022-02-16 00:00:00</td></tr><tr><td>20220512</td><td>20220512</td><td>20220512</td><td>5480</td><td>&quot;YARIS&quot;</td><td>&quot;04&quot;</td><td>&quot;1,5&quot;</td><td>null</td><td>&quot;20260512&quot;</td><td>1</td><td>5</td><td>2022-05-12 00:00:00</td><td>2022-05-12 00:00:00</td></tr><tr><td>20221104</td><td>20221104</td><td>20221104</td><td>5480</td><td>&quot;RAV4&quot;</td><td>&quot;06&quot;</td><td>&quot;1,5,5&quot;</td><td>null</td><td>&quot;20261104&quot;</td><td>2</td><td>5</td><td>2022-11-04 00:00:00</td><td>2022-11-04 00:00:00</td></tr><tr><td>20210421</td><td>20210421</td><td>20210421</td><td>5480</td><td>&quot;TOYOTA LAND CR…</td><td>&quot;01&quot;</td><td>&quot;2&quot;</td><td>null</td><td>&quot;20250421&quot;</td><td>2</td><td>2</td><td>2021-04-21 00:00:00</td><td>2021-04-21 00:00:00</td></tr></tbody></table></div>"
      ],
      "text/plain": [
       "shape: (10, 13)\n",
       "┌──────────────┬────────────────┬───────────────────┬────────────┬───┬───────────────────┬───────────────────┬──────────────────┬──────────────────┐\n",
       "│ tekn_reg_f_g ┆ tekn_reg_f_g_n ┆ tekn_reg_eier_dat ┆ tekn_merke ┆ … ┆ tekn_aksler_drift ┆ tekn_sitteplasser ┆ tekn_reg_f_g_n_d ┆ tekn_reg_eier_da │\n",
       "│ ---          ┆ ---            ┆ o                 ┆ ---        ┆   ┆ ---               ┆ _totalt           ┆ atetime          ┆ to datetime      │\n",
       "│ i64          ┆ i64            ┆ ---               ┆ i64        ┆   ┆ i64               ┆ ---               ┆ ---              ┆ ---              │\n",
       "│              ┆                ┆ i64               ┆            ┆   ┆                   ┆ i64               ┆ datetime[μs]     ┆ datetime[μs]     │\n",
       "╞══════════════╪════════════════╪═══════════════════╪════════════╪═══╪═══════════════════╪═══════════════════╪══════════════════╪══════════════════╡\n",
       "│ 20211013     ┆ 20211013       ┆ 20211013          ┆ 3900       ┆ … ┆ 2                 ┆ 3                 ┆ 2021-10-13       ┆ 2021-10-13       │\n",
       "│              ┆                ┆                   ┆            ┆   ┆                   ┆                   ┆ 00:00:00         ┆ 00:00:00         │\n",
       "│ 20200129     ┆ 20200129       ┆ 20200129          ┆ 5750       ┆ … ┆ 2                 ┆ 2                 ┆ 2020-01-29       ┆ 2020-01-29       │\n",
       "│              ┆                ┆                   ┆            ┆   ┆                   ┆                   ┆ 00:00:00         ┆ 00:00:00         │\n",
       "│ 20231129     ┆ 20231129       ┆ 20231129          ┆ 2600       ┆ … ┆ 1                 ┆ 5                 ┆ 2023-11-29       ┆ 2023-11-29       │\n",
       "│              ┆                ┆                   ┆            ┆   ┆                   ┆                   ┆ 00:00:00         ┆ 00:00:00         │\n",
       "│ 20200127     ┆ 20200127       ┆ 20200127          ┆ 5750       ┆ … ┆ 2                 ┆ 2                 ┆ 2020-01-27       ┆ 2020-01-27       │\n",
       "│              ┆                ┆                   ┆            ┆   ┆                   ┆                   ┆ 00:00:00         ┆ 00:00:00         │\n",
       "│ 20180731     ┆ 20190130       ┆ 20190130          ┆ 2600       ┆ … ┆ 2                 ┆ 2                 ┆ 2019-01-30       ┆ 2019-01-30       │\n",
       "│              ┆                ┆                   ┆            ┆   ┆                   ┆                   ┆ 00:00:00         ┆ 00:00:00         │\n",
       "│ 20200519     ┆ 20200519       ┆ 20200519          ┆ 5750       ┆ … ┆ 1                 ┆ 3                 ┆ 2020-05-19       ┆ 2020-05-19       │\n",
       "│              ┆                ┆                   ┆            ┆   ┆                   ┆                   ┆ 00:00:00         ┆ 00:00:00         │\n",
       "│ 20200911     ┆ 20200911       ┆ 20220216          ┆ 5150       ┆ … ┆ 1                 ┆ 4                 ┆ 2020-09-11       ┆ 2022-02-16       │\n",
       "│              ┆                ┆                   ┆            ┆   ┆                   ┆                   ┆ 00:00:00         ┆ 00:00:00         │\n",
       "│ 20220512     ┆ 20220512       ┆ 20220512          ┆ 5480       ┆ … ┆ 1                 ┆ 5                 ┆ 2022-05-12       ┆ 2022-05-12       │\n",
       "│              ┆                ┆                   ┆            ┆   ┆                   ┆                   ┆ 00:00:00         ┆ 00:00:00         │\n",
       "│ 20221104     ┆ 20221104       ┆ 20221104          ┆ 5480       ┆ … ┆ 2                 ┆ 5                 ┆ 2022-11-04       ┆ 2022-11-04       │\n",
       "│              ┆                ┆                   ┆            ┆   ┆                   ┆                   ┆ 00:00:00         ┆ 00:00:00         │\n",
       "│ 20210421     ┆ 20210421       ┆ 20210421          ┆ 5480       ┆ … ┆ 2                 ┆ 2                 ┆ 2021-04-21       ┆ 2021-04-21       │\n",
       "│              ┆                ┆                   ┆            ┆   ┆                   ┆                   ┆ 00:00:00         ┆ 00:00:00         │\n",
       "└──────────────┴────────────────┴───────────────────┴────────────┴───┴───────────────────┴───────────────────┴──────────────────┴──────────────────┘"
      ]
     },
     "execution_count": 158,
     "metadata": {},
     "output_type": "execute_result"
    }
   ],
   "source": [
    "\"\"\"\n",
    "“tekn_reg_f_g_n” er dato for førstegangsregistrering i Norge. Konverter denne\n",
    "kolonnen til en datetime. Gjør tilsvarende for “tekn_reg_eier_dato”. Vigjør dette med en \"alias\" så programmet ikke skal kræsje når vi executer igjen:\n",
    "\"\"\"\n",
    "pl_df = pl_df.with_columns([\n",
    "    pl.col(\"tekn_reg_f_g_n\").cast(str).str.strptime(pl.Datetime, \"%Y%m%d\").alias(\"tekn_reg_f_g_n_datetime\"),\n",
    "    pl.col(\"tekn_reg_eier_dato\").cast(str).str.strptime(pl.Datetime, \"%Y%m%d\").alias(\"tekn_reg_eier_dato datetime\"),\n",
    "   \n",
    "])\n",
    "\n",
    "pl_df"
   ]
  },
  {
   "cell_type": "code",
   "execution_count": 159,
   "id": "e3e75238-cd5e-491b-9464-d78539c13b91",
   "metadata": {},
   "outputs": [
    {
     "data": {
      "text/html": [
       "<div><style>\n",
       ".dataframe > thead > tr,\n",
       ".dataframe > tbody > tr {\n",
       "  text-align: right;\n",
       "  white-space: pre-wrap;\n",
       "}\n",
       "</style>\n",
       "<small>shape: (10, 13)</small><table border=\"1\" class=\"dataframe\"><thead><tr><th>tekn_reg_f_g</th><th>tekn_reg_f_g_n</th><th>tekn_reg_eier_dato</th><th>tekn_merke</th><th>tekn_modell</th><th>tekn_farge</th><th>tekn_drivstoff</th><th>tekn_siste_pkk</th><th>tekn_neste_pkk</th><th>tekn_aksler_drift</th><th>tekn_sitteplasser_totalt</th><th>tekn_reg_f_g_n_datetime</th><th>tekn_reg_eier_dato datetime</th></tr><tr><td>i64</td><td>i64</td><td>i64</td><td>i64</td><td>str</td><td>str</td><td>str</td><td>str</td><td>datetime[μs]</td><td>i64</td><td>i64</td><td>datetime[μs]</td><td>datetime[μs]</td></tr></thead><tbody><tr><td>20211013</td><td>20211013</td><td>20211013</td><td>3900</td><td>&quot;VITO&quot;</td><td>&quot;05&quot;</td><td>&quot;2&quot;</td><td>null</td><td>2025-10-13 00:00:00</td><td>2</td><td>3</td><td>2021-10-13 00:00:00</td><td>2021-10-13 00:00:00</td></tr><tr><td>20200129</td><td>20200129</td><td>20200129</td><td>5750</td><td>&quot;CADDY&quot;</td><td>&quot;06&quot;</td><td>&quot;2&quot;</td><td>&quot;20231205&quot;</td><td>2026-01-29 00:00:00</td><td>2</td><td>2</td><td>2020-01-29 00:00:00</td><td>2020-01-29 00:00:00</td></tr><tr><td>20231129</td><td>20231129</td><td>20231129</td><td>2600</td><td>&quot;Mustang Mach-E…</td><td>&quot;06&quot;</td><td>&quot;5&quot;</td><td>null</td><td>2027-11-29 00:00:00</td><td>1</td><td>5</td><td>2023-11-29 00:00:00</td><td>2023-11-29 00:00:00</td></tr><tr><td>20200127</td><td>20200127</td><td>20200127</td><td>5750</td><td>&quot;CADDY&quot;</td><td>&quot;01&quot;</td><td>&quot;2&quot;</td><td>null</td><td>2024-01-27 00:00:00</td><td>2</td><td>2</td><td>2020-01-27 00:00:00</td><td>2020-01-27 00:00:00</td></tr><tr><td>20180731</td><td>20190130</td><td>20190130</td><td>2600</td><td>&quot;F-150 Platinum…</td><td>&quot;06&quot;</td><td>&quot;2&quot;</td><td>&quot;20220503&quot;</td><td>2024-05-03 00:00:00</td><td>2</td><td>2</td><td>2019-01-30 00:00:00</td><td>2019-01-30 00:00:00</td></tr><tr><td>20200519</td><td>20200519</td><td>20200519</td><td>5750</td><td>&quot;CRAFTER&quot;</td><td>&quot;01&quot;</td><td>&quot;2&quot;</td><td>null</td><td>2024-05-19 00:00:00</td><td>1</td><td>3</td><td>2020-05-19 00:00:00</td><td>2020-05-19 00:00:00</td></tr><tr><td>20200911</td><td>20200911</td><td>20220216</td><td>5150</td><td>&quot;CITIGO&quot;</td><td>&quot;01&quot;</td><td>&quot;5&quot;</td><td>null</td><td>2024-09-11 00:00:00</td><td>1</td><td>4</td><td>2020-09-11 00:00:00</td><td>2022-02-16 00:00:00</td></tr><tr><td>20220512</td><td>20220512</td><td>20220512</td><td>5480</td><td>&quot;YARIS&quot;</td><td>&quot;04&quot;</td><td>&quot;1,5&quot;</td><td>null</td><td>2026-05-12 00:00:00</td><td>1</td><td>5</td><td>2022-05-12 00:00:00</td><td>2022-05-12 00:00:00</td></tr><tr><td>20221104</td><td>20221104</td><td>20221104</td><td>5480</td><td>&quot;RAV4&quot;</td><td>&quot;06&quot;</td><td>&quot;1,5,5&quot;</td><td>null</td><td>2026-11-04 00:00:00</td><td>2</td><td>5</td><td>2022-11-04 00:00:00</td><td>2022-11-04 00:00:00</td></tr><tr><td>20210421</td><td>20210421</td><td>20210421</td><td>5480</td><td>&quot;TOYOTA LAND CR…</td><td>&quot;01&quot;</td><td>&quot;2&quot;</td><td>null</td><td>2025-04-21 00:00:00</td><td>2</td><td>2</td><td>2021-04-21 00:00:00</td><td>2021-04-21 00:00:00</td></tr></tbody></table></div>"
      ],
      "text/plain": [
       "shape: (10, 13)\n",
       "┌──────────────┬────────────────┬───────────────────┬────────────┬───┬───────────────────┬───────────────────┬──────────────────┬──────────────────┐\n",
       "│ tekn_reg_f_g ┆ tekn_reg_f_g_n ┆ tekn_reg_eier_dat ┆ tekn_merke ┆ … ┆ tekn_aksler_drift ┆ tekn_sitteplasser ┆ tekn_reg_f_g_n_d ┆ tekn_reg_eier_da │\n",
       "│ ---          ┆ ---            ┆ o                 ┆ ---        ┆   ┆ ---               ┆ _totalt           ┆ atetime          ┆ to datetime      │\n",
       "│ i64          ┆ i64            ┆ ---               ┆ i64        ┆   ┆ i64               ┆ ---               ┆ ---              ┆ ---              │\n",
       "│              ┆                ┆ i64               ┆            ┆   ┆                   ┆ i64               ┆ datetime[μs]     ┆ datetime[μs]     │\n",
       "╞══════════════╪════════════════╪═══════════════════╪════════════╪═══╪═══════════════════╪═══════════════════╪══════════════════╪══════════════════╡\n",
       "│ 20211013     ┆ 20211013       ┆ 20211013          ┆ 3900       ┆ … ┆ 2                 ┆ 3                 ┆ 2021-10-13       ┆ 2021-10-13       │\n",
       "│              ┆                ┆                   ┆            ┆   ┆                   ┆                   ┆ 00:00:00         ┆ 00:00:00         │\n",
       "│ 20200129     ┆ 20200129       ┆ 20200129          ┆ 5750       ┆ … ┆ 2                 ┆ 2                 ┆ 2020-01-29       ┆ 2020-01-29       │\n",
       "│              ┆                ┆                   ┆            ┆   ┆                   ┆                   ┆ 00:00:00         ┆ 00:00:00         │\n",
       "│ 20231129     ┆ 20231129       ┆ 20231129          ┆ 2600       ┆ … ┆ 1                 ┆ 5                 ┆ 2023-11-29       ┆ 2023-11-29       │\n",
       "│              ┆                ┆                   ┆            ┆   ┆                   ┆                   ┆ 00:00:00         ┆ 00:00:00         │\n",
       "│ 20200127     ┆ 20200127       ┆ 20200127          ┆ 5750       ┆ … ┆ 2                 ┆ 2                 ┆ 2020-01-27       ┆ 2020-01-27       │\n",
       "│              ┆                ┆                   ┆            ┆   ┆                   ┆                   ┆ 00:00:00         ┆ 00:00:00         │\n",
       "│ 20180731     ┆ 20190130       ┆ 20190130          ┆ 2600       ┆ … ┆ 2                 ┆ 2                 ┆ 2019-01-30       ┆ 2019-01-30       │\n",
       "│              ┆                ┆                   ┆            ┆   ┆                   ┆                   ┆ 00:00:00         ┆ 00:00:00         │\n",
       "│ 20200519     ┆ 20200519       ┆ 20200519          ┆ 5750       ┆ … ┆ 1                 ┆ 3                 ┆ 2020-05-19       ┆ 2020-05-19       │\n",
       "│              ┆                ┆                   ┆            ┆   ┆                   ┆                   ┆ 00:00:00         ┆ 00:00:00         │\n",
       "│ 20200911     ┆ 20200911       ┆ 20220216          ┆ 5150       ┆ … ┆ 1                 ┆ 4                 ┆ 2020-09-11       ┆ 2022-02-16       │\n",
       "│              ┆                ┆                   ┆            ┆   ┆                   ┆                   ┆ 00:00:00         ┆ 00:00:00         │\n",
       "│ 20220512     ┆ 20220512       ┆ 20220512          ┆ 5480       ┆ … ┆ 1                 ┆ 5                 ┆ 2022-05-12       ┆ 2022-05-12       │\n",
       "│              ┆                ┆                   ┆            ┆   ┆                   ┆                   ┆ 00:00:00         ┆ 00:00:00         │\n",
       "│ 20221104     ┆ 20221104       ┆ 20221104          ┆ 5480       ┆ … ┆ 2                 ┆ 5                 ┆ 2022-11-04       ┆ 2022-11-04       │\n",
       "│              ┆                ┆                   ┆            ┆   ┆                   ┆                   ┆ 00:00:00         ┆ 00:00:00         │\n",
       "│ 20210421     ┆ 20210421       ┆ 20210421          ┆ 5480       ┆ … ┆ 2                 ┆ 2                 ┆ 2021-04-21       ┆ 2021-04-21       │\n",
       "│              ┆                ┆                   ┆            ┆   ┆                   ┆                   ┆ 00:00:00         ┆ 00:00:00         │\n",
       "└──────────────┴────────────────┴───────────────────┴────────────┴───┴───────────────────┴───────────────────┴──────────────────┴──────────────────┘"
      ]
     },
     "execution_count": 159,
     "metadata": {},
     "output_type": "execute_result"
    }
   ],
   "source": [
    "#Gjør tilsvarende for “neste_pkk” og “tekn_reg_eier_dato”\n",
    "pl_df = pl_df.with_columns([\n",
    "    pl.col(\"tekn_neste_pkk\").str.strptime(pl.Datetime, \"%Y%m%d\").alias(\"tekn_neste_pkk\"),\n",
    "   \n",
    "])\n",
    "\n",
    "pl_df"
   ]
  },
  {
   "cell_type": "code",
   "execution_count": 160,
   "id": "bda4b363-2c7f-49b9-a87b-1032fae06616",
   "metadata": {},
   "outputs": [
    {
     "data": {
      "text/html": [
       "<div><style>\n",
       ".dataframe > thead > tr,\n",
       ".dataframe > tbody > tr {\n",
       "  text-align: right;\n",
       "  white-space: pre-wrap;\n",
       "}\n",
       "</style>\n",
       "<small>shape: (10, 14)</small><table border=\"1\" class=\"dataframe\"><thead><tr><th>tekn_reg_f_g</th><th>tekn_reg_f_g_n</th><th>tekn_reg_eier_dato</th><th>tekn_merke</th><th>tekn_modell</th><th>tekn_farge</th><th>tekn_drivstoff</th><th>tekn_siste_pkk</th><th>tekn_neste_pkk</th><th>tekn_aksler_drift</th><th>tekn_sitteplasser_totalt</th><th>kode</th><th>beskrivelse</th><th>literal</th></tr><tr><td>i64</td><td>i64</td><td>i64</td><td>i64</td><td>str</td><td>str</td><td>str</td><td>str</td><td>str</td><td>i64</td><td>i64</td><td>i64</td><td>str</td><td>str</td></tr></thead><tbody><tr><td>20211013</td><td>20211013</td><td>20211013</td><td>3900</td><td>&quot;VITO&quot;</td><td>&quot;5&quot;</td><td>&quot;2&quot;</td><td>null</td><td>&quot;20251013&quot;</td><td>2</td><td>3</td><td>5</td><td>&quot;Grå&quot;</td><td>&quot;Grå&quot;</td></tr><tr><td>20200129</td><td>20200129</td><td>20200129</td><td>5750</td><td>&quot;CADDY&quot;</td><td>&quot;6&quot;</td><td>&quot;2&quot;</td><td>&quot;20231205&quot;</td><td>&quot;20260129&quot;</td><td>2</td><td>2</td><td>6</td><td>&quot;Svart (også bl…</td><td>&quot;Svart (også bl…</td></tr><tr><td>20231129</td><td>20231129</td><td>20231129</td><td>2600</td><td>&quot;Mustang Mach-E…</td><td>&quot;6&quot;</td><td>&quot;5&quot;</td><td>null</td><td>&quot;20271129&quot;</td><td>1</td><td>5</td><td>6</td><td>&quot;Svart (også bl…</td><td>&quot;Svart (også bl…</td></tr><tr><td>20200127</td><td>20200127</td><td>20200127</td><td>5750</td><td>&quot;CADDY&quot;</td><td>&quot;1&quot;</td><td>&quot;2&quot;</td><td>null</td><td>&quot;20240127&quot;</td><td>2</td><td>2</td><td>1</td><td>&quot;Hvit (også ant…</td><td>&quot;Hvit (også ant…</td></tr><tr><td>20180731</td><td>20190130</td><td>20190130</td><td>2600</td><td>&quot;F-150 Platinum…</td><td>&quot;6&quot;</td><td>&quot;2&quot;</td><td>&quot;20220503&quot;</td><td>&quot;20240503&quot;</td><td>2</td><td>2</td><td>6</td><td>&quot;Svart (også bl…</td><td>&quot;Svart (også bl…</td></tr><tr><td>20200519</td><td>20200519</td><td>20200519</td><td>5750</td><td>&quot;CRAFTER&quot;</td><td>&quot;1&quot;</td><td>&quot;2&quot;</td><td>null</td><td>&quot;20240519&quot;</td><td>1</td><td>3</td><td>1</td><td>&quot;Hvit (også ant…</td><td>&quot;Hvit (også ant…</td></tr><tr><td>20200911</td><td>20200911</td><td>20220216</td><td>5150</td><td>&quot;CITIGO&quot;</td><td>&quot;1&quot;</td><td>&quot;5&quot;</td><td>null</td><td>&quot;20240911&quot;</td><td>1</td><td>4</td><td>1</td><td>&quot;Hvit (også ant…</td><td>&quot;Hvit (også ant…</td></tr><tr><td>20220512</td><td>20220512</td><td>20220512</td><td>5480</td><td>&quot;YARIS&quot;</td><td>&quot;4&quot;</td><td>&quot;1,5&quot;</td><td>null</td><td>&quot;20260512&quot;</td><td>1</td><td>5</td><td>4</td><td>&quot;Grønn (også gr…</td><td>&quot;Grønn (også gr…</td></tr><tr><td>20221104</td><td>20221104</td><td>20221104</td><td>5480</td><td>&quot;RAV4&quot;</td><td>&quot;6&quot;</td><td>&quot;1,5,5&quot;</td><td>null</td><td>&quot;20261104&quot;</td><td>2</td><td>5</td><td>6</td><td>&quot;Svart (også bl…</td><td>&quot;Svart (også bl…</td></tr><tr><td>20210421</td><td>20210421</td><td>20210421</td><td>5480</td><td>&quot;TOYOTA LAND CR…</td><td>&quot;1&quot;</td><td>&quot;2&quot;</td><td>null</td><td>&quot;20250421&quot;</td><td>2</td><td>2</td><td>1</td><td>&quot;Hvit (også ant…</td><td>&quot;Hvit (også ant…</td></tr></tbody></table></div>"
      ],
      "text/plain": [
       "shape: (10, 14)\n",
       "┌──────────────┬────────────────┬────────────────────┬────────────┬───┬────────────────────────┬──────┬───────────────────┬────────────────────────┐\n",
       "│ tekn_reg_f_g ┆ tekn_reg_f_g_n ┆ tekn_reg_eier_dato ┆ tekn_merke ┆ … ┆ tekn_sitteplasser_tota ┆ kode ┆ beskrivelse       ┆ literal                │\n",
       "│ ---          ┆ ---            ┆ ---                ┆ ---        ┆   ┆ lt                     ┆ ---  ┆ ---               ┆ ---                    │\n",
       "│ i64          ┆ i64            ┆ i64                ┆ i64        ┆   ┆ ---                    ┆ i64  ┆ str               ┆ str                    │\n",
       "│              ┆                ┆                    ┆            ┆   ┆ i64                    ┆      ┆                   ┆                        │\n",
       "╞══════════════╪════════════════╪════════════════════╪════════════╪═══╪════════════════════════╪══════╪═══════════════════╪════════════════════════╡\n",
       "│ 20211013     ┆ 20211013       ┆ 20211013           ┆ 3900       ┆ … ┆ 3                      ┆ 5    ┆ Grå               ┆ Grå                    │\n",
       "│ 20200129     ┆ 20200129       ┆ 20200129           ┆ 5750       ┆ … ┆ 2                      ┆ 6    ┆ Svart (også       ┆ Svart (også blåsvart,  │\n",
       "│              ┆                ┆                    ┆            ┆   ┆                        ┆      ┆ blåsvart, grafitt ┆ grafitt mø…            │\n",
       "│              ┆                ┆                    ┆            ┆   ┆                        ┆      ┆ mø…               ┆                        │\n",
       "│ 20231129     ┆ 20231129       ┆ 20231129           ┆ 2600       ┆ … ┆ 5                      ┆ 6    ┆ Svart (også       ┆ Svart (også blåsvart,  │\n",
       "│              ┆                ┆                    ┆            ┆   ┆                        ┆      ┆ blåsvart, grafitt ┆ grafitt mø…            │\n",
       "│              ┆                ┆                    ┆            ┆   ┆                        ┆      ┆ mø…               ┆                        │\n",
       "│ 20200127     ┆ 20200127       ┆ 20200127           ┆ 5750       ┆ … ┆ 2                      ┆ 1    ┆ Hvit (også        ┆ Hvit (også antikkhvit, │\n",
       "│              ┆                ┆                    ┆            ┆   ┆                        ┆      ┆ antikkhvit,       ┆ offwhite)              │\n",
       "│              ┆                ┆                    ┆            ┆   ┆                        ┆      ┆ offwhite)         ┆                        │\n",
       "│ 20180731     ┆ 20190130       ┆ 20190130           ┆ 2600       ┆ … ┆ 2                      ┆ 6    ┆ Svart (også       ┆ Svart (også blåsvart,  │\n",
       "│              ┆                ┆                    ┆            ┆   ┆                        ┆      ┆ blåsvart, grafitt ┆ grafitt mø…            │\n",
       "│              ┆                ┆                    ┆            ┆   ┆                        ┆      ┆ mø…               ┆                        │\n",
       "│ 20200519     ┆ 20200519       ┆ 20200519           ┆ 5750       ┆ … ┆ 3                      ┆ 1    ┆ Hvit (også        ┆ Hvit (også antikkhvit, │\n",
       "│              ┆                ┆                    ┆            ┆   ┆                        ┆      ┆ antikkhvit,       ┆ offwhite)              │\n",
       "│              ┆                ┆                    ┆            ┆   ┆                        ┆      ┆ offwhite)         ┆                        │\n",
       "│ 20200911     ┆ 20200911       ┆ 20220216           ┆ 5150       ┆ … ┆ 4                      ┆ 1    ┆ Hvit (også        ┆ Hvit (også antikkhvit, │\n",
       "│              ┆                ┆                    ┆            ┆   ┆                        ┆      ┆ antikkhvit,       ┆ offwhite)              │\n",
       "│              ┆                ┆                    ┆            ┆   ┆                        ┆      ┆ offwhite)         ┆                        │\n",
       "│ 20220512     ┆ 20220512       ┆ 20220512           ┆ 5480       ┆ … ┆ 5                      ┆ 4    ┆ Grønn (også       ┆ Grønn (også grønngrå,  │\n",
       "│              ┆                ┆                    ┆            ┆   ┆                        ┆      ┆ grønngrå, blågrå) ┆ blågrå)                │\n",
       "│ 20221104     ┆ 20221104       ┆ 20221104           ┆ 5480       ┆ … ┆ 5                      ┆ 6    ┆ Svart (også       ┆ Svart (også blåsvart,  │\n",
       "│              ┆                ┆                    ┆            ┆   ┆                        ┆      ┆ blåsvart, grafitt ┆ grafitt mø…            │\n",
       "│              ┆                ┆                    ┆            ┆   ┆                        ┆      ┆ mø…               ┆                        │\n",
       "│ 20210421     ┆ 20210421       ┆ 20210421           ┆ 5480       ┆ … ┆ 2                      ┆ 1    ┆ Hvit (også        ┆ Hvit (også antikkhvit, │\n",
       "│              ┆                ┆                    ┆            ┆   ┆                        ┆      ┆ antikkhvit,       ┆ offwhite)              │\n",
       "│              ┆                ┆                    ┆            ┆   ┆                        ┆      ┆ offwhite)         ┆                        │\n",
       "└──────────────┴────────────────┴────────────────────┴────────────┴───┴────────────────────────┴──────┴───────────────────┴────────────────────────┘"
      ]
     },
     "execution_count": 160,
     "metadata": {},
     "output_type": "execute_result"
    }
   ],
   "source": [
    "\"\"\"\n",
    "Join inn navnet på fargen, det vil si, join “tekn_farge” med “kode” i fargekode.csv.\n",
    "Pass på at du ikke mister noen biler som vi ikke vet fargen på.\n",
    "\"\"\"\n",
    "\n",
    "# Les inn dataene fra parquet-filen\n",
    "kjoretoy_df = pl.scan_parquet(\"filer/kjoretoyinfo_fra_2000.parquet\").head(10).collect()\n",
    "\n",
    "# Les inn de første 10 radene fra CSV-filen med semikolon som skilletegn\n",
    "fargekode_df = pl.scan_csv(\"filer/fargekode.csv\", separator=\";\", truncate_ragged_lines=True).head(10).collect()\n",
    "\n",
    "kjoretoy_df = kjoretoy_df.with_columns(\n",
    "    kjoretoy_df[\"tekn_farge\"].str.strip_chars(\"0\")\n",
    ")\n",
    "\n",
    "# Konverter \"kode\" til streng og gi den et annet navn\n",
    "fargekode_df = fargekode_df.select([\n",
    "    pl.col(\"*\"),\n",
    "    pl.col(\"kode\").cast(pl.String).alias(\"fargekode\")  # Konverter \"kode\" til streng\n",
    "])\n",
    "\n",
    "# Utfør venstre join basert på kolonnene tekn_farge og kode\n",
    "joined_df = kjoretoy_df.join(\n",
    "    fargekode_df,\n",
    "    left_on=\"tekn_farge\",  # Kolonnenavn i kjoretoy_df\n",
    "    right_on=\"fargekode\",  # Kolonnenavn i fargekode_df\n",
    "    how=\"left\"\n",
    "\n",
    ")\n",
    "\n",
    "joined_df = joined_df.with_columns(\n",
    "    \"beskrivelse\",\n",
    "    pl.when(joined_df[\"kode\"].is_null()).then(pl.lit(\"Ukjent farge\")).otherwise(joined_df[\"beskrivelse\"])\n",
    ")\n",
    "\n",
    "\n",
    "# Vis de første 10 radene av resultatet\n",
    "joined_df\n",
    "\n"
   ]
  },
  {
   "cell_type": "code",
   "execution_count": 161,
   "id": "cbe706f8-2243-4b17-b5e6-b2fb9139ab24",
   "metadata": {},
   "outputs": [
    {
     "ename": "ColumnNotFoundError",
     "evalue": "elbil\n\nError originated just after this operation:\nDF [\"tekn_reg_f_g\", \"tekn_reg_f_g_n\", \"tekn_reg_eier_dato\", \"tekn_merke\"]; PROJECT */14 COLUMNS; SELECTION: \"None\"",
     "output_type": "error",
     "traceback": [
      "\u001b[1;31m---------------------------------------------------------------------------\u001b[0m",
      "\u001b[1;31mColumnNotFoundError\u001b[0m                       Traceback (most recent call last)",
      "Cell \u001b[1;32mIn[161], line 3\u001b[0m\n\u001b[0;32m      1\u001b[0m \u001b[38;5;66;03m#Lag en kolonne “elbil” som er sann hvis drivstofftypen er kun elektrisk, false ellers.\u001b[39;00m\n\u001b[1;32m----> 3\u001b[0m joined_df \u001b[38;5;241m=\u001b[39m \u001b[43mjoined_df\u001b[49m\u001b[38;5;241;43m.\u001b[39;49m\u001b[43mwith_columns\u001b[49m\u001b[43m(\u001b[49m\n\u001b[0;32m      4\u001b[0m \u001b[43m    \u001b[49m\u001b[38;5;124;43m\"\u001b[39;49m\u001b[38;5;124;43melbil\u001b[39;49m\u001b[38;5;124;43m\"\u001b[39;49m\u001b[43m,\u001b[49m\n\u001b[0;32m      5\u001b[0m \u001b[43m    \u001b[49m\u001b[43mpl\u001b[49m\u001b[38;5;241;43m.\u001b[39;49m\u001b[43mwhen\u001b[49m\u001b[43m(\u001b[49m\u001b[43mjoined_df\u001b[49m\u001b[43m[\u001b[49m\u001b[38;5;124;43m\"\u001b[39;49m\u001b[38;5;124;43mtekn_drivstoff\u001b[39;49m\u001b[38;5;124;43m\"\u001b[39;49m\u001b[43m]\u001b[49m\u001b[43m \u001b[49m\u001b[38;5;241;43m==\u001b[39;49m\u001b[43m \u001b[49m\u001b[38;5;124;43m\"\u001b[39;49m\u001b[38;5;124;43m5\u001b[39;49m\u001b[38;5;124;43m\"\u001b[39;49m\u001b[43m)\u001b[49m\u001b[38;5;241;43m.\u001b[39;49m\u001b[43mthen\u001b[49m\u001b[43m(\u001b[49m\u001b[38;5;28;43;01mTrue\u001b[39;49;00m\u001b[43m)\u001b[49m\u001b[38;5;241;43m.\u001b[39;49m\u001b[43motherwise\u001b[49m\u001b[43m(\u001b[49m\u001b[38;5;28;43;01mFalse\u001b[39;49;00m\u001b[43m)\u001b[49m\n\u001b[0;32m      6\u001b[0m \u001b[43m)\u001b[49m\n\u001b[0;32m      7\u001b[0m joined_df\n",
      "File \u001b[1;32m~\\miniconda3\\envs\\DAT2000_V24\\lib\\site-packages\\polars\\dataframe\\frame.py:8317\u001b[0m, in \u001b[0;36mDataFrame.with_columns\u001b[1;34m(self, *exprs, **named_exprs)\u001b[0m\n\u001b[0;32m   8171\u001b[0m \u001b[38;5;28;01mdef\u001b[39;00m \u001b[38;5;21mwith_columns\u001b[39m(\n\u001b[0;32m   8172\u001b[0m     \u001b[38;5;28mself\u001b[39m,\n\u001b[0;32m   8173\u001b[0m     \u001b[38;5;241m*\u001b[39mexprs: IntoExpr \u001b[38;5;241m|\u001b[39m Iterable[IntoExpr],\n\u001b[0;32m   8174\u001b[0m     \u001b[38;5;241m*\u001b[39m\u001b[38;5;241m*\u001b[39mnamed_exprs: IntoExpr,\n\u001b[0;32m   8175\u001b[0m ) \u001b[38;5;241m-\u001b[39m\u001b[38;5;241m>\u001b[39m DataFrame:\n\u001b[0;32m   8176\u001b[0m \u001b[38;5;250m    \u001b[39m\u001b[38;5;124;03m\"\"\"\u001b[39;00m\n\u001b[0;32m   8177\u001b[0m \u001b[38;5;124;03m    Add columns to this DataFrame.\u001b[39;00m\n\u001b[0;32m   8178\u001b[0m \n\u001b[1;32m   (...)\u001b[0m\n\u001b[0;32m   8315\u001b[0m \u001b[38;5;124;03m    └─────┴──────┴─────────────┘\u001b[39;00m\n\u001b[0;32m   8316\u001b[0m \u001b[38;5;124;03m    \"\"\"\u001b[39;00m\n\u001b[1;32m-> 8317\u001b[0m     \u001b[38;5;28;01mreturn\u001b[39;00m \u001b[38;5;28;43mself\u001b[39;49m\u001b[38;5;241;43m.\u001b[39;49m\u001b[43mlazy\u001b[49m\u001b[43m(\u001b[49m\u001b[43m)\u001b[49m\u001b[38;5;241;43m.\u001b[39;49m\u001b[43mwith_columns\u001b[49m\u001b[43m(\u001b[49m\u001b[38;5;241;43m*\u001b[39;49m\u001b[43mexprs\u001b[49m\u001b[43m,\u001b[49m\u001b[43m \u001b[49m\u001b[38;5;241;43m*\u001b[39;49m\u001b[38;5;241;43m*\u001b[39;49m\u001b[43mnamed_exprs\u001b[49m\u001b[43m)\u001b[49m\u001b[38;5;241;43m.\u001b[39;49m\u001b[43mcollect\u001b[49m\u001b[43m(\u001b[49m\u001b[43m_eager\u001b[49m\u001b[38;5;241;43m=\u001b[39;49m\u001b[38;5;28;43;01mTrue\u001b[39;49;00m\u001b[43m)\u001b[49m\n",
      "File \u001b[1;32m~\\miniconda3\\envs\\DAT2000_V24\\lib\\site-packages\\polars\\lazyframe\\frame.py:1940\u001b[0m, in \u001b[0;36mLazyFrame.collect\u001b[1;34m(self, type_coercion, predicate_pushdown, projection_pushdown, simplify_expression, slice_pushdown, comm_subplan_elim, comm_subexpr_elim, no_optimization, streaming, background, _eager)\u001b[0m\n\u001b[0;32m   1937\u001b[0m \u001b[38;5;28;01mif\u001b[39;00m background:\n\u001b[0;32m   1938\u001b[0m     \u001b[38;5;28;01mreturn\u001b[39;00m InProcessQuery(ldf\u001b[38;5;241m.\u001b[39mcollect_concurrently())\n\u001b[1;32m-> 1940\u001b[0m \u001b[38;5;28;01mreturn\u001b[39;00m wrap_df(\u001b[43mldf\u001b[49m\u001b[38;5;241;43m.\u001b[39;49m\u001b[43mcollect\u001b[49m\u001b[43m(\u001b[49m\u001b[43m)\u001b[49m)\n",
      "\u001b[1;31mColumnNotFoundError\u001b[0m: elbil\n\nError originated just after this operation:\nDF [\"tekn_reg_f_g\", \"tekn_reg_f_g_n\", \"tekn_reg_eier_dato\", \"tekn_merke\"]; PROJECT */14 COLUMNS; SELECTION: \"None\""
     ]
    }
   ],
   "source": [
    "#Lag en kolonne “elbil” som er sann hvis drivstofftypen er kun elektrisk, false ellers.\n",
    "\n",
    "joined_df = joined_df.with_columns(\n",
    "    \"elbil\",\n",
    "    pl.when(joined_df[\"tekn_drivstoff\"] == \"5\").then(True).otherwise(False)\n",
    ")\n",
    "joined_df"
   ]
  },
  {
   "cell_type": "code",
   "execution_count": null,
   "id": "e20e3f4e-5861-4781-97e7-7d2dff479e91",
   "metadata": {},
   "outputs": [],
   "source": []
  },
  {
   "cell_type": "code",
   "execution_count": null,
   "id": "8b7395f2-6cde-4363-8a5a-37793f0508bd",
   "metadata": {},
   "outputs": [],
   "source": []
  },
  {
   "cell_type": "code",
   "execution_count": null,
   "id": "c5035e11-788d-49fb-841e-7841ef841681",
   "metadata": {},
   "outputs": [],
   "source": []
  },
  {
   "cell_type": "code",
   "execution_count": null,
   "id": "8b4aec31-68df-49bc-bec9-03f742d50e8e",
   "metadata": {},
   "outputs": [],
   "source": []
  },
  {
   "cell_type": "code",
   "execution_count": null,
   "id": "d2d83726-4a07-4cbd-9cfa-80ef438f0f31",
   "metadata": {},
   "outputs": [],
   "source": []
  }
 ],
 "metadata": {
  "kernelspec": {
   "display_name": "Python 3 (ipykernel)",
   "language": "python",
   "name": "python3"
  },
  "language_info": {
   "codemirror_mode": {
    "name": "ipython",
    "version": 3
   },
   "file_extension": ".py",
   "mimetype": "text/x-python",
   "name": "python",
   "nbconvert_exporter": "python",
   "pygments_lexer": "ipython3",
   "version": "3.10.13"
  }
 },
 "nbformat": 4,
 "nbformat_minor": 5
}

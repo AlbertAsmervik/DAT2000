{
 "cells": [
  {
   "cell_type": "code",
   "execution_count": 8,
   "id": "280c8504-facd-47c8-9eb7-59a5732936b3",
   "metadata": {},
   "outputs": [],
   "source": [
    "import polars as pl"
   ]
  },
  {
   "cell_type": "code",
   "execution_count": 15,
   "id": "80af3958-a7ce-4a3a-82a7-f8b401394549",
   "metadata": {},
   "outputs": [],
   "source": [
    "df = pl.scan_parquet(\"filer/kjoretoyinfo_fra_2000.parquet\")"
   ]
  },
  {
   "cell_type": "code",
   "execution_count": null,
   "id": "adc20289-8026-4a27-aa88-72810c062873",
   "metadata": {},
   "outputs": [],
   "source": []
  }
 ],
 "metadata": {
  "kernelspec": {
   "display_name": "Python 3 (ipykernel)",
   "language": "python",
   "name": "python3"
  },
  "language_info": {
   "codemirror_mode": {
    "name": "ipython",
    "version": 3
   },
   "file_extension": ".py",
   "mimetype": "text/x-python",
   "name": "python",
   "nbconvert_exporter": "python",
   "pygments_lexer": "ipython3",
   "version": "3.10.13"
  }
 },
 "nbformat": 4,
 "nbformat_minor": 5
}

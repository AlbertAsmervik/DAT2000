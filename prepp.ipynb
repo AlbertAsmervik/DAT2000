{
 "cells": [
  {
   "cell_type": "code",
   "execution_count": 24,
   "id": "ffd90d24-e96d-4e99-92f4-d02a3d8121c9",
   "metadata": {},
   "outputs": [
    {
     "data": {
      "text/html": [
       "<div><style>\n",
       ".dataframe > thead > tr,\n",
       ".dataframe > tbody > tr {\n",
       "  text-align: right;\n",
       "  white-space: pre-wrap;\n",
       "}\n",
       "</style>\n",
       "<small>shape: (10, 11)</small><table border=\"1\" class=\"dataframe\"><thead><tr><th>tekn_reg_f_g</th><th>tekn_reg_f_g_n</th><th>tekn_reg_eier_dato</th><th>tekn_merke</th><th>tekn_modell</th><th>tekn_farge</th><th>tekn_drivstoff</th><th>tekn_siste_pkk</th><th>tekn_neste_pkk</th><th>tekn_aksler_drift</th><th>tekn_sitteplasser_totalt</th></tr><tr><td>i64</td><td>i64</td><td>i64</td><td>i64</td><td>str</td><td>str</td><td>str</td><td>str</td><td>str</td><td>i64</td><td>i64</td></tr></thead><tbody><tr><td>20211013</td><td>20211013</td><td>20211013</td><td>3900</td><td>&quot;VITO&quot;</td><td>&quot;05&quot;</td><td>&quot;2&quot;</td><td>null</td><td>&quot;20251013&quot;</td><td>2</td><td>3</td></tr><tr><td>20200129</td><td>20200129</td><td>20200129</td><td>5750</td><td>&quot;CADDY&quot;</td><td>&quot;06&quot;</td><td>&quot;2&quot;</td><td>&quot;20231205&quot;</td><td>&quot;20260129&quot;</td><td>2</td><td>2</td></tr><tr><td>20231129</td><td>20231129</td><td>20231129</td><td>2600</td><td>&quot;Mustang Mach-E…</td><td>&quot;06&quot;</td><td>&quot;5&quot;</td><td>null</td><td>&quot;20271129&quot;</td><td>1</td><td>5</td></tr><tr><td>20200127</td><td>20200127</td><td>20200127</td><td>5750</td><td>&quot;CADDY&quot;</td><td>&quot;01&quot;</td><td>&quot;2&quot;</td><td>null</td><td>&quot;20240127&quot;</td><td>2</td><td>2</td></tr><tr><td>20180731</td><td>20190130</td><td>20190130</td><td>2600</td><td>&quot;F-150 Platinum…</td><td>&quot;06&quot;</td><td>&quot;2&quot;</td><td>&quot;20220503&quot;</td><td>&quot;20240503&quot;</td><td>2</td><td>2</td></tr><tr><td>20200519</td><td>20200519</td><td>20200519</td><td>5750</td><td>&quot;CRAFTER&quot;</td><td>&quot;01&quot;</td><td>&quot;2&quot;</td><td>null</td><td>&quot;20240519&quot;</td><td>1</td><td>3</td></tr><tr><td>20200911</td><td>20200911</td><td>20220216</td><td>5150</td><td>&quot;CITIGO&quot;</td><td>&quot;01&quot;</td><td>&quot;5&quot;</td><td>null</td><td>&quot;20240911&quot;</td><td>1</td><td>4</td></tr><tr><td>20220512</td><td>20220512</td><td>20220512</td><td>5480</td><td>&quot;YARIS&quot;</td><td>&quot;04&quot;</td><td>&quot;1,5&quot;</td><td>null</td><td>&quot;20260512&quot;</td><td>1</td><td>5</td></tr><tr><td>20221104</td><td>20221104</td><td>20221104</td><td>5480</td><td>&quot;RAV4&quot;</td><td>&quot;06&quot;</td><td>&quot;1,5,5&quot;</td><td>null</td><td>&quot;20261104&quot;</td><td>2</td><td>5</td></tr><tr><td>20210421</td><td>20210421</td><td>20210421</td><td>5480</td><td>&quot;TOYOTA LAND CR…</td><td>&quot;01&quot;</td><td>&quot;2&quot;</td><td>null</td><td>&quot;20250421&quot;</td><td>2</td><td>2</td></tr></tbody></table></div>"
      ],
      "text/plain": [
       "shape: (10, 11)\n",
       "┌──────────────┬────────────────┬────────────────────┬────────────┬───┬────────────────┬────────────────┬───────────────────┬──────────────────────┐\n",
       "│ tekn_reg_f_g ┆ tekn_reg_f_g_n ┆ tekn_reg_eier_dato ┆ tekn_merke ┆ … ┆ tekn_siste_pkk ┆ tekn_neste_pkk ┆ tekn_aksler_drift ┆ tekn_sitteplasser_to │\n",
       "│ ---          ┆ ---            ┆ ---                ┆ ---        ┆   ┆ ---            ┆ ---            ┆ ---               ┆ talt                 │\n",
       "│ i64          ┆ i64            ┆ i64                ┆ i64        ┆   ┆ str            ┆ str            ┆ i64               ┆ ---                  │\n",
       "│              ┆                ┆                    ┆            ┆   ┆                ┆                ┆                   ┆ i64                  │\n",
       "╞══════════════╪════════════════╪════════════════════╪════════════╪═══╪════════════════╪════════════════╪═══════════════════╪══════════════════════╡\n",
       "│ 20211013     ┆ 20211013       ┆ 20211013           ┆ 3900       ┆ … ┆ null           ┆ 20251013       ┆ 2                 ┆ 3                    │\n",
       "│ 20200129     ┆ 20200129       ┆ 20200129           ┆ 5750       ┆ … ┆ 20231205       ┆ 20260129       ┆ 2                 ┆ 2                    │\n",
       "│ 20231129     ┆ 20231129       ┆ 20231129           ┆ 2600       ┆ … ┆ null           ┆ 20271129       ┆ 1                 ┆ 5                    │\n",
       "│ 20200127     ┆ 20200127       ┆ 20200127           ┆ 5750       ┆ … ┆ null           ┆ 20240127       ┆ 2                 ┆ 2                    │\n",
       "│ 20180731     ┆ 20190130       ┆ 20190130           ┆ 2600       ┆ … ┆ 20220503       ┆ 20240503       ┆ 2                 ┆ 2                    │\n",
       "│ 20200519     ┆ 20200519       ┆ 20200519           ┆ 5750       ┆ … ┆ null           ┆ 20240519       ┆ 1                 ┆ 3                    │\n",
       "│ 20200911     ┆ 20200911       ┆ 20220216           ┆ 5150       ┆ … ┆ null           ┆ 20240911       ┆ 1                 ┆ 4                    │\n",
       "│ 20220512     ┆ 20220512       ┆ 20220512           ┆ 5480       ┆ … ┆ null           ┆ 20260512       ┆ 1                 ┆ 5                    │\n",
       "│ 20221104     ┆ 20221104       ┆ 20221104           ┆ 5480       ┆ … ┆ null           ┆ 20261104       ┆ 2                 ┆ 5                    │\n",
       "│ 20210421     ┆ 20210421       ┆ 20210421           ┆ 5480       ┆ … ┆ null           ┆ 20250421       ┆ 2                 ┆ 2                    │\n",
       "└──────────────┴────────────────┴────────────────────┴────────────┴───┴────────────────┴────────────────┴───────────────────┴──────────────────────┘"
      ]
     },
     "execution_count": 24,
     "metadata": {},
     "output_type": "execute_result"
    }
   ],
   "source": [
    "import polars as pl\n",
    "\n",
    "# Skann innholdet i en Parquet-fil\n",
    "pl_df = pl.scan_parquet(\"filer/kjoretoyinfo_fra_2000.parquet\").head(10).collect()\n",
    "\n",
    "# Vis de første radene av DataFrame\n",
    "pl_df"
   ]
  },
  {
   "cell_type": "code",
   "execution_count": 29,
   "id": "2da41840-be25-4d67-b639-4ce494e21ac4",
   "metadata": {},
   "outputs": [
    {
     "data": {
      "text/html": [
       "<div><style>\n",
       ".dataframe > thead > tr,\n",
       ".dataframe > tbody > tr {\n",
       "  text-align: right;\n",
       "  white-space: pre-wrap;\n",
       "}\n",
       "</style>\n",
       "<small>shape: (10, 12)</small><table border=\"1\" class=\"dataframe\"><thead><tr><th>tekn_reg_f_g</th><th>tekn_reg_f_g_n</th><th>tekn_reg_eier_dato</th><th>tekn_merke</th><th>tekn_modell</th><th>tekn_farge</th><th>tekn_drivstoff</th><th>tekn_siste_pkk</th><th>tekn_neste_pkk</th><th>tekn_aksler_drift</th><th>tekn_sitteplasser_totalt</th><th>Date</th></tr><tr><td>i64</td><td>i64</td><td>i64</td><td>i64</td><td>str</td><td>str</td><td>str</td><td>str</td><td>str</td><td>i64</td><td>i64</td><td>date</td></tr></thead><tbody><tr><td>20211013</td><td>20211013</td><td>20211013</td><td>3900</td><td>&quot;VITO&quot;</td><td>&quot;05&quot;</td><td>&quot;2&quot;</td><td>null</td><td>&quot;20251013&quot;</td><td>2</td><td>3</td><td>2021-10-13</td></tr><tr><td>20200129</td><td>20200129</td><td>20200129</td><td>5750</td><td>&quot;CADDY&quot;</td><td>&quot;06&quot;</td><td>&quot;2&quot;</td><td>&quot;20231205&quot;</td><td>&quot;20260129&quot;</td><td>2</td><td>2</td><td>2020-01-29</td></tr><tr><td>20231129</td><td>20231129</td><td>20231129</td><td>2600</td><td>&quot;Mustang Mach-E…</td><td>&quot;06&quot;</td><td>&quot;5&quot;</td><td>null</td><td>&quot;20271129&quot;</td><td>1</td><td>5</td><td>2023-11-29</td></tr><tr><td>20200127</td><td>20200127</td><td>20200127</td><td>5750</td><td>&quot;CADDY&quot;</td><td>&quot;01&quot;</td><td>&quot;2&quot;</td><td>null</td><td>&quot;20240127&quot;</td><td>2</td><td>2</td><td>2020-01-27</td></tr><tr><td>20180731</td><td>20190130</td><td>20190130</td><td>2600</td><td>&quot;F-150 Platinum…</td><td>&quot;06&quot;</td><td>&quot;2&quot;</td><td>&quot;20220503&quot;</td><td>&quot;20240503&quot;</td><td>2</td><td>2</td><td>2019-01-30</td></tr><tr><td>20200519</td><td>20200519</td><td>20200519</td><td>5750</td><td>&quot;CRAFTER&quot;</td><td>&quot;01&quot;</td><td>&quot;2&quot;</td><td>null</td><td>&quot;20240519&quot;</td><td>1</td><td>3</td><td>2020-05-19</td></tr><tr><td>20200911</td><td>20200911</td><td>20220216</td><td>5150</td><td>&quot;CITIGO&quot;</td><td>&quot;01&quot;</td><td>&quot;5&quot;</td><td>null</td><td>&quot;20240911&quot;</td><td>1</td><td>4</td><td>2020-09-11</td></tr><tr><td>20220512</td><td>20220512</td><td>20220512</td><td>5480</td><td>&quot;YARIS&quot;</td><td>&quot;04&quot;</td><td>&quot;1,5&quot;</td><td>null</td><td>&quot;20260512&quot;</td><td>1</td><td>5</td><td>2022-05-12</td></tr><tr><td>20221104</td><td>20221104</td><td>20221104</td><td>5480</td><td>&quot;RAV4&quot;</td><td>&quot;06&quot;</td><td>&quot;1,5,5&quot;</td><td>null</td><td>&quot;20261104&quot;</td><td>2</td><td>5</td><td>2022-11-04</td></tr><tr><td>20210421</td><td>20210421</td><td>20210421</td><td>5480</td><td>&quot;TOYOTA LAND CR…</td><td>&quot;01&quot;</td><td>&quot;2&quot;</td><td>null</td><td>&quot;20250421&quot;</td><td>2</td><td>2</td><td>2021-04-21</td></tr></tbody></table></div>"
      ],
      "text/plain": [
       "shape: (10, 12)\n",
       "┌──────────────┬────────────────┬────────────────────┬────────────┬───┬────────────────┬───────────────────┬──────────────────────────┬────────────┐\n",
       "│ tekn_reg_f_g ┆ tekn_reg_f_g_n ┆ tekn_reg_eier_dato ┆ tekn_merke ┆ … ┆ tekn_neste_pkk ┆ tekn_aksler_drift ┆ tekn_sitteplasser_totalt ┆ Date       │\n",
       "│ ---          ┆ ---            ┆ ---                ┆ ---        ┆   ┆ ---            ┆ ---               ┆ ---                      ┆ ---        │\n",
       "│ i64          ┆ i64            ┆ i64                ┆ i64        ┆   ┆ str            ┆ i64               ┆ i64                      ┆ date       │\n",
       "╞══════════════╪════════════════╪════════════════════╪════════════╪═══╪════════════════╪═══════════════════╪══════════════════════════╪════════════╡\n",
       "│ 20211013     ┆ 20211013       ┆ 20211013           ┆ 3900       ┆ … ┆ 20251013       ┆ 2                 ┆ 3                        ┆ 2021-10-13 │\n",
       "│ 20200129     ┆ 20200129       ┆ 20200129           ┆ 5750       ┆ … ┆ 20260129       ┆ 2                 ┆ 2                        ┆ 2020-01-29 │\n",
       "│ 20231129     ┆ 20231129       ┆ 20231129           ┆ 2600       ┆ … ┆ 20271129       ┆ 1                 ┆ 5                        ┆ 2023-11-29 │\n",
       "│ 20200127     ┆ 20200127       ┆ 20200127           ┆ 5750       ┆ … ┆ 20240127       ┆ 2                 ┆ 2                        ┆ 2020-01-27 │\n",
       "│ 20180731     ┆ 20190130       ┆ 20190130           ┆ 2600       ┆ … ┆ 20240503       ┆ 2                 ┆ 2                        ┆ 2019-01-30 │\n",
       "│ 20200519     ┆ 20200519       ┆ 20200519           ┆ 5750       ┆ … ┆ 20240519       ┆ 1                 ┆ 3                        ┆ 2020-05-19 │\n",
       "│ 20200911     ┆ 20200911       ┆ 20220216           ┆ 5150       ┆ … ┆ 20240911       ┆ 1                 ┆ 4                        ┆ 2020-09-11 │\n",
       "│ 20220512     ┆ 20220512       ┆ 20220512           ┆ 5480       ┆ … ┆ 20260512       ┆ 1                 ┆ 5                        ┆ 2022-05-12 │\n",
       "│ 20221104     ┆ 20221104       ┆ 20221104           ┆ 5480       ┆ … ┆ 20261104       ┆ 2                 ┆ 5                        ┆ 2022-11-04 │\n",
       "│ 20210421     ┆ 20210421       ┆ 20210421           ┆ 5480       ┆ … ┆ 20250421       ┆ 2                 ┆ 2                        ┆ 2021-04-21 │\n",
       "└──────────────┴────────────────┴────────────────────┴────────────┴───┴────────────────┴───────────────────┴──────────────────────────┴────────────┘"
      ]
     },
     "execution_count": 29,
     "metadata": {},
     "output_type": "execute_result"
    }
   ],
   "source": [
    "pl_df = pl_df.with_columns([\n",
    "    pl.col(\"tekn_reg_f_g_n\").cast(str).str.strptime(pl.Date, \"%Y%m%d\").alias(\"Date\")\n",
    "])\n",
    "\n",
    "pl_df"
   ]
  },
  {
   "cell_type": "code",
   "execution_count": null,
   "id": "15d4eea8-36d7-4637-9eca-8f9113c84db7",
   "metadata": {},
   "outputs": [],
   "source": []
  },
  {
   "cell_type": "code",
   "execution_count": null,
   "id": "37ec2aed-2557-4e22-b3e3-cf66495c364e",
   "metadata": {},
   "outputs": [],
   "source": []
  }
 ],
 "metadata": {
  "kernelspec": {
   "display_name": "Python 3 (ipykernel)",
   "language": "python",
   "name": "python3"
  },
  "language_info": {
   "codemirror_mode": {
    "name": "ipython",
    "version": 3
   },
   "file_extension": ".py",
   "mimetype": "text/x-python",
   "name": "python",
   "nbconvert_exporter": "python",
   "pygments_lexer": "ipython3",
   "version": "3.10.13"
  }
 },
 "nbformat": 4,
 "nbformat_minor": 5
}

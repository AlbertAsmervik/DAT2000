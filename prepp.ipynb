{
 "cells": [
  {
   "cell_type": "code",
   "execution_count": 41,
   "id": "280c8504-facd-47c8-9eb7-59a5732936b3",
   "metadata": {},
   "outputs": [],
   "source": [
    "import polars as pl"
   ]
  },
  {
   "cell_type": "code",
   "execution_count": 42,
   "id": "80af3958-a7ce-4a3a-82a7-f8b401394549",
   "metadata": {},
   "outputs": [
    {
     "data": {
      "text/html": [
       "<div><style>\n",
       ".dataframe > thead > tr,\n",
       ".dataframe > tbody > tr {\n",
       "  text-align: right;\n",
       "  white-space: pre-wrap;\n",
       "}\n",
       "</style>\n",
       "<small>shape: (3_207_748, 11)</small><table border=\"1\" class=\"dataframe\"><thead><tr><th>tekn_reg_f_g</th><th>tekn_reg_f_g_n</th><th>tekn_reg_eier_dato</th><th>tekn_merke</th><th>tekn_modell</th><th>tekn_farge</th><th>tekn_drivstoff</th><th>tekn_siste_pkk</th><th>tekn_neste_pkk</th><th>tekn_aksler_drift</th><th>tekn_sitteplasser_totalt</th></tr><tr><td>i64</td><td>i64</td><td>i64</td><td>i64</td><td>str</td><td>str</td><td>str</td><td>str</td><td>str</td><td>i64</td><td>i64</td></tr></thead><tbody><tr><td>20211013</td><td>20211013</td><td>20211013</td><td>3900</td><td>&quot;VITO&quot;</td><td>&quot;05&quot;</td><td>&quot;2&quot;</td><td>null</td><td>&quot;20251013&quot;</td><td>2</td><td>3</td></tr><tr><td>20200129</td><td>20200129</td><td>20200129</td><td>5750</td><td>&quot;CADDY&quot;</td><td>&quot;06&quot;</td><td>&quot;2&quot;</td><td>&quot;20231205&quot;</td><td>&quot;20260129&quot;</td><td>2</td><td>2</td></tr><tr><td>20231129</td><td>20231129</td><td>20231129</td><td>2600</td><td>&quot;Mustang Mach-E…</td><td>&quot;06&quot;</td><td>&quot;5&quot;</td><td>null</td><td>&quot;20271129&quot;</td><td>1</td><td>5</td></tr><tr><td>20200127</td><td>20200127</td><td>20200127</td><td>5750</td><td>&quot;CADDY&quot;</td><td>&quot;01&quot;</td><td>&quot;2&quot;</td><td>null</td><td>&quot;20240127&quot;</td><td>2</td><td>2</td></tr><tr><td>20180731</td><td>20190130</td><td>20190130</td><td>2600</td><td>&quot;F-150 Platinum…</td><td>&quot;06&quot;</td><td>&quot;2&quot;</td><td>&quot;20220503&quot;</td><td>&quot;20240503&quot;</td><td>2</td><td>2</td></tr><tr><td>20200519</td><td>20200519</td><td>20200519</td><td>5750</td><td>&quot;CRAFTER&quot;</td><td>&quot;01&quot;</td><td>&quot;2&quot;</td><td>null</td><td>&quot;20240519&quot;</td><td>1</td><td>3</td></tr><tr><td>20200911</td><td>20200911</td><td>20220216</td><td>5150</td><td>&quot;CITIGO&quot;</td><td>&quot;01&quot;</td><td>&quot;5&quot;</td><td>null</td><td>&quot;20240911&quot;</td><td>1</td><td>4</td></tr><tr><td>20220512</td><td>20220512</td><td>20220512</td><td>5480</td><td>&quot;YARIS&quot;</td><td>&quot;04&quot;</td><td>&quot;1,5&quot;</td><td>null</td><td>&quot;20260512&quot;</td><td>1</td><td>5</td></tr><tr><td>20221104</td><td>20221104</td><td>20221104</td><td>5480</td><td>&quot;RAV4&quot;</td><td>&quot;06&quot;</td><td>&quot;1,5,5&quot;</td><td>null</td><td>&quot;20261104&quot;</td><td>2</td><td>5</td></tr><tr><td>20210421</td><td>20210421</td><td>20210421</td><td>5480</td><td>&quot;TOYOTA LAND CR…</td><td>&quot;01&quot;</td><td>&quot;2&quot;</td><td>null</td><td>&quot;20250421&quot;</td><td>2</td><td>2</td></tr><tr><td>20120127</td><td>20120127</td><td>20190219</td><td>5800</td><td>&quot;XC60&quot;</td><td>&quot;01&quot;</td><td>&quot;2&quot;</td><td>&quot;20220624&quot;</td><td>&quot;20240624&quot;</td><td>2</td><td>5</td></tr><tr><td>20231027</td><td>20231027</td><td>20231027</td><td>8670</td><td>&quot;N175&quot;</td><td>&quot;06&quot;</td><td>&quot;2&quot;</td><td>&quot;20271027&quot;</td><td>&quot;79&quot;</td><td>2</td><td>2</td></tr><tr><td>&hellip;</td><td>&hellip;</td><td>&hellip;</td><td>&hellip;</td><td>&hellip;</td><td>&hellip;</td><td>&hellip;</td><td>&hellip;</td><td>&hellip;</td><td>&hellip;</td><td>&hellip;</td></tr><tr><td>20031022</td><td>20031022</td><td>20031022</td><td>5150</td><td>&quot;FABIA&quot;</td><td>&quot;05&quot;</td><td>&quot;1&quot;</td><td>&quot;20171213&quot;</td><td>null</td><td>0</td><td>5</td></tr><tr><td>20081113</td><td>20081113</td><td>20170908</td><td>5800</td><td>&quot;FH-480&quot;</td><td>&quot;01&quot;</td><td>&quot;2&quot;</td><td>&quot;20190308&quot;</td><td>&quot;20200308&quot;</td><td>0</td><td>2</td></tr><tr><td>20070104</td><td>20070104</td><td>20070104</td><td>5480</td><td>&quot;COROLLA&quot;</td><td>&quot;11&quot;</td><td>&quot;2&quot;</td><td>&quot;20230420&quot;</td><td>&quot;20250430&quot;</td><td>0</td><td>5</td></tr><tr><td>20180131</td><td>20180131</td><td>20230804</td><td>2600</td><td>&quot;GALAXY&quot;</td><td>&quot;06&quot;</td><td>&quot;2&quot;</td><td>&quot;20231130&quot;</td><td>&quot;20260131&quot;</td><td>2</td><td>2</td></tr><tr><td>20180404</td><td>20180404</td><td>20180404</td><td>2001</td><td>&quot;NISSAN LEAF 40…</td><td>&quot;06&quot;</td><td>&quot;5&quot;</td><td>&quot;20220810&quot;</td><td>&quot;20240831&quot;</td><td>1</td><td>5</td></tr><tr><td>20170524</td><td>20170524</td><td>20181008</td><td>5480</td><td>&quot;C-HR&quot;</td><td>&quot;05&quot;</td><td>&quot;1&quot;</td><td>&quot;20230913&quot;</td><td>&quot;20250930&quot;</td><td>2</td><td>5</td></tr><tr><td>19951102</td><td>20060410</td><td>20201113</td><td>1400</td><td>&quot;728IA&quot;</td><td>&quot;06&quot;</td><td>&quot;1&quot;</td><td>&quot;20170130&quot;</td><td>&quot;20190131&quot;</td><td>0</td><td>5</td></tr><tr><td>20031127</td><td>20031127</td><td>20170610</td><td>4350</td><td>&quot;ZAFIRA-A&quot;</td><td>&quot;11&quot;</td><td>&quot;1&quot;</td><td>&quot;20190514&quot;</td><td>&quot;20210430&quot;</td><td>0</td><td>7</td></tr><tr><td>20140117</td><td>20140117</td><td>20180731</td><td>2600</td><td>&quot;RANGER&quot;</td><td>&quot;05&quot;</td><td>&quot;2&quot;</td><td>&quot;20220511&quot;</td><td>&quot;20240630&quot;</td><td>2</td><td>2</td></tr><tr><td>20080331</td><td>20080331</td><td>20230728</td><td>3930</td><td>&quot;MX-5&quot;</td><td>&quot;05&quot;</td><td>&quot;1&quot;</td><td>&quot;20230816&quot;</td><td>&quot;20250816&quot;</td><td>0</td><td>2</td></tr><tr><td>20150731</td><td>20150731</td><td>20230630</td><td>4500</td><td>&quot;iOn&quot;</td><td>&quot;01&quot;</td><td>&quot;5&quot;</td><td>&quot;20230320&quot;</td><td>&quot;20250331&quot;</td><td>1</td><td>4</td></tr><tr><td>20040921</td><td>20040921</td><td>20140120</td><td>5750</td><td>&quot;POLO&quot;</td><td>&quot;11&quot;</td><td>&quot;1&quot;</td><td>&quot;20141017&quot;</td><td>null</td><td>0</td><td>5</td></tr></tbody></table></div>"
      ],
      "text/plain": [
       "shape: (3_207_748, 11)\n",
       "┌───────────┬───────────┬───────────┬───────────┬───┬───────────┬───────────┬───────────┬──────────┐\n",
       "│ tekn_reg_ ┆ tekn_reg_ ┆ tekn_reg_ ┆ tekn_merk ┆ … ┆ tekn_sist ┆ tekn_nest ┆ tekn_aksl ┆ tekn_sit │\n",
       "│ f_g       ┆ f_g_n     ┆ eier_dato ┆ e         ┆   ┆ e_pkk     ┆ e_pkk     ┆ er_drift  ┆ teplasse │\n",
       "│ ---       ┆ ---       ┆ ---       ┆ ---       ┆   ┆ ---       ┆ ---       ┆ ---       ┆ r_totalt │\n",
       "│ i64       ┆ i64       ┆ i64       ┆ i64       ┆   ┆ str       ┆ str       ┆ i64       ┆ ---      │\n",
       "│           ┆           ┆           ┆           ┆   ┆           ┆           ┆           ┆ i64      │\n",
       "╞═══════════╪═══════════╪═══════════╪═══════════╪═══╪═══════════╪═══════════╪═══════════╪══════════╡\n",
       "│ 20211013  ┆ 20211013  ┆ 20211013  ┆ 3900      ┆ … ┆ null      ┆ 20251013  ┆ 2         ┆ 3        │\n",
       "│ 20200129  ┆ 20200129  ┆ 20200129  ┆ 5750      ┆ … ┆ 20231205  ┆ 20260129  ┆ 2         ┆ 2        │\n",
       "│ 20231129  ┆ 20231129  ┆ 20231129  ┆ 2600      ┆ … ┆ null      ┆ 20271129  ┆ 1         ┆ 5        │\n",
       "│ 20200127  ┆ 20200127  ┆ 20200127  ┆ 5750      ┆ … ┆ null      ┆ 20240127  ┆ 2         ┆ 2        │\n",
       "│ …         ┆ …         ┆ …         ┆ …         ┆ … ┆ …         ┆ …         ┆ …         ┆ …        │\n",
       "│ 20140117  ┆ 20140117  ┆ 20180731  ┆ 2600      ┆ … ┆ 20220511  ┆ 20240630  ┆ 2         ┆ 2        │\n",
       "│ 20080331  ┆ 20080331  ┆ 20230728  ┆ 3930      ┆ … ┆ 20230816  ┆ 20250816  ┆ 0         ┆ 2        │\n",
       "│ 20150731  ┆ 20150731  ┆ 20230630  ┆ 4500      ┆ … ┆ 20230320  ┆ 20250331  ┆ 1         ┆ 4        │\n",
       "│ 20040921  ┆ 20040921  ┆ 20140120  ┆ 5750      ┆ … ┆ 20141017  ┆ null      ┆ 0         ┆ 5        │\n",
       "└───────────┴───────────┴───────────┴───────────┴───┴───────────┴───────────┴───────────┴──────────┘"
      ]
     },
     "execution_count": 42,
     "metadata": {},
     "output_type": "execute_result"
    }
   ],
   "source": [
    "# 1.\n",
    "# Les inn kjoretoyinfo_fra_[putt_inn_år].parquet. Bruk pl.scan_parquet.\n",
    "\n",
    "pl_df = pl.scan_parquet(\"filer/kjoretoyinfo_fra_2000.parquet\").collect()\n",
    "\n",
    "pl_df"
   ]
  },
  {
   "cell_type": "code",
   "execution_count": 43,
   "id": "0912b082-8fad-4321-8c78-77c9de994f35",
   "metadata": {},
   "outputs": [
    {
     "data": {
      "text/html": [
       "<div><style>\n",
       ".dataframe > thead > tr,\n",
       ".dataframe > tbody > tr {\n",
       "  text-align: right;\n",
       "  white-space: pre-wrap;\n",
       "}\n",
       "</style>\n",
       "<small>shape: (3_207_748, 11)</small><table border=\"1\" class=\"dataframe\"><thead><tr><th>tekn_reg_f_g</th><th>tekn_reg_f_g_n</th><th>tekn_reg_eier_dato</th><th>tekn_merke</th><th>tekn_modell</th><th>tekn_farge</th><th>tekn_drivstoff</th><th>tekn_siste_pkk</th><th>tekn_neste_pkk</th><th>tekn_aksler_drift</th><th>tekn_sitteplasser_totalt</th></tr><tr><td>i64</td><td>date</td><td>date</td><td>i64</td><td>str</td><td>str</td><td>str</td><td>str</td><td>date</td><td>i64</td><td>i64</td></tr></thead><tbody><tr><td>20211013</td><td>2021-10-13</td><td>2021-10-13</td><td>3900</td><td>&quot;VITO&quot;</td><td>&quot;05&quot;</td><td>&quot;2&quot;</td><td>null</td><td>2025-10-13</td><td>2</td><td>3</td></tr><tr><td>20200129</td><td>2020-01-29</td><td>2020-01-29</td><td>5750</td><td>&quot;CADDY&quot;</td><td>&quot;06&quot;</td><td>&quot;2&quot;</td><td>&quot;20231205&quot;</td><td>2026-01-29</td><td>2</td><td>2</td></tr><tr><td>20231129</td><td>2023-11-29</td><td>2023-11-29</td><td>2600</td><td>&quot;Mustang Mach-E…</td><td>&quot;06&quot;</td><td>&quot;5&quot;</td><td>null</td><td>2027-11-29</td><td>1</td><td>5</td></tr><tr><td>20200127</td><td>2020-01-27</td><td>2020-01-27</td><td>5750</td><td>&quot;CADDY&quot;</td><td>&quot;01&quot;</td><td>&quot;2&quot;</td><td>null</td><td>2024-01-27</td><td>2</td><td>2</td></tr><tr><td>20180731</td><td>2019-01-30</td><td>2019-01-30</td><td>2600</td><td>&quot;F-150 Platinum…</td><td>&quot;06&quot;</td><td>&quot;2&quot;</td><td>&quot;20220503&quot;</td><td>2024-05-03</td><td>2</td><td>2</td></tr><tr><td>20200519</td><td>2020-05-19</td><td>2020-05-19</td><td>5750</td><td>&quot;CRAFTER&quot;</td><td>&quot;01&quot;</td><td>&quot;2&quot;</td><td>null</td><td>2024-05-19</td><td>1</td><td>3</td></tr><tr><td>20200911</td><td>2020-09-11</td><td>2022-02-16</td><td>5150</td><td>&quot;CITIGO&quot;</td><td>&quot;01&quot;</td><td>&quot;5&quot;</td><td>null</td><td>2024-09-11</td><td>1</td><td>4</td></tr><tr><td>20220512</td><td>2022-05-12</td><td>2022-05-12</td><td>5480</td><td>&quot;YARIS&quot;</td><td>&quot;04&quot;</td><td>&quot;1,5&quot;</td><td>null</td><td>2026-05-12</td><td>1</td><td>5</td></tr><tr><td>20221104</td><td>2022-11-04</td><td>2022-11-04</td><td>5480</td><td>&quot;RAV4&quot;</td><td>&quot;06&quot;</td><td>&quot;1,5,5&quot;</td><td>null</td><td>2026-11-04</td><td>2</td><td>5</td></tr><tr><td>20210421</td><td>2021-04-21</td><td>2021-04-21</td><td>5480</td><td>&quot;TOYOTA LAND CR…</td><td>&quot;01&quot;</td><td>&quot;2&quot;</td><td>null</td><td>2025-04-21</td><td>2</td><td>2</td></tr><tr><td>20120127</td><td>2012-01-27</td><td>2019-02-19</td><td>5800</td><td>&quot;XC60&quot;</td><td>&quot;01&quot;</td><td>&quot;2&quot;</td><td>&quot;20220624&quot;</td><td>2024-06-24</td><td>2</td><td>5</td></tr><tr><td>20231027</td><td>2023-10-27</td><td>2023-10-27</td><td>8670</td><td>&quot;N175&quot;</td><td>&quot;06&quot;</td><td>&quot;2&quot;</td><td>&quot;20271027&quot;</td><td>null</td><td>2</td><td>2</td></tr><tr><td>&hellip;</td><td>&hellip;</td><td>&hellip;</td><td>&hellip;</td><td>&hellip;</td><td>&hellip;</td><td>&hellip;</td><td>&hellip;</td><td>&hellip;</td><td>&hellip;</td><td>&hellip;</td></tr><tr><td>20031022</td><td>2003-10-22</td><td>2003-10-22</td><td>5150</td><td>&quot;FABIA&quot;</td><td>&quot;05&quot;</td><td>&quot;1&quot;</td><td>&quot;20171213&quot;</td><td>null</td><td>0</td><td>5</td></tr><tr><td>20081113</td><td>2008-11-13</td><td>2017-09-08</td><td>5800</td><td>&quot;FH-480&quot;</td><td>&quot;01&quot;</td><td>&quot;2&quot;</td><td>&quot;20190308&quot;</td><td>2020-03-08</td><td>0</td><td>2</td></tr><tr><td>20070104</td><td>2007-01-04</td><td>2007-01-04</td><td>5480</td><td>&quot;COROLLA&quot;</td><td>&quot;11&quot;</td><td>&quot;2&quot;</td><td>&quot;20230420&quot;</td><td>2025-04-30</td><td>0</td><td>5</td></tr><tr><td>20180131</td><td>2018-01-31</td><td>2023-08-04</td><td>2600</td><td>&quot;GALAXY&quot;</td><td>&quot;06&quot;</td><td>&quot;2&quot;</td><td>&quot;20231130&quot;</td><td>2026-01-31</td><td>2</td><td>2</td></tr><tr><td>20180404</td><td>2018-04-04</td><td>2018-04-04</td><td>2001</td><td>&quot;NISSAN LEAF 40…</td><td>&quot;06&quot;</td><td>&quot;5&quot;</td><td>&quot;20220810&quot;</td><td>2024-08-31</td><td>1</td><td>5</td></tr><tr><td>20170524</td><td>2017-05-24</td><td>2018-10-08</td><td>5480</td><td>&quot;C-HR&quot;</td><td>&quot;05&quot;</td><td>&quot;1&quot;</td><td>&quot;20230913&quot;</td><td>2025-09-30</td><td>2</td><td>5</td></tr><tr><td>19951102</td><td>2006-04-10</td><td>2020-11-13</td><td>1400</td><td>&quot;728IA&quot;</td><td>&quot;06&quot;</td><td>&quot;1&quot;</td><td>&quot;20170130&quot;</td><td>2019-01-31</td><td>0</td><td>5</td></tr><tr><td>20031127</td><td>2003-11-27</td><td>2017-06-10</td><td>4350</td><td>&quot;ZAFIRA-A&quot;</td><td>&quot;11&quot;</td><td>&quot;1&quot;</td><td>&quot;20190514&quot;</td><td>2021-04-30</td><td>0</td><td>7</td></tr><tr><td>20140117</td><td>2014-01-17</td><td>2018-07-31</td><td>2600</td><td>&quot;RANGER&quot;</td><td>&quot;05&quot;</td><td>&quot;2&quot;</td><td>&quot;20220511&quot;</td><td>2024-06-30</td><td>2</td><td>2</td></tr><tr><td>20080331</td><td>2008-03-31</td><td>2023-07-28</td><td>3930</td><td>&quot;MX-5&quot;</td><td>&quot;05&quot;</td><td>&quot;1&quot;</td><td>&quot;20230816&quot;</td><td>2025-08-16</td><td>0</td><td>2</td></tr><tr><td>20150731</td><td>2015-07-31</td><td>2023-06-30</td><td>4500</td><td>&quot;iOn&quot;</td><td>&quot;01&quot;</td><td>&quot;5&quot;</td><td>&quot;20230320&quot;</td><td>2025-03-31</td><td>1</td><td>4</td></tr><tr><td>20040921</td><td>2004-09-21</td><td>2014-01-20</td><td>5750</td><td>&quot;POLO&quot;</td><td>&quot;11&quot;</td><td>&quot;1&quot;</td><td>&quot;20141017&quot;</td><td>null</td><td>0</td><td>5</td></tr></tbody></table></div>"
      ],
      "text/plain": [
       "shape: (3_207_748, 11)\n",
       "┌───────────┬───────────┬───────────┬───────────┬───┬───────────┬───────────┬───────────┬──────────┐\n",
       "│ tekn_reg_ ┆ tekn_reg_ ┆ tekn_reg_ ┆ tekn_merk ┆ … ┆ tekn_sist ┆ tekn_nest ┆ tekn_aksl ┆ tekn_sit │\n",
       "│ f_g       ┆ f_g_n     ┆ eier_dato ┆ e         ┆   ┆ e_pkk     ┆ e_pkk     ┆ er_drift  ┆ teplasse │\n",
       "│ ---       ┆ ---       ┆ ---       ┆ ---       ┆   ┆ ---       ┆ ---       ┆ ---       ┆ r_totalt │\n",
       "│ i64       ┆ date      ┆ date      ┆ i64       ┆   ┆ str       ┆ date      ┆ i64       ┆ ---      │\n",
       "│           ┆           ┆           ┆           ┆   ┆           ┆           ┆           ┆ i64      │\n",
       "╞═══════════╪═══════════╪═══════════╪═══════════╪═══╪═══════════╪═══════════╪═══════════╪══════════╡\n",
       "│ 20211013  ┆ 2021-10-1 ┆ 2021-10-1 ┆ 3900      ┆ … ┆ null      ┆ 2025-10-1 ┆ 2         ┆ 3        │\n",
       "│           ┆ 3         ┆ 3         ┆           ┆   ┆           ┆ 3         ┆           ┆          │\n",
       "│ 20200129  ┆ 2020-01-2 ┆ 2020-01-2 ┆ 5750      ┆ … ┆ 20231205  ┆ 2026-01-2 ┆ 2         ┆ 2        │\n",
       "│           ┆ 9         ┆ 9         ┆           ┆   ┆           ┆ 9         ┆           ┆          │\n",
       "│ 20231129  ┆ 2023-11-2 ┆ 2023-11-2 ┆ 2600      ┆ … ┆ null      ┆ 2027-11-2 ┆ 1         ┆ 5        │\n",
       "│           ┆ 9         ┆ 9         ┆           ┆   ┆           ┆ 9         ┆           ┆          │\n",
       "│ 20200127  ┆ 2020-01-2 ┆ 2020-01-2 ┆ 5750      ┆ … ┆ null      ┆ 2024-01-2 ┆ 2         ┆ 2        │\n",
       "│           ┆ 7         ┆ 7         ┆           ┆   ┆           ┆ 7         ┆           ┆          │\n",
       "│ …         ┆ …         ┆ …         ┆ …         ┆ … ┆ …         ┆ …         ┆ …         ┆ …        │\n",
       "│ 20140117  ┆ 2014-01-1 ┆ 2018-07-3 ┆ 2600      ┆ … ┆ 20220511  ┆ 2024-06-3 ┆ 2         ┆ 2        │\n",
       "│           ┆ 7         ┆ 1         ┆           ┆   ┆           ┆ 0         ┆           ┆          │\n",
       "│ 20080331  ┆ 2008-03-3 ┆ 2023-07-2 ┆ 3930      ┆ … ┆ 20230816  ┆ 2025-08-1 ┆ 0         ┆ 2        │\n",
       "│           ┆ 1         ┆ 8         ┆           ┆   ┆           ┆ 6         ┆           ┆          │\n",
       "│ 20150731  ┆ 2015-07-3 ┆ 2023-06-3 ┆ 4500      ┆ … ┆ 20230320  ┆ 2025-03-3 ┆ 1         ┆ 4        │\n",
       "│           ┆ 1         ┆ 0         ┆           ┆   ┆           ┆ 1         ┆           ┆          │\n",
       "│ 20040921  ┆ 2004-09-2 ┆ 2014-01-2 ┆ 5750      ┆ … ┆ 20141017  ┆ null      ┆ 0         ┆ 5        │\n",
       "│           ┆ 1         ┆ 0         ┆           ┆   ┆           ┆           ┆           ┆          │\n",
       "└───────────┴───────────┴───────────┴───────────┴───┴───────────┴───────────┴───────────┴──────────┘"
      ]
     },
     "execution_count": 43,
     "metadata": {},
     "output_type": "execute_result"
    }
   ],
   "source": [
    "# 2. \n",
    "# “tekn_reg_f_g_n” er dato for førstegangsregistrering i Norge. \n",
    "# Konverter denne kolonnen til en datetime.\n",
    "# Gjør tilsvarende for “neste_pkk” og “tekn_reg_eier_dato”.\n",
    "\n",
    "pl_df = pl_df.with_columns(\n",
    "    tekn_reg_f_g_n = pl.col(\"tekn_reg_f_g_n\").cast(str).str.to_date(format=\"%Y%m%d\"),\n",
    "    tekn_neste_pkk = pl.when(\n",
    "        pl.col(\"tekn_neste_pkk\").str.len_bytes() == 8\n",
    "    ).then(\n",
    "        pl.col(\"tekn_neste_pkk\").cast(str).str.to_date(format=\"%Y%m%d\", strict=False)\n",
    "    ).otherwise(\n",
    "        pl.lit(None)\n",
    "    ),\n",
    "    tekn_reg_eier_dato = pl.col(\"tekn_reg_eier_dato\").cast(str).str.to_date(format=\"%Y%m%d\")\n",
    ")\n",
    "\n",
    "pl_df"
   ]
  },
  {
   "cell_type": "code",
   "execution_count": 44,
   "id": "bda4b363-2c7f-49b9-a87b-1032fae06616",
   "metadata": {},
   "outputs": [
    {
     "data": {
      "text/html": [
       "<div><style>\n",
       ".dataframe > thead > tr,\n",
       ".dataframe > tbody > tr {\n",
       "  text-align: right;\n",
       "  white-space: pre-wrap;\n",
       "}\n",
       "</style>\n",
       "<small>shape: (3_207_748, 13)</small><table border=\"1\" class=\"dataframe\"><thead><tr><th>tekn_reg_f_g</th><th>tekn_reg_f_g_n</th><th>tekn_reg_eier_dato</th><th>tekn_merke</th><th>tekn_modell</th><th>tekn_farge</th><th>tekn_drivstoff</th><th>tekn_siste_pkk</th><th>tekn_neste_pkk</th><th>tekn_aksler_drift</th><th>tekn_sitteplasser_totalt</th><th>kode</th><th>beskrivelse</th></tr><tr><td>i64</td><td>date</td><td>date</td><td>i64</td><td>str</td><td>str</td><td>str</td><td>str</td><td>date</td><td>i64</td><td>i64</td><td>i64</td><td>str</td></tr></thead><tbody><tr><td>20211013</td><td>2021-10-13</td><td>2021-10-13</td><td>3900</td><td>&quot;VITO&quot;</td><td>&quot;5&quot;</td><td>&quot;2&quot;</td><td>null</td><td>2025-10-13</td><td>2</td><td>3</td><td>5</td><td>&quot;Grå&quot;</td></tr><tr><td>20200129</td><td>2020-01-29</td><td>2020-01-29</td><td>5750</td><td>&quot;CADDY&quot;</td><td>&quot;6&quot;</td><td>&quot;2&quot;</td><td>&quot;20231205&quot;</td><td>2026-01-29</td><td>2</td><td>2</td><td>6</td><td>&quot;Svart (også bl…</td></tr><tr><td>20231129</td><td>2023-11-29</td><td>2023-11-29</td><td>2600</td><td>&quot;Mustang Mach-E…</td><td>&quot;6&quot;</td><td>&quot;5&quot;</td><td>null</td><td>2027-11-29</td><td>1</td><td>5</td><td>6</td><td>&quot;Svart (også bl…</td></tr><tr><td>20200127</td><td>2020-01-27</td><td>2020-01-27</td><td>5750</td><td>&quot;CADDY&quot;</td><td>&quot;1&quot;</td><td>&quot;2&quot;</td><td>null</td><td>2024-01-27</td><td>2</td><td>2</td><td>1</td><td>&quot;Hvit (også ant…</td></tr><tr><td>20180731</td><td>2019-01-30</td><td>2019-01-30</td><td>2600</td><td>&quot;F-150 Platinum…</td><td>&quot;6&quot;</td><td>&quot;2&quot;</td><td>&quot;20220503&quot;</td><td>2024-05-03</td><td>2</td><td>2</td><td>6</td><td>&quot;Svart (også bl…</td></tr><tr><td>20200519</td><td>2020-05-19</td><td>2020-05-19</td><td>5750</td><td>&quot;CRAFTER&quot;</td><td>&quot;1&quot;</td><td>&quot;2&quot;</td><td>null</td><td>2024-05-19</td><td>1</td><td>3</td><td>1</td><td>&quot;Hvit (også ant…</td></tr><tr><td>20200911</td><td>2020-09-11</td><td>2022-02-16</td><td>5150</td><td>&quot;CITIGO&quot;</td><td>&quot;1&quot;</td><td>&quot;5&quot;</td><td>null</td><td>2024-09-11</td><td>1</td><td>4</td><td>1</td><td>&quot;Hvit (også ant…</td></tr><tr><td>20220512</td><td>2022-05-12</td><td>2022-05-12</td><td>5480</td><td>&quot;YARIS&quot;</td><td>&quot;4&quot;</td><td>&quot;1,5&quot;</td><td>null</td><td>2026-05-12</td><td>1</td><td>5</td><td>4</td><td>&quot;Grønn (også gr…</td></tr><tr><td>20221104</td><td>2022-11-04</td><td>2022-11-04</td><td>5480</td><td>&quot;RAV4&quot;</td><td>&quot;6&quot;</td><td>&quot;1,5,5&quot;</td><td>null</td><td>2026-11-04</td><td>2</td><td>5</td><td>6</td><td>&quot;Svart (også bl…</td></tr><tr><td>20210421</td><td>2021-04-21</td><td>2021-04-21</td><td>5480</td><td>&quot;TOYOTA LAND CR…</td><td>&quot;1&quot;</td><td>&quot;2&quot;</td><td>null</td><td>2025-04-21</td><td>2</td><td>2</td><td>1</td><td>&quot;Hvit (også ant…</td></tr><tr><td>20120127</td><td>2012-01-27</td><td>2019-02-19</td><td>5800</td><td>&quot;XC60&quot;</td><td>&quot;1&quot;</td><td>&quot;2&quot;</td><td>&quot;20220624&quot;</td><td>2024-06-24</td><td>2</td><td>5</td><td>1</td><td>&quot;Hvit (også ant…</td></tr><tr><td>20231027</td><td>2023-10-27</td><td>2023-10-27</td><td>8670</td><td>&quot;N175&quot;</td><td>&quot;6&quot;</td><td>&quot;2&quot;</td><td>&quot;20271027&quot;</td><td>null</td><td>2</td><td>2</td><td>6</td><td>&quot;Svart (også bl…</td></tr><tr><td>&hellip;</td><td>&hellip;</td><td>&hellip;</td><td>&hellip;</td><td>&hellip;</td><td>&hellip;</td><td>&hellip;</td><td>&hellip;</td><td>&hellip;</td><td>&hellip;</td><td>&hellip;</td><td>&hellip;</td><td>&hellip;</td></tr><tr><td>20031022</td><td>2003-10-22</td><td>2003-10-22</td><td>5150</td><td>&quot;FABIA&quot;</td><td>&quot;5&quot;</td><td>&quot;1&quot;</td><td>&quot;20171213&quot;</td><td>null</td><td>0</td><td>5</td><td>5</td><td>&quot;Grå&quot;</td></tr><tr><td>20081113</td><td>2008-11-13</td><td>2017-09-08</td><td>5800</td><td>&quot;FH-480&quot;</td><td>&quot;1&quot;</td><td>&quot;2&quot;</td><td>&quot;20190308&quot;</td><td>2020-03-08</td><td>0</td><td>2</td><td>1</td><td>&quot;Hvit (også ant…</td></tr><tr><td>20070104</td><td>2007-01-04</td><td>2007-01-04</td><td>5480</td><td>&quot;COROLLA&quot;</td><td>&quot;11&quot;</td><td>&quot;2&quot;</td><td>&quot;20230420&quot;</td><td>2025-04-30</td><td>0</td><td>5</td><td>11</td><td>&quot;Sølv (også søl…</td></tr><tr><td>20180131</td><td>2018-01-31</td><td>2023-08-04</td><td>2600</td><td>&quot;GALAXY&quot;</td><td>&quot;6&quot;</td><td>&quot;2&quot;</td><td>&quot;20231130&quot;</td><td>2026-01-31</td><td>2</td><td>2</td><td>6</td><td>&quot;Svart (også bl…</td></tr><tr><td>20180404</td><td>2018-04-04</td><td>2018-04-04</td><td>2001</td><td>&quot;NISSAN LEAF 40…</td><td>&quot;6&quot;</td><td>&quot;5&quot;</td><td>&quot;20220810&quot;</td><td>2024-08-31</td><td>1</td><td>5</td><td>6</td><td>&quot;Svart (også bl…</td></tr><tr><td>20170524</td><td>2017-05-24</td><td>2018-10-08</td><td>5480</td><td>&quot;C-HR&quot;</td><td>&quot;5&quot;</td><td>&quot;1&quot;</td><td>&quot;20230913&quot;</td><td>2025-09-30</td><td>2</td><td>5</td><td>5</td><td>&quot;Grå&quot;</td></tr><tr><td>19951102</td><td>2006-04-10</td><td>2020-11-13</td><td>1400</td><td>&quot;728IA&quot;</td><td>&quot;6&quot;</td><td>&quot;1&quot;</td><td>&quot;20170130&quot;</td><td>2019-01-31</td><td>0</td><td>5</td><td>6</td><td>&quot;Svart (også bl…</td></tr><tr><td>20031127</td><td>2003-11-27</td><td>2017-06-10</td><td>4350</td><td>&quot;ZAFIRA-A&quot;</td><td>&quot;11&quot;</td><td>&quot;1&quot;</td><td>&quot;20190514&quot;</td><td>2021-04-30</td><td>0</td><td>7</td><td>11</td><td>&quot;Sølv (også søl…</td></tr><tr><td>20140117</td><td>2014-01-17</td><td>2018-07-31</td><td>2600</td><td>&quot;RANGER&quot;</td><td>&quot;5&quot;</td><td>&quot;2&quot;</td><td>&quot;20220511&quot;</td><td>2024-06-30</td><td>2</td><td>2</td><td>5</td><td>&quot;Grå&quot;</td></tr><tr><td>20080331</td><td>2008-03-31</td><td>2023-07-28</td><td>3930</td><td>&quot;MX-5&quot;</td><td>&quot;5&quot;</td><td>&quot;1&quot;</td><td>&quot;20230816&quot;</td><td>2025-08-16</td><td>0</td><td>2</td><td>5</td><td>&quot;Grå&quot;</td></tr><tr><td>20150731</td><td>2015-07-31</td><td>2023-06-30</td><td>4500</td><td>&quot;iOn&quot;</td><td>&quot;1&quot;</td><td>&quot;5&quot;</td><td>&quot;20230320&quot;</td><td>2025-03-31</td><td>1</td><td>4</td><td>1</td><td>&quot;Hvit (også ant…</td></tr><tr><td>20040921</td><td>2004-09-21</td><td>2014-01-20</td><td>5750</td><td>&quot;POLO&quot;</td><td>&quot;11&quot;</td><td>&quot;1&quot;</td><td>&quot;20141017&quot;</td><td>null</td><td>0</td><td>5</td><td>11</td><td>&quot;Sølv (også søl…</td></tr></tbody></table></div>"
      ],
      "text/plain": [
       "shape: (3_207_748, 13)\n",
       "┌────────────┬────────────┬────────────┬────────────┬───┬───────────┬───────────┬──────┬───────────┐\n",
       "│ tekn_reg_f ┆ tekn_reg_f ┆ tekn_reg_e ┆ tekn_merke ┆ … ┆ tekn_aksl ┆ tekn_sitt ┆ kode ┆ beskrivel │\n",
       "│ _g         ┆ _g_n       ┆ ier_dato   ┆ ---        ┆   ┆ er_drift  ┆ eplasser_ ┆ ---  ┆ se        │\n",
       "│ ---        ┆ ---        ┆ ---        ┆ i64        ┆   ┆ ---       ┆ totalt    ┆ i64  ┆ ---       │\n",
       "│ i64        ┆ date       ┆ date       ┆            ┆   ┆ i64       ┆ ---       ┆      ┆ str       │\n",
       "│            ┆            ┆            ┆            ┆   ┆           ┆ i64       ┆      ┆           │\n",
       "╞════════════╪════════════╪════════════╪════════════╪═══╪═══════════╪═══════════╪══════╪═══════════╡\n",
       "│ 20211013   ┆ 2021-10-13 ┆ 2021-10-13 ┆ 3900       ┆ … ┆ 2         ┆ 3         ┆ 5    ┆ Grå       │\n",
       "│ 20200129   ┆ 2020-01-29 ┆ 2020-01-29 ┆ 5750       ┆ … ┆ 2         ┆ 2         ┆ 6    ┆ Svart     │\n",
       "│            ┆            ┆            ┆            ┆   ┆           ┆           ┆      ┆ (også     │\n",
       "│            ┆            ┆            ┆            ┆   ┆           ┆           ┆      ┆ blåsvart, │\n",
       "│            ┆            ┆            ┆            ┆   ┆           ┆           ┆      ┆ grafitt   │\n",
       "│            ┆            ┆            ┆            ┆   ┆           ┆           ┆      ┆ mø…       │\n",
       "│ 20231129   ┆ 2023-11-29 ┆ 2023-11-29 ┆ 2600       ┆ … ┆ 1         ┆ 5         ┆ 6    ┆ Svart     │\n",
       "│            ┆            ┆            ┆            ┆   ┆           ┆           ┆      ┆ (også     │\n",
       "│            ┆            ┆            ┆            ┆   ┆           ┆           ┆      ┆ blåsvart, │\n",
       "│            ┆            ┆            ┆            ┆   ┆           ┆           ┆      ┆ grafitt   │\n",
       "│            ┆            ┆            ┆            ┆   ┆           ┆           ┆      ┆ mø…       │\n",
       "│ 20200127   ┆ 2020-01-27 ┆ 2020-01-27 ┆ 5750       ┆ … ┆ 2         ┆ 2         ┆ 1    ┆ Hvit      │\n",
       "│            ┆            ┆            ┆            ┆   ┆           ┆           ┆      ┆ (også ant │\n",
       "│            ┆            ┆            ┆            ┆   ┆           ┆           ┆      ┆ ikkhvit,  │\n",
       "│            ┆            ┆            ┆            ┆   ┆           ┆           ┆      ┆ offwhite) │\n",
       "│ …          ┆ …          ┆ …          ┆ …          ┆ … ┆ …         ┆ …         ┆ …    ┆ …         │\n",
       "│ 20140117   ┆ 2014-01-17 ┆ 2018-07-31 ┆ 2600       ┆ … ┆ 2         ┆ 2         ┆ 5    ┆ Grå       │\n",
       "│ 20080331   ┆ 2008-03-31 ┆ 2023-07-28 ┆ 3930       ┆ … ┆ 0         ┆ 2         ┆ 5    ┆ Grå       │\n",
       "│ 20150731   ┆ 2015-07-31 ┆ 2023-06-30 ┆ 4500       ┆ … ┆ 1         ┆ 4         ┆ 1    ┆ Hvit      │\n",
       "│            ┆            ┆            ┆            ┆   ┆           ┆           ┆      ┆ (også ant │\n",
       "│            ┆            ┆            ┆            ┆   ┆           ┆           ┆      ┆ ikkhvit,  │\n",
       "│            ┆            ┆            ┆            ┆   ┆           ┆           ┆      ┆ offwhite) │\n",
       "│ 20040921   ┆ 2004-09-21 ┆ 2014-01-20 ┆ 5750       ┆ … ┆ 0         ┆ 5         ┆ 11   ┆ Sølv      │\n",
       "│            ┆            ┆            ┆            ┆   ┆           ┆           ┆      ┆ (også     │\n",
       "│            ┆            ┆            ┆            ┆   ┆           ┆           ┆      ┆ sølv      │\n",
       "│            ┆            ┆            ┆            ┆   ┆           ┆           ┆      ┆ metallic) │\n",
       "└────────────┴────────────┴────────────┴────────────┴───┴───────────┴───────────┴──────┴───────────┘"
      ]
     },
     "execution_count": 44,
     "metadata": {},
     "output_type": "execute_result"
    }
   ],
   "source": [
    "# 3.\n",
    "# Join inn navnet på fargen, det vil si, join “tekn_farge” med “kode” i fargekode.csv.\n",
    "# Pass på at du ikke mister noen biler som vi ikke vet fargen på.\n",
    "\n",
    "# Manipulrerer datasettet ved å joine det med et annet datasett: \n",
    "# Scanner inn og klargjør fargekode.csv for bruk av lazyFrame. Henter rader ved bruke av .collect.\n",
    "# Truncate_ragged_lines=True = Denne funksjonen er benyttet for at systemet skal ignorere avvik i forventede verdier,\n",
    "# og faktiske verdier i tuppelen.\n",
    "fargekode_df = pl.scan_csv(\"filer/fargekode.csv\", separator=\";\", truncate_ragged_lines=True).collect()\n",
    "\n",
    "#Fikser verdieen i kolonnen \"tekn_farge\" ved å fjerne \"0\",\n",
    "# slik at den stemmer overens med verdiene kolonnen \"kode\" i hjelpetabellen \"fargekode\".\n",
    "pl_df = pl_df.with_columns(\n",
    "    pl_df[\"tekn_farge\"].str.strip_chars(\"0\")\n",
    ")\n",
    "\n",
    "# Konverter \"kode\" til streng og gi den et annet navn.\n",
    "fargekode_df = fargekode_df.select([\n",
    "    pl.col(\"*\"),\n",
    "    pl.col(\"kode\").cast(pl.String).alias(\"fargekode\")\n",
    "])\n",
    "\n",
    "# Utfør venstre join basert på kolonnene tekn_farge og kode.\n",
    "joined_df = pl_df.join(\n",
    "    fargekode_df,\n",
    "    left_on=\"tekn_farge\",  # Kolonnenavn i pl_df.\n",
    "    right_on=\"fargekode\",  # Kolonnenavn i fargekode_df.\n",
    "    how=\"left\"\n",
    ")\n",
    "\n",
    "# Forsikrer at vi kan se biler vi ikke vet fargekoden på ved å legge inn en betingelse \"When\". \n",
    "# Hvis betingelsen \"when\" blir oppfylt genereres en tekstsom forteller bruker at \"fargekoden er ukjent\" \n",
    "# på den akutelle bilen. \n",
    "# Hvis fargekoden derimot er tilstede i kolonnen for farge, genereres teksten fra den opprinnelige tabellen.\n",
    "\n",
    "joined_df = joined_df.with_columns(\n",
    "    beskrivelse=pl.when(joined_df[\"kode\"].is_null()).then(pl.lit(\"Ukjent farge\")).otherwise(joined_df[\"beskrivelse\"])\n",
    ")\n",
    "\n",
    "joined_df"
   ]
  },
  {
   "cell_type": "code",
   "execution_count": 45,
   "id": "e20e3f4e-5861-4781-97e7-7d2dff479e91",
   "metadata": {},
   "outputs": [
    {
     "data": {
      "text/html": [
       "<div><style>\n",
       ".dataframe > thead > tr,\n",
       ".dataframe > tbody > tr {\n",
       "  text-align: right;\n",
       "  white-space: pre-wrap;\n",
       "}\n",
       "</style>\n",
       "<small>shape: (3_207_748, 14)</small><table border=\"1\" class=\"dataframe\"><thead><tr><th>tekn_reg_f_g</th><th>tekn_reg_f_g_n</th><th>tekn_reg_eier_dato</th><th>tekn_merke</th><th>tekn_modell</th><th>tekn_farge</th><th>tekn_drivstoff</th><th>tekn_siste_pkk</th><th>tekn_neste_pkk</th><th>tekn_aksler_drift</th><th>tekn_sitteplasser_totalt</th><th>kode</th><th>beskrivelse</th><th>elbil</th></tr><tr><td>i64</td><td>date</td><td>date</td><td>i64</td><td>str</td><td>str</td><td>str</td><td>str</td><td>date</td><td>i64</td><td>i64</td><td>i64</td><td>str</td><td>bool</td></tr></thead><tbody><tr><td>20211013</td><td>2021-10-13</td><td>2021-10-13</td><td>3900</td><td>&quot;VITO&quot;</td><td>&quot;5&quot;</td><td>&quot;2&quot;</td><td>null</td><td>2025-10-13</td><td>2</td><td>3</td><td>5</td><td>&quot;Grå&quot;</td><td>false</td></tr><tr><td>20200129</td><td>2020-01-29</td><td>2020-01-29</td><td>5750</td><td>&quot;CADDY&quot;</td><td>&quot;6&quot;</td><td>&quot;2&quot;</td><td>&quot;20231205&quot;</td><td>2026-01-29</td><td>2</td><td>2</td><td>6</td><td>&quot;Svart (også bl…</td><td>false</td></tr><tr><td>20231129</td><td>2023-11-29</td><td>2023-11-29</td><td>2600</td><td>&quot;Mustang Mach-E…</td><td>&quot;6&quot;</td><td>&quot;5&quot;</td><td>null</td><td>2027-11-29</td><td>1</td><td>5</td><td>6</td><td>&quot;Svart (også bl…</td><td>true</td></tr><tr><td>20200127</td><td>2020-01-27</td><td>2020-01-27</td><td>5750</td><td>&quot;CADDY&quot;</td><td>&quot;1&quot;</td><td>&quot;2&quot;</td><td>null</td><td>2024-01-27</td><td>2</td><td>2</td><td>1</td><td>&quot;Hvit (også ant…</td><td>false</td></tr><tr><td>20180731</td><td>2019-01-30</td><td>2019-01-30</td><td>2600</td><td>&quot;F-150 Platinum…</td><td>&quot;6&quot;</td><td>&quot;2&quot;</td><td>&quot;20220503&quot;</td><td>2024-05-03</td><td>2</td><td>2</td><td>6</td><td>&quot;Svart (også bl…</td><td>false</td></tr><tr><td>20200519</td><td>2020-05-19</td><td>2020-05-19</td><td>5750</td><td>&quot;CRAFTER&quot;</td><td>&quot;1&quot;</td><td>&quot;2&quot;</td><td>null</td><td>2024-05-19</td><td>1</td><td>3</td><td>1</td><td>&quot;Hvit (også ant…</td><td>false</td></tr><tr><td>20200911</td><td>2020-09-11</td><td>2022-02-16</td><td>5150</td><td>&quot;CITIGO&quot;</td><td>&quot;1&quot;</td><td>&quot;5&quot;</td><td>null</td><td>2024-09-11</td><td>1</td><td>4</td><td>1</td><td>&quot;Hvit (også ant…</td><td>true</td></tr><tr><td>20220512</td><td>2022-05-12</td><td>2022-05-12</td><td>5480</td><td>&quot;YARIS&quot;</td><td>&quot;4&quot;</td><td>&quot;1,5&quot;</td><td>null</td><td>2026-05-12</td><td>1</td><td>5</td><td>4</td><td>&quot;Grønn (også gr…</td><td>false</td></tr><tr><td>20221104</td><td>2022-11-04</td><td>2022-11-04</td><td>5480</td><td>&quot;RAV4&quot;</td><td>&quot;6&quot;</td><td>&quot;1,5,5&quot;</td><td>null</td><td>2026-11-04</td><td>2</td><td>5</td><td>6</td><td>&quot;Svart (også bl…</td><td>false</td></tr><tr><td>20210421</td><td>2021-04-21</td><td>2021-04-21</td><td>5480</td><td>&quot;TOYOTA LAND CR…</td><td>&quot;1&quot;</td><td>&quot;2&quot;</td><td>null</td><td>2025-04-21</td><td>2</td><td>2</td><td>1</td><td>&quot;Hvit (også ant…</td><td>false</td></tr><tr><td>20120127</td><td>2012-01-27</td><td>2019-02-19</td><td>5800</td><td>&quot;XC60&quot;</td><td>&quot;1&quot;</td><td>&quot;2&quot;</td><td>&quot;20220624&quot;</td><td>2024-06-24</td><td>2</td><td>5</td><td>1</td><td>&quot;Hvit (også ant…</td><td>false</td></tr><tr><td>20231027</td><td>2023-10-27</td><td>2023-10-27</td><td>8670</td><td>&quot;N175&quot;</td><td>&quot;6&quot;</td><td>&quot;2&quot;</td><td>&quot;20271027&quot;</td><td>null</td><td>2</td><td>2</td><td>6</td><td>&quot;Svart (også bl…</td><td>false</td></tr><tr><td>&hellip;</td><td>&hellip;</td><td>&hellip;</td><td>&hellip;</td><td>&hellip;</td><td>&hellip;</td><td>&hellip;</td><td>&hellip;</td><td>&hellip;</td><td>&hellip;</td><td>&hellip;</td><td>&hellip;</td><td>&hellip;</td><td>&hellip;</td></tr><tr><td>20031022</td><td>2003-10-22</td><td>2003-10-22</td><td>5150</td><td>&quot;FABIA&quot;</td><td>&quot;5&quot;</td><td>&quot;1&quot;</td><td>&quot;20171213&quot;</td><td>null</td><td>0</td><td>5</td><td>5</td><td>&quot;Grå&quot;</td><td>false</td></tr><tr><td>20081113</td><td>2008-11-13</td><td>2017-09-08</td><td>5800</td><td>&quot;FH-480&quot;</td><td>&quot;1&quot;</td><td>&quot;2&quot;</td><td>&quot;20190308&quot;</td><td>2020-03-08</td><td>0</td><td>2</td><td>1</td><td>&quot;Hvit (også ant…</td><td>false</td></tr><tr><td>20070104</td><td>2007-01-04</td><td>2007-01-04</td><td>5480</td><td>&quot;COROLLA&quot;</td><td>&quot;11&quot;</td><td>&quot;2&quot;</td><td>&quot;20230420&quot;</td><td>2025-04-30</td><td>0</td><td>5</td><td>11</td><td>&quot;Sølv (også søl…</td><td>false</td></tr><tr><td>20180131</td><td>2018-01-31</td><td>2023-08-04</td><td>2600</td><td>&quot;GALAXY&quot;</td><td>&quot;6&quot;</td><td>&quot;2&quot;</td><td>&quot;20231130&quot;</td><td>2026-01-31</td><td>2</td><td>2</td><td>6</td><td>&quot;Svart (også bl…</td><td>false</td></tr><tr><td>20180404</td><td>2018-04-04</td><td>2018-04-04</td><td>2001</td><td>&quot;NISSAN LEAF 40…</td><td>&quot;6&quot;</td><td>&quot;5&quot;</td><td>&quot;20220810&quot;</td><td>2024-08-31</td><td>1</td><td>5</td><td>6</td><td>&quot;Svart (også bl…</td><td>true</td></tr><tr><td>20170524</td><td>2017-05-24</td><td>2018-10-08</td><td>5480</td><td>&quot;C-HR&quot;</td><td>&quot;5&quot;</td><td>&quot;1&quot;</td><td>&quot;20230913&quot;</td><td>2025-09-30</td><td>2</td><td>5</td><td>5</td><td>&quot;Grå&quot;</td><td>false</td></tr><tr><td>19951102</td><td>2006-04-10</td><td>2020-11-13</td><td>1400</td><td>&quot;728IA&quot;</td><td>&quot;6&quot;</td><td>&quot;1&quot;</td><td>&quot;20170130&quot;</td><td>2019-01-31</td><td>0</td><td>5</td><td>6</td><td>&quot;Svart (også bl…</td><td>false</td></tr><tr><td>20031127</td><td>2003-11-27</td><td>2017-06-10</td><td>4350</td><td>&quot;ZAFIRA-A&quot;</td><td>&quot;11&quot;</td><td>&quot;1&quot;</td><td>&quot;20190514&quot;</td><td>2021-04-30</td><td>0</td><td>7</td><td>11</td><td>&quot;Sølv (også søl…</td><td>false</td></tr><tr><td>20140117</td><td>2014-01-17</td><td>2018-07-31</td><td>2600</td><td>&quot;RANGER&quot;</td><td>&quot;5&quot;</td><td>&quot;2&quot;</td><td>&quot;20220511&quot;</td><td>2024-06-30</td><td>2</td><td>2</td><td>5</td><td>&quot;Grå&quot;</td><td>false</td></tr><tr><td>20080331</td><td>2008-03-31</td><td>2023-07-28</td><td>3930</td><td>&quot;MX-5&quot;</td><td>&quot;5&quot;</td><td>&quot;1&quot;</td><td>&quot;20230816&quot;</td><td>2025-08-16</td><td>0</td><td>2</td><td>5</td><td>&quot;Grå&quot;</td><td>false</td></tr><tr><td>20150731</td><td>2015-07-31</td><td>2023-06-30</td><td>4500</td><td>&quot;iOn&quot;</td><td>&quot;1&quot;</td><td>&quot;5&quot;</td><td>&quot;20230320&quot;</td><td>2025-03-31</td><td>1</td><td>4</td><td>1</td><td>&quot;Hvit (også ant…</td><td>true</td></tr><tr><td>20040921</td><td>2004-09-21</td><td>2014-01-20</td><td>5750</td><td>&quot;POLO&quot;</td><td>&quot;11&quot;</td><td>&quot;1&quot;</td><td>&quot;20141017&quot;</td><td>null</td><td>0</td><td>5</td><td>11</td><td>&quot;Sølv (også søl…</td><td>false</td></tr></tbody></table></div>"
      ],
      "text/plain": [
       "shape: (3_207_748, 14)\n",
       "┌─────────────┬─────────────┬────────────┬────────────┬───┬────────────┬──────┬────────────┬───────┐\n",
       "│ tekn_reg_f_ ┆ tekn_reg_f_ ┆ tekn_reg_e ┆ tekn_merke ┆ … ┆ tekn_sitte ┆ kode ┆ beskrivels ┆ elbil │\n",
       "│ g           ┆ g_n         ┆ ier_dato   ┆ ---        ┆   ┆ plasser_to ┆ ---  ┆ e          ┆ ---   │\n",
       "│ ---         ┆ ---         ┆ ---        ┆ i64        ┆   ┆ talt       ┆ i64  ┆ ---        ┆ bool  │\n",
       "│ i64         ┆ date        ┆ date       ┆            ┆   ┆ ---        ┆      ┆ str        ┆       │\n",
       "│             ┆             ┆            ┆            ┆   ┆ i64        ┆      ┆            ┆       │\n",
       "╞═════════════╪═════════════╪════════════╪════════════╪═══╪════════════╪══════╪════════════╪═══════╡\n",
       "│ 20211013    ┆ 2021-10-13  ┆ 2021-10-13 ┆ 3900       ┆ … ┆ 3          ┆ 5    ┆ Grå        ┆ false │\n",
       "│ 20200129    ┆ 2020-01-29  ┆ 2020-01-29 ┆ 5750       ┆ … ┆ 2          ┆ 6    ┆ Svart      ┆ false │\n",
       "│             ┆             ┆            ┆            ┆   ┆            ┆      ┆ (også      ┆       │\n",
       "│             ┆             ┆            ┆            ┆   ┆            ┆      ┆ blåsvart,  ┆       │\n",
       "│             ┆             ┆            ┆            ┆   ┆            ┆      ┆ grafitt    ┆       │\n",
       "│             ┆             ┆            ┆            ┆   ┆            ┆      ┆ mø…        ┆       │\n",
       "│ 20231129    ┆ 2023-11-29  ┆ 2023-11-29 ┆ 2600       ┆ … ┆ 5          ┆ 6    ┆ Svart      ┆ true  │\n",
       "│             ┆             ┆            ┆            ┆   ┆            ┆      ┆ (også      ┆       │\n",
       "│             ┆             ┆            ┆            ┆   ┆            ┆      ┆ blåsvart,  ┆       │\n",
       "│             ┆             ┆            ┆            ┆   ┆            ┆      ┆ grafitt    ┆       │\n",
       "│             ┆             ┆            ┆            ┆   ┆            ┆      ┆ mø…        ┆       │\n",
       "│ 20200127    ┆ 2020-01-27  ┆ 2020-01-27 ┆ 5750       ┆ … ┆ 2          ┆ 1    ┆ Hvit (også ┆ false │\n",
       "│             ┆             ┆            ┆            ┆   ┆            ┆      ┆ antikkhvit ┆       │\n",
       "│             ┆             ┆            ┆            ┆   ┆            ┆      ┆ ,          ┆       │\n",
       "│             ┆             ┆            ┆            ┆   ┆            ┆      ┆ offwhite)  ┆       │\n",
       "│ …           ┆ …           ┆ …          ┆ …          ┆ … ┆ …          ┆ …    ┆ …          ┆ …     │\n",
       "│ 20140117    ┆ 2014-01-17  ┆ 2018-07-31 ┆ 2600       ┆ … ┆ 2          ┆ 5    ┆ Grå        ┆ false │\n",
       "│ 20080331    ┆ 2008-03-31  ┆ 2023-07-28 ┆ 3930       ┆ … ┆ 2          ┆ 5    ┆ Grå        ┆ false │\n",
       "│ 20150731    ┆ 2015-07-31  ┆ 2023-06-30 ┆ 4500       ┆ … ┆ 4          ┆ 1    ┆ Hvit (også ┆ true  │\n",
       "│             ┆             ┆            ┆            ┆   ┆            ┆      ┆ antikkhvit ┆       │\n",
       "│             ┆             ┆            ┆            ┆   ┆            ┆      ┆ ,          ┆       │\n",
       "│             ┆             ┆            ┆            ┆   ┆            ┆      ┆ offwhite)  ┆       │\n",
       "│ 20040921    ┆ 2004-09-21  ┆ 2014-01-20 ┆ 5750       ┆ … ┆ 5          ┆ 11   ┆ Sølv (også ┆ false │\n",
       "│             ┆             ┆            ┆            ┆   ┆            ┆      ┆ sølv       ┆       │\n",
       "│             ┆             ┆            ┆            ┆   ┆            ┆      ┆ metallic)  ┆       │\n",
       "└─────────────┴─────────────┴────────────┴────────────┴───┴────────────┴──────┴────────────┴───────┘"
      ]
     },
     "execution_count": 45,
     "metadata": {},
     "output_type": "execute_result"
    }
   ],
   "source": [
    "# 4. \n",
    "# Lag en kolonne “elbil” som er sann hvis drivstofftypen er kun elektrisk, false ellers.\n",
    "\n",
    "joined_df = joined_df.with_columns(\n",
    "    elbil=pl.col(\"tekn_drivstoff\").eq(pl.lit(\"5\"))\n",
    ");\n",
    "\n",
    "joined_df"
   ]
  },
  {
   "cell_type": "code",
   "execution_count": 49,
   "id": "8b7395f2-6cde-4363-8a5a-37793f0508bd",
   "metadata": {},
   "outputs": [
    {
     "data": {
      "text/html": [
       "<div><style>\n",
       ".dataframe > thead > tr,\n",
       ".dataframe > tbody > tr {\n",
       "  text-align: right;\n",
       "  white-space: pre-wrap;\n",
       "}\n",
       "</style>\n",
       "<small>shape: (3_207_748, 10)</small><table border=\"1\" class=\"dataframe\"><thead><tr><th>tekn_reg_f_g_n</th><th>tekn_reg_eier_dato</th><th>tekn_aksler_drift</th><th>tekn_merke</th><th>tekn_modell</th><th>tekn_drivstoff</th><th>tekn_neste_pkk</th><th>farge_kode</th><th>farge_beskrivelse</th><th>elbil</th></tr><tr><td>date</td><td>date</td><td>i64</td><td>i64</td><td>str</td><td>str</td><td>date</td><td>i64</td><td>str</td><td>bool</td></tr></thead><tbody><tr><td>2021-10-13</td><td>2021-10-13</td><td>2</td><td>3900</td><td>&quot;VITO&quot;</td><td>&quot;2&quot;</td><td>2025-10-13</td><td>5</td><td>&quot;Grå&quot;</td><td>false</td></tr><tr><td>2020-01-29</td><td>2020-01-29</td><td>2</td><td>5750</td><td>&quot;CADDY&quot;</td><td>&quot;2&quot;</td><td>2026-01-29</td><td>6</td><td>&quot;Svart (også bl…</td><td>false</td></tr><tr><td>2023-11-29</td><td>2023-11-29</td><td>1</td><td>2600</td><td>&quot;Mustang Mach-E…</td><td>&quot;5&quot;</td><td>2027-11-29</td><td>6</td><td>&quot;Svart (også bl…</td><td>true</td></tr><tr><td>2020-01-27</td><td>2020-01-27</td><td>2</td><td>5750</td><td>&quot;CADDY&quot;</td><td>&quot;2&quot;</td><td>2024-01-27</td><td>1</td><td>&quot;Hvit (også ant…</td><td>false</td></tr><tr><td>2019-01-30</td><td>2019-01-30</td><td>2</td><td>2600</td><td>&quot;F-150 Platinum…</td><td>&quot;2&quot;</td><td>2024-05-03</td><td>6</td><td>&quot;Svart (også bl…</td><td>false</td></tr><tr><td>2020-05-19</td><td>2020-05-19</td><td>1</td><td>5750</td><td>&quot;CRAFTER&quot;</td><td>&quot;2&quot;</td><td>2024-05-19</td><td>1</td><td>&quot;Hvit (også ant…</td><td>false</td></tr><tr><td>2020-09-11</td><td>2022-02-16</td><td>1</td><td>5150</td><td>&quot;CITIGO&quot;</td><td>&quot;5&quot;</td><td>2024-09-11</td><td>1</td><td>&quot;Hvit (også ant…</td><td>true</td></tr><tr><td>2022-05-12</td><td>2022-05-12</td><td>1</td><td>5480</td><td>&quot;YARIS&quot;</td><td>&quot;1,5&quot;</td><td>2026-05-12</td><td>4</td><td>&quot;Grønn (også gr…</td><td>false</td></tr><tr><td>2022-11-04</td><td>2022-11-04</td><td>2</td><td>5480</td><td>&quot;RAV4&quot;</td><td>&quot;1,5,5&quot;</td><td>2026-11-04</td><td>6</td><td>&quot;Svart (også bl…</td><td>false</td></tr><tr><td>2021-04-21</td><td>2021-04-21</td><td>2</td><td>5480</td><td>&quot;TOYOTA LAND CR…</td><td>&quot;2&quot;</td><td>2025-04-21</td><td>1</td><td>&quot;Hvit (også ant…</td><td>false</td></tr><tr><td>2012-01-27</td><td>2019-02-19</td><td>2</td><td>5800</td><td>&quot;XC60&quot;</td><td>&quot;2&quot;</td><td>2024-06-24</td><td>1</td><td>&quot;Hvit (også ant…</td><td>false</td></tr><tr><td>2023-10-27</td><td>2023-10-27</td><td>2</td><td>8670</td><td>&quot;N175&quot;</td><td>&quot;2&quot;</td><td>null</td><td>6</td><td>&quot;Svart (også bl…</td><td>false</td></tr><tr><td>&hellip;</td><td>&hellip;</td><td>&hellip;</td><td>&hellip;</td><td>&hellip;</td><td>&hellip;</td><td>&hellip;</td><td>&hellip;</td><td>&hellip;</td><td>&hellip;</td></tr><tr><td>2003-10-22</td><td>2003-10-22</td><td>0</td><td>5150</td><td>&quot;FABIA&quot;</td><td>&quot;1&quot;</td><td>null</td><td>5</td><td>&quot;Grå&quot;</td><td>false</td></tr><tr><td>2008-11-13</td><td>2017-09-08</td><td>0</td><td>5800</td><td>&quot;FH-480&quot;</td><td>&quot;2&quot;</td><td>2020-03-08</td><td>1</td><td>&quot;Hvit (også ant…</td><td>false</td></tr><tr><td>2007-01-04</td><td>2007-01-04</td><td>0</td><td>5480</td><td>&quot;COROLLA&quot;</td><td>&quot;2&quot;</td><td>2025-04-30</td><td>11</td><td>&quot;Sølv (også søl…</td><td>false</td></tr><tr><td>2018-01-31</td><td>2023-08-04</td><td>2</td><td>2600</td><td>&quot;GALAXY&quot;</td><td>&quot;2&quot;</td><td>2026-01-31</td><td>6</td><td>&quot;Svart (også bl…</td><td>false</td></tr><tr><td>2018-04-04</td><td>2018-04-04</td><td>1</td><td>2001</td><td>&quot;NISSAN LEAF 40…</td><td>&quot;5&quot;</td><td>2024-08-31</td><td>6</td><td>&quot;Svart (også bl…</td><td>true</td></tr><tr><td>2017-05-24</td><td>2018-10-08</td><td>2</td><td>5480</td><td>&quot;C-HR&quot;</td><td>&quot;1&quot;</td><td>2025-09-30</td><td>5</td><td>&quot;Grå&quot;</td><td>false</td></tr><tr><td>2006-04-10</td><td>2020-11-13</td><td>0</td><td>1400</td><td>&quot;728IA&quot;</td><td>&quot;1&quot;</td><td>2019-01-31</td><td>6</td><td>&quot;Svart (også bl…</td><td>false</td></tr><tr><td>2003-11-27</td><td>2017-06-10</td><td>0</td><td>4350</td><td>&quot;ZAFIRA-A&quot;</td><td>&quot;1&quot;</td><td>2021-04-30</td><td>11</td><td>&quot;Sølv (også søl…</td><td>false</td></tr><tr><td>2014-01-17</td><td>2018-07-31</td><td>2</td><td>2600</td><td>&quot;RANGER&quot;</td><td>&quot;2&quot;</td><td>2024-06-30</td><td>5</td><td>&quot;Grå&quot;</td><td>false</td></tr><tr><td>2008-03-31</td><td>2023-07-28</td><td>0</td><td>3930</td><td>&quot;MX-5&quot;</td><td>&quot;1&quot;</td><td>2025-08-16</td><td>5</td><td>&quot;Grå&quot;</td><td>false</td></tr><tr><td>2015-07-31</td><td>2023-06-30</td><td>1</td><td>4500</td><td>&quot;iOn&quot;</td><td>&quot;5&quot;</td><td>2025-03-31</td><td>1</td><td>&quot;Hvit (også ant…</td><td>true</td></tr><tr><td>2004-09-21</td><td>2014-01-20</td><td>0</td><td>5750</td><td>&quot;POLO&quot;</td><td>&quot;1&quot;</td><td>null</td><td>11</td><td>&quot;Sølv (også søl…</td><td>false</td></tr></tbody></table></div>"
      ],
      "text/plain": [
       "shape: (3_207_748, 10)\n",
       "┌────────────┬────────────┬────────────┬───────────┬───┬───────────┬───────────┬───────────┬───────┐\n",
       "│ tekn_reg_f ┆ tekn_reg_e ┆ tekn_aksle ┆ tekn_merk ┆ … ┆ tekn_nest ┆ farge_kod ┆ farge_bes ┆ elbil │\n",
       "│ _g_n       ┆ ier_dato   ┆ r_drift    ┆ e         ┆   ┆ e_pkk     ┆ e         ┆ krivelse  ┆ ---   │\n",
       "│ ---        ┆ ---        ┆ ---        ┆ ---       ┆   ┆ ---       ┆ ---       ┆ ---       ┆ bool  │\n",
       "│ date       ┆ date       ┆ i64        ┆ i64       ┆   ┆ date      ┆ i64       ┆ str       ┆       │\n",
       "╞════════════╪════════════╪════════════╪═══════════╪═══╪═══════════╪═══════════╪═══════════╪═══════╡\n",
       "│ 2021-10-13 ┆ 2021-10-13 ┆ 2          ┆ 3900      ┆ … ┆ 2025-10-1 ┆ 5         ┆ Grå       ┆ false │\n",
       "│            ┆            ┆            ┆           ┆   ┆ 3         ┆           ┆           ┆       │\n",
       "│ 2020-01-29 ┆ 2020-01-29 ┆ 2          ┆ 5750      ┆ … ┆ 2026-01-2 ┆ 6         ┆ Svart     ┆ false │\n",
       "│            ┆            ┆            ┆           ┆   ┆ 9         ┆           ┆ (også     ┆       │\n",
       "│            ┆            ┆            ┆           ┆   ┆           ┆           ┆ blåsvart, ┆       │\n",
       "│            ┆            ┆            ┆           ┆   ┆           ┆           ┆ grafitt   ┆       │\n",
       "│            ┆            ┆            ┆           ┆   ┆           ┆           ┆ mø…       ┆       │\n",
       "│ 2023-11-29 ┆ 2023-11-29 ┆ 1          ┆ 2600      ┆ … ┆ 2027-11-2 ┆ 6         ┆ Svart     ┆ true  │\n",
       "│            ┆            ┆            ┆           ┆   ┆ 9         ┆           ┆ (også     ┆       │\n",
       "│            ┆            ┆            ┆           ┆   ┆           ┆           ┆ blåsvart, ┆       │\n",
       "│            ┆            ┆            ┆           ┆   ┆           ┆           ┆ grafitt   ┆       │\n",
       "│            ┆            ┆            ┆           ┆   ┆           ┆           ┆ mø…       ┆       │\n",
       "│ 2020-01-27 ┆ 2020-01-27 ┆ 2          ┆ 5750      ┆ … ┆ 2024-01-2 ┆ 1         ┆ Hvit      ┆ false │\n",
       "│            ┆            ┆            ┆           ┆   ┆ 7         ┆           ┆ (også ant ┆       │\n",
       "│            ┆            ┆            ┆           ┆   ┆           ┆           ┆ ikkhvit,  ┆       │\n",
       "│            ┆            ┆            ┆           ┆   ┆           ┆           ┆ offwhite) ┆       │\n",
       "│ …          ┆ …          ┆ …          ┆ …         ┆ … ┆ …         ┆ …         ┆ …         ┆ …     │\n",
       "│ 2014-01-17 ┆ 2018-07-31 ┆ 2          ┆ 2600      ┆ … ┆ 2024-06-3 ┆ 5         ┆ Grå       ┆ false │\n",
       "│            ┆            ┆            ┆           ┆   ┆ 0         ┆           ┆           ┆       │\n",
       "│ 2008-03-31 ┆ 2023-07-28 ┆ 0          ┆ 3930      ┆ … ┆ 2025-08-1 ┆ 5         ┆ Grå       ┆ false │\n",
       "│            ┆            ┆            ┆           ┆   ┆ 6         ┆           ┆           ┆       │\n",
       "│ 2015-07-31 ┆ 2023-06-30 ┆ 1          ┆ 4500      ┆ … ┆ 2025-03-3 ┆ 1         ┆ Hvit      ┆ true  │\n",
       "│            ┆            ┆            ┆           ┆   ┆ 1         ┆           ┆ (også ant ┆       │\n",
       "│            ┆            ┆            ┆           ┆   ┆           ┆           ┆ ikkhvit,  ┆       │\n",
       "│            ┆            ┆            ┆           ┆   ┆           ┆           ┆ offwhite) ┆       │\n",
       "│ 2004-09-21 ┆ 2014-01-20 ┆ 0          ┆ 5750      ┆ … ┆ null      ┆ 11        ┆ Sølv      ┆ false │\n",
       "│            ┆            ┆            ┆           ┆   ┆           ┆           ┆ (også     ┆       │\n",
       "│            ┆            ┆            ┆           ┆   ┆           ┆           ┆ sølv      ┆       │\n",
       "│            ┆            ┆            ┆           ┆   ┆           ┆           ┆ metallic) ┆       │\n",
       "└────────────┴────────────┴────────────┴───────────┴───┴───────────┴───────────┴───────────┴───────┘"
      ]
     },
     "execution_count": 49,
     "metadata": {},
     "output_type": "execute_result"
    }
   ],
   "source": [
    "# 5. \n",
    "# Hent ut bare kolonnene: tekn_reg_f_g_n, tekn_reg_eier_dato, tekn_aksler_drift, tekn_merke, tekn_modell,\n",
    "# tekn_drivstoff, tekn_neste_pkk, farge på bilen fra fargekode.csv,\n",
    "# tekn_drivstoff, kolonne som indikerer om bilen er en elbil.\n",
    "\n",
    "#Lagrer det foretrukne datasettet\n",
    "\n",
    "pl_df = joined_df.select([\n",
    "    pl.col(\"tekn_reg_f_g_n\"), \n",
    "    pl.col(\"tekn_reg_eier_dato\"), \n",
    "    pl.col(\"tekn_aksler_drift\"), \n",
    "    pl.col(\"tekn_merke\"), \n",
    "    pl.col(\"tekn_modell\"), \n",
    "    pl.col(\"tekn_drivstoff\"), \n",
    "    pl.col(\"tekn_neste_pkk\"), \n",
    "    pl.col(\"kode\").alias(\"farge_kode\"), \n",
    "    pl.col(\"beskrivelse\").alias(\"farge_beskrivelse\"),  \n",
    "    pl.col(\"elbil\")\n",
    "])\n",
    "\n",
    "pl_df"
   ]
  },
  {
   "cell_type": "code",
   "execution_count": 50,
   "id": "c5035e11-788d-49fb-841e-7841ef841681",
   "metadata": {},
   "outputs": [],
   "source": [
    "# 6.\n",
    "# Skriv hele datasettet til en fil: kjoretoyinfo_preppet.parquet.\n",
    "\n",
    "pl_df.write_parquet(\"filer/kjoretoyinfo_preppet.parquet\")"
   ]
  }
 ],
 "metadata": {
  "kernelspec": {
   "display_name": "Python 3 (ipykernel)",
   "language": "python",
   "name": "python3"
  },
  "language_info": {
   "codemirror_mode": {
    "name": "ipython",
    "version": 3
   },
   "file_extension": ".py",
   "mimetype": "text/x-python",
   "name": "python",
   "nbconvert_exporter": "python",
   "pygments_lexer": "ipython3",
   "version": "3.10.13"
  }
 },
 "nbformat": 4,
 "nbformat_minor": 5
}

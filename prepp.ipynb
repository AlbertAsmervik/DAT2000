{
 "cells": [
  {
   "cell_type": "code",
   "execution_count": 8,
   "id": "280c8504-facd-47c8-9eb7-59a5732936b3",
   "metadata": {},
   "outputs": [],
   "source": [
    "import polars as pl"
   ]
  },
  {
   "cell_type": "code",
   "execution_count": 17,
   "id": "80af3958-a7ce-4a3a-82a7-f8b401394549",
   "metadata": {},
   "outputs": [],
   "source": [
    "df = pl.scan_parquet(\"filer/kjoretoyinfo_fra_2000.parquet\").head(10).collect()"
   ]
  },
  {
   "cell_type": "code",
   "execution_count": 18,
   "id": "adc20289-8026-4a27-aa88-72810c062873",
   "metadata": {},
   "outputs": [
    {
     "data": {
      "text/html": [
       "<div><style>\n",
       ".dataframe > thead > tr,\n",
       ".dataframe > tbody > tr {\n",
       "  text-align: right;\n",
       "  white-space: pre-wrap;\n",
       "}\n",
       "</style>\n",
       "<small>shape: (10, 11)</small><table border=\"1\" class=\"dataframe\"><thead><tr><th>tekn_reg_f_g</th><th>tekn_reg_f_g_n</th><th>tekn_reg_eier_dato</th><th>tekn_merke</th><th>tekn_modell</th><th>tekn_farge</th><th>tekn_drivstoff</th><th>tekn_siste_pkk</th><th>tekn_neste_pkk</th><th>tekn_aksler_drift</th><th>tekn_sitteplasser_totalt</th></tr><tr><td>i64</td><td>i64</td><td>i64</td><td>i64</td><td>str</td><td>str</td><td>str</td><td>str</td><td>str</td><td>i64</td><td>i64</td></tr></thead><tbody><tr><td>20211013</td><td>20211013</td><td>20211013</td><td>3900</td><td>&quot;VITO&quot;</td><td>&quot;05&quot;</td><td>&quot;2&quot;</td><td>null</td><td>&quot;20251013&quot;</td><td>2</td><td>3</td></tr><tr><td>20200129</td><td>20200129</td><td>20200129</td><td>5750</td><td>&quot;CADDY&quot;</td><td>&quot;06&quot;</td><td>&quot;2&quot;</td><td>&quot;20231205&quot;</td><td>&quot;20260129&quot;</td><td>2</td><td>2</td></tr><tr><td>20231129</td><td>20231129</td><td>20231129</td><td>2600</td><td>&quot;Mustang Mach-E…</td><td>&quot;06&quot;</td><td>&quot;5&quot;</td><td>null</td><td>&quot;20271129&quot;</td><td>1</td><td>5</td></tr><tr><td>20200127</td><td>20200127</td><td>20200127</td><td>5750</td><td>&quot;CADDY&quot;</td><td>&quot;01&quot;</td><td>&quot;2&quot;</td><td>null</td><td>&quot;20240127&quot;</td><td>2</td><td>2</td></tr><tr><td>20180731</td><td>20190130</td><td>20190130</td><td>2600</td><td>&quot;F-150 Platinum…</td><td>&quot;06&quot;</td><td>&quot;2&quot;</td><td>&quot;20220503&quot;</td><td>&quot;20240503&quot;</td><td>2</td><td>2</td></tr><tr><td>20200519</td><td>20200519</td><td>20200519</td><td>5750</td><td>&quot;CRAFTER&quot;</td><td>&quot;01&quot;</td><td>&quot;2&quot;</td><td>null</td><td>&quot;20240519&quot;</td><td>1</td><td>3</td></tr><tr><td>20200911</td><td>20200911</td><td>20220216</td><td>5150</td><td>&quot;CITIGO&quot;</td><td>&quot;01&quot;</td><td>&quot;5&quot;</td><td>null</td><td>&quot;20240911&quot;</td><td>1</td><td>4</td></tr><tr><td>20220512</td><td>20220512</td><td>20220512</td><td>5480</td><td>&quot;YARIS&quot;</td><td>&quot;04&quot;</td><td>&quot;1,5&quot;</td><td>null</td><td>&quot;20260512&quot;</td><td>1</td><td>5</td></tr><tr><td>20221104</td><td>20221104</td><td>20221104</td><td>5480</td><td>&quot;RAV4&quot;</td><td>&quot;06&quot;</td><td>&quot;1,5,5&quot;</td><td>null</td><td>&quot;20261104&quot;</td><td>2</td><td>5</td></tr><tr><td>20210421</td><td>20210421</td><td>20210421</td><td>5480</td><td>&quot;TOYOTA LAND CR…</td><td>&quot;01&quot;</td><td>&quot;2&quot;</td><td>null</td><td>&quot;20250421&quot;</td><td>2</td><td>2</td></tr></tbody></table></div>"
      ],
      "text/plain": [
       "shape: (10, 11)\n",
       "┌───────────┬───────────┬───────────┬───────────┬───┬───────────┬───────────┬───────────┬──────────┐\n",
       "│ tekn_reg_ ┆ tekn_reg_ ┆ tekn_reg_ ┆ tekn_merk ┆ … ┆ tekn_sist ┆ tekn_nest ┆ tekn_aksl ┆ tekn_sit │\n",
       "│ f_g       ┆ f_g_n     ┆ eier_dato ┆ e         ┆   ┆ e_pkk     ┆ e_pkk     ┆ er_drift  ┆ teplasse │\n",
       "│ ---       ┆ ---       ┆ ---       ┆ ---       ┆   ┆ ---       ┆ ---       ┆ ---       ┆ r_totalt │\n",
       "│ i64       ┆ i64       ┆ i64       ┆ i64       ┆   ┆ str       ┆ str       ┆ i64       ┆ ---      │\n",
       "│           ┆           ┆           ┆           ┆   ┆           ┆           ┆           ┆ i64      │\n",
       "╞═══════════╪═══════════╪═══════════╪═══════════╪═══╪═══════════╪═══════════╪═══════════╪══════════╡\n",
       "│ 20211013  ┆ 20211013  ┆ 20211013  ┆ 3900      ┆ … ┆ null      ┆ 20251013  ┆ 2         ┆ 3        │\n",
       "│ 20200129  ┆ 20200129  ┆ 20200129  ┆ 5750      ┆ … ┆ 20231205  ┆ 20260129  ┆ 2         ┆ 2        │\n",
       "│ 20231129  ┆ 20231129  ┆ 20231129  ┆ 2600      ┆ … ┆ null      ┆ 20271129  ┆ 1         ┆ 5        │\n",
       "│ 20200127  ┆ 20200127  ┆ 20200127  ┆ 5750      ┆ … ┆ null      ┆ 20240127  ┆ 2         ┆ 2        │\n",
       "│ …         ┆ …         ┆ …         ┆ …         ┆ … ┆ …         ┆ …         ┆ …         ┆ …        │\n",
       "│ 20200911  ┆ 20200911  ┆ 20220216  ┆ 5150      ┆ … ┆ null      ┆ 20240911  ┆ 1         ┆ 4        │\n",
       "│ 20220512  ┆ 20220512  ┆ 20220512  ┆ 5480      ┆ … ┆ null      ┆ 20260512  ┆ 1         ┆ 5        │\n",
       "│ 20221104  ┆ 20221104  ┆ 20221104  ┆ 5480      ┆ … ┆ null      ┆ 20261104  ┆ 2         ┆ 5        │\n",
       "│ 20210421  ┆ 20210421  ┆ 20210421  ┆ 5480      ┆ … ┆ null      ┆ 20250421  ┆ 2         ┆ 2        │\n",
       "└───────────┴───────────┴───────────┴───────────┴───┴───────────┴───────────┴───────────┴──────────┘"
      ]
     },
     "execution_count": 18,
     "metadata": {},
     "output_type": "execute_result"
    }
   ],
   "source": [
    "df"
   ]
  },
  {
   "cell_type": "code",
   "execution_count": null,
   "id": "0912b082-8fad-4321-8c78-77c9de994f35",
   "metadata": {},
   "outputs": [],
   "source": [
    "df = df.with_column(df['tekn_reg_f_g_n'].cast(pl.Int32))"
   ]
  }
 ],
 "metadata": {
  "kernelspec": {
   "display_name": "Python 3 (ipykernel)",
   "language": "python",
   "name": "python3"
  },
  "language_info": {
   "codemirror_mode": {
    "name": "ipython",
    "version": 3
   },
   "file_extension": ".py",
   "mimetype": "text/x-python",
   "name": "python",
   "nbconvert_exporter": "python",
   "pygments_lexer": "ipython3",
   "version": "3.10.13"
  }
 },
 "nbformat": 4,
 "nbformat_minor": 5
}
